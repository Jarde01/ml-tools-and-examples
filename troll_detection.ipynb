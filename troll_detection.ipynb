{
  "nbformat": 4,
  "nbformat_minor": 0,
  "metadata": {
    "colab": {
      "name": "troll-detection.ipynb",
      "version": "0.3.2",
      "provenance": [],
      "include_colab_link": true
    },
    "kernelspec": {
      "name": "python3",
      "display_name": "Python 3"
    }
  },
  "cells": [
    {
      "cell_type": "markdown",
      "metadata": {
        "id": "view-in-github",
        "colab_type": "text"
      },
      "source": [
        "<a href=\"https://colab.research.google.com/github/Jarde01/ml-tools-and-examples/blob/master/troll_detection.ipynb\" target=\"_parent\"><img src=\"https://colab.research.google.com/assets/colab-badge.svg\" alt=\"Open In Colab\"/></a>"
      ]
    },
    {
      "cell_type": "code",
      "metadata": {
        "id": "eS41Y0ph7wLs",
        "colab_type": "code",
        "outputId": "2da52b88-f03a-46ae-f236-706bb991e24d",
        "colab": {
          "base_uri": "https://localhost:8080/",
          "height": 588
        }
      },
      "source": [
        "pip install pytorch-transformers"
      ],
      "execution_count": 2,
      "outputs": [
        {
          "output_type": "stream",
          "text": [
            "Collecting pytorch-transformers\n",
            "\u001b[?25l  Downloading https://files.pythonhosted.org/packages/40/b5/2d78e74001af0152ee61d5ad4e290aec9a1e43925b21df2dc74ec100f1ab/pytorch_transformers-1.0.0-py3-none-any.whl (137kB)\n",
            "\r\u001b[K     |██▍                             | 10kB 14.3MB/s eta 0:00:01\r\u001b[K     |████▊                           | 20kB 3.2MB/s eta 0:00:01\r\u001b[K     |███████▏                        | 30kB 4.7MB/s eta 0:00:01\r\u001b[K     |█████████▌                      | 40kB 3.0MB/s eta 0:00:01\r\u001b[K     |████████████                    | 51kB 3.7MB/s eta 0:00:01\r\u001b[K     |██████████████▎                 | 61kB 4.4MB/s eta 0:00:01\r\u001b[K     |████████████████▊               | 71kB 4.9MB/s eta 0:00:01\r\u001b[K     |███████████████████             | 81kB 5.5MB/s eta 0:00:01\r\u001b[K     |█████████████████████▌          | 92kB 6.1MB/s eta 0:00:01\r\u001b[K     |███████████████████████▉        | 102kB 4.9MB/s eta 0:00:01\r\u001b[K     |██████████████████████████▎     | 112kB 4.9MB/s eta 0:00:01\r\u001b[K     |████████████████████████████▋   | 122kB 4.9MB/s eta 0:00:01\r\u001b[K     |███████████████████████████████ | 133kB 4.9MB/s eta 0:00:01\r\u001b[K     |████████████████████████████████| 143kB 4.9MB/s \n",
            "\u001b[?25hRequirement already satisfied: tqdm in /usr/local/lib/python3.6/dist-packages (from pytorch-transformers) (4.28.1)\n",
            "Requirement already satisfied: requests in /usr/local/lib/python3.6/dist-packages (from pytorch-transformers) (2.21.0)\n",
            "Collecting sentencepiece (from pytorch-transformers)\n",
            "\u001b[?25l  Downloading https://files.pythonhosted.org/packages/00/95/7f357995d5eb1131aa2092096dca14a6fc1b1d2860bd99c22a612e1d1019/sentencepiece-0.1.82-cp36-cp36m-manylinux1_x86_64.whl (1.0MB)\n",
            "\u001b[K     |████████████████████████████████| 1.0MB 45.5MB/s \n",
            "\u001b[?25hCollecting regex (from pytorch-transformers)\n",
            "\u001b[?25l  Downloading https://files.pythonhosted.org/packages/6f/4e/1b178c38c9a1a184288f72065a65ca01f3154df43c6ad898624149b8b4e0/regex-2019.06.08.tar.gz (651kB)\n",
            "\u001b[K     |████████████████████████████████| 655kB 44.9MB/s \n",
            "\u001b[?25hRequirement already satisfied: torch>=0.4.1 in /usr/local/lib/python3.6/dist-packages (from pytorch-transformers) (1.1.0)\n",
            "Requirement already satisfied: boto3 in /usr/local/lib/python3.6/dist-packages (from pytorch-transformers) (1.9.189)\n",
            "Requirement already satisfied: numpy in /usr/local/lib/python3.6/dist-packages (from pytorch-transformers) (1.16.4)\n",
            "Requirement already satisfied: certifi>=2017.4.17 in /usr/local/lib/python3.6/dist-packages (from requests->pytorch-transformers) (2019.6.16)\n",
            "Requirement already satisfied: idna<2.9,>=2.5 in /usr/local/lib/python3.6/dist-packages (from requests->pytorch-transformers) (2.8)\n",
            "Requirement already satisfied: chardet<3.1.0,>=3.0.2 in /usr/local/lib/python3.6/dist-packages (from requests->pytorch-transformers) (3.0.4)\n",
            "Requirement already satisfied: urllib3<1.25,>=1.21.1 in /usr/local/lib/python3.6/dist-packages (from requests->pytorch-transformers) (1.24.3)\n",
            "Requirement already satisfied: s3transfer<0.3.0,>=0.2.0 in /usr/local/lib/python3.6/dist-packages (from boto3->pytorch-transformers) (0.2.1)\n",
            "Requirement already satisfied: jmespath<1.0.0,>=0.7.1 in /usr/local/lib/python3.6/dist-packages (from boto3->pytorch-transformers) (0.9.4)\n",
            "Requirement already satisfied: botocore<1.13.0,>=1.12.189 in /usr/local/lib/python3.6/dist-packages (from boto3->pytorch-transformers) (1.12.189)\n",
            "Requirement already satisfied: docutils>=0.10 in /usr/local/lib/python3.6/dist-packages (from botocore<1.13.0,>=1.12.189->boto3->pytorch-transformers) (0.14)\n",
            "Requirement already satisfied: python-dateutil<3.0.0,>=2.1; python_version >= \"2.7\" in /usr/local/lib/python3.6/dist-packages (from botocore<1.13.0,>=1.12.189->boto3->pytorch-transformers) (2.5.3)\n",
            "Requirement already satisfied: six>=1.5 in /usr/local/lib/python3.6/dist-packages (from python-dateutil<3.0.0,>=2.1; python_version >= \"2.7\"->botocore<1.13.0,>=1.12.189->boto3->pytorch-transformers) (1.12.0)\n",
            "Building wheels for collected packages: regex\n",
            "  Building wheel for regex (setup.py) ... \u001b[?25l\u001b[?25hdone\n",
            "  Stored in directory: /root/.cache/pip/wheels/35/e4/80/abf3b33ba89cf65cd262af8a22a5a999cc28fbfabea6b38473\n",
            "Successfully built regex\n",
            "Installing collected packages: sentencepiece, regex, pytorch-transformers\n",
            "Successfully installed pytorch-transformers-1.0.0 regex-2019.6.8 sentencepiece-0.1.82\n"
          ],
          "name": "stdout"
        }
      ]
    },
    {
      "cell_type": "code",
      "metadata": {
        "id": "hZemLitfjmYE",
        "colab_type": "code",
        "colab": {
          "base_uri": "https://localhost:8080/",
          "height": 1000
        },
        "outputId": "f563bf54-c6ad-4eb5-c4dc-c00cca156104"
      },
      "source": [
        "pip install wandb"
      ],
      "execution_count": 4,
      "outputs": [
        {
          "output_type": "stream",
          "text": [
            "Collecting wandb\n",
            "\u001b[?25l  Downloading https://files.pythonhosted.org/packages/12/9a/35c846af421716ce15a2391f37879f343e03a5c706f8075b9f9dfeb7ce1c/wandb-0.8.5-py2.py3-none-any.whl (1.3MB)\n",
            "\u001b[K     |████████████████████████████████| 1.3MB 4.9MB/s \n",
            "\u001b[?25hRequirement already satisfied: six>=1.10.0 in /usr/local/lib/python3.6/dist-packages (from wandb) (1.12.0)\n",
            "Collecting subprocess32>=3.5.3 (from wandb)\n",
            "\u001b[?25l  Downloading https://files.pythonhosted.org/packages/32/c8/564be4d12629b912ea431f1a50eb8b3b9d00f1a0b1ceff17f266be190007/subprocess32-3.5.4.tar.gz (97kB)\n",
            "\u001b[K     |████████████████████████████████| 102kB 24.8MB/s \n",
            "\u001b[?25hCollecting docker-pycreds>=0.4.0 (from wandb)\n",
            "  Downloading https://files.pythonhosted.org/packages/f5/e8/f6bd1eee09314e7e6dee49cbe2c5e22314ccdb38db16c9fc72d2fa80d054/docker_pycreds-0.4.0-py2.py3-none-any.whl\n",
            "Collecting GitPython>=1.0.0 (from wandb)\n",
            "\u001b[?25l  Downloading https://files.pythonhosted.org/packages/3c/d3/aecfe42163233de6071248ea7565e97ba1c51e345a9e1dcc128dd1e46c1e/GitPython-2.1.13-py2.py3-none-any.whl (452kB)\n",
            "\u001b[K     |████████████████████████████████| 460kB 40.5MB/s \n",
            "\u001b[?25hRequirement already satisfied: nvidia-ml-py3>=7.352.0 in /usr/local/lib/python3.6/dist-packages (from wandb) (7.352.0)\n",
            "Collecting sentry-sdk>=0.4.0 (from wandb)\n",
            "\u001b[?25l  Downloading https://files.pythonhosted.org/packages/95/38/7f691570ed9e85479dbe4e0959ae223d364693708ba6d293d850b657f1a0/sentry_sdk-0.10.2-py2.py3-none-any.whl (78kB)\n",
            "\u001b[K     |████████████████████████████████| 81kB 23.1MB/s \n",
            "\u001b[?25hRequirement already satisfied: Click>=7.0 in /usr/local/lib/python3.6/dist-packages (from wandb) (7.0)\n",
            "Collecting gql>=0.1.0 (from wandb)\n",
            "  Downloading https://files.pythonhosted.org/packages/aa/9c/2933b7791210e00f5c26a6243198cc03af9132c29cf85e4c22cb007f171e/gql-0.1.0.tar.gz\n",
            "Collecting python-dateutil>=2.6.1 (from wandb)\n",
            "\u001b[?25l  Downloading https://files.pythonhosted.org/packages/41/17/c62faccbfbd163c7f57f3844689e3a78bae1f403648a6afb1d0866d87fbb/python_dateutil-2.8.0-py2.py3-none-any.whl (226kB)\n",
            "\u001b[K     |████████████████████████████████| 235kB 38.7MB/s \n",
            "\u001b[?25hRequirement already satisfied: requests>=2.0.0 in /usr/local/lib/python3.6/dist-packages (from wandb) (2.21.0)\n",
            "Requirement already satisfied: psutil>=5.0.0 in /usr/local/lib/python3.6/dist-packages (from wandb) (5.4.8)\n",
            "Collecting watchdog>=0.8.3 (from wandb)\n",
            "\u001b[?25l  Downloading https://files.pythonhosted.org/packages/bb/e3/5a55d48a29300160779f0a0d2776d17c1b762a2039b36de528b093b87d5b/watchdog-0.9.0.tar.gz (85kB)\n",
            "\u001b[K     |████████████████████████████████| 92kB 27.3MB/s \n",
            "\u001b[?25hCollecting shortuuid>=0.5.0 (from wandb)\n",
            "  Downloading https://files.pythonhosted.org/packages/80/d7/2bfc9332e68d3e15ea97b9b1588b3899ad565120253d3fd71c8f7f13b4fe/shortuuid-0.5.0.tar.gz\n",
            "Requirement already satisfied: backports.tempfile>=1.0 in /usr/local/lib/python3.6/dist-packages (from wandb) (1.0)\n",
            "Collecting gitdb2>=2.0.0 (from GitPython>=1.0.0->wandb)\n",
            "\u001b[?25l  Downloading https://files.pythonhosted.org/packages/da/30/a407568aa8d8f25db817cf50121a958722f3fc5f87e3a6fba1f40c0633e3/gitdb2-2.0.5-py2.py3-none-any.whl (62kB)\n",
            "\u001b[K     |████████████████████████████████| 71kB 24.1MB/s \n",
            "\u001b[?25hRequirement already satisfied: certifi in /usr/local/lib/python3.6/dist-packages (from sentry-sdk>=0.4.0->wandb) (2019.6.16)\n",
            "Requirement already satisfied: urllib3 in /usr/local/lib/python3.6/dist-packages (from sentry-sdk>=0.4.0->wandb) (1.24.3)\n",
            "Collecting graphql-core>=0.5.0 (from gql>=0.1.0->wandb)\n",
            "\u001b[?25l  Downloading https://files.pythonhosted.org/packages/6a/11/bc4a7eb440124271289d93e4d208bd07d94196038fabbe2a52435a07d3d3/graphql_core-2.2.1-py2.py3-none-any.whl (250kB)\n",
            "\u001b[K     |████████████████████████████████| 256kB 36.3MB/s \n",
            "\u001b[?25hRequirement already satisfied: promise>=0.4.0 in /usr/local/lib/python3.6/dist-packages (from gql>=0.1.0->wandb) (2.2.1)\n",
            "Requirement already satisfied: chardet<3.1.0,>=3.0.2 in /usr/local/lib/python3.6/dist-packages (from requests>=2.0.0->wandb) (3.0.4)\n",
            "Requirement already satisfied: idna<2.9,>=2.5 in /usr/local/lib/python3.6/dist-packages (from requests>=2.0.0->wandb) (2.8)\n",
            "Requirement already satisfied: PyYAML>=3.10 in /usr/local/lib/python3.6/dist-packages (from watchdog>=0.8.3->wandb) (3.13)\n",
            "Collecting argh>=0.24.1 (from watchdog>=0.8.3->wandb)\n",
            "  Downloading https://files.pythonhosted.org/packages/06/1c/e667a7126f0b84aaa1c56844337bf0ac12445d1beb9c8a6199a7314944bf/argh-0.26.2-py2.py3-none-any.whl\n",
            "Collecting pathtools>=0.1.1 (from watchdog>=0.8.3->wandb)\n",
            "  Downloading https://files.pythonhosted.org/packages/e7/7f/470d6fcdf23f9f3518f6b0b76be9df16dcc8630ad409947f8be2eb0ed13a/pathtools-0.1.2.tar.gz\n",
            "Requirement already satisfied: backports.weakref in /usr/local/lib/python3.6/dist-packages (from backports.tempfile>=1.0->wandb) (1.0.post1)\n",
            "Collecting smmap2>=2.0.0 (from gitdb2>=2.0.0->GitPython>=1.0.0->wandb)\n",
            "  Downloading https://files.pythonhosted.org/packages/55/d2/866d45e3a121ee15a1dc013824d58072fd5c7799c9c34d01378eb262ca8f/smmap2-2.0.5-py2.py3-none-any.whl\n",
            "Collecting rx<3,>=1.6 (from graphql-core>=0.5.0->gql>=0.1.0->wandb)\n",
            "\u001b[?25l  Downloading https://files.pythonhosted.org/packages/33/0f/5ef4ac78e2a538cc1b054eb86285fe0bf7a5dbaeaac2c584757c300515e2/Rx-1.6.1-py2.py3-none-any.whl (179kB)\n",
            "\u001b[K     |████████████████████████████████| 184kB 42.6MB/s \n",
            "\u001b[?25hBuilding wheels for collected packages: subprocess32, gql, watchdog, shortuuid, pathtools\n",
            "  Building wheel for subprocess32 (setup.py) ... \u001b[?25l\u001b[?25hdone\n",
            "  Stored in directory: /root/.cache/pip/wheels/68/39/1a/5e402bdfdf004af1786c8b853fd92f8c4a04f22aad179654d1\n",
            "  Building wheel for gql (setup.py) ... \u001b[?25l\u001b[?25hdone\n",
            "  Stored in directory: /root/.cache/pip/wheels/a7/8d/65/a3247f500d675d80a01e4d2f0ee44fe99f1faef575bc2a1664\n",
            "  Building wheel for watchdog (setup.py) ... \u001b[?25l\u001b[?25hdone\n",
            "  Stored in directory: /root/.cache/pip/wheels/61/1d/d0/04cfe495619be2095eb8d89a31c42adb4e42b76495bc8f784c\n",
            "  Building wheel for shortuuid (setup.py) ... \u001b[?25l\u001b[?25hdone\n",
            "  Stored in directory: /root/.cache/pip/wheels/3f/eb/fd/69e5177f67b505e44acbd1aedfbe44b91768ee0c4cd5636576\n",
            "  Building wheel for pathtools (setup.py) ... \u001b[?25l\u001b[?25hdone\n",
            "  Stored in directory: /root/.cache/pip/wheels/0b/04/79/c3b0c3a0266a3cb4376da31e5bfe8bba0c489246968a68e843\n",
            "Successfully built subprocess32 gql watchdog shortuuid pathtools\n",
            "\u001b[31mERROR: albumentations 0.1.12 has requirement imgaug<0.2.7,>=0.2.5, but you'll have imgaug 0.2.9 which is incompatible.\u001b[0m\n",
            "Installing collected packages: subprocess32, docker-pycreds, smmap2, gitdb2, GitPython, sentry-sdk, rx, graphql-core, gql, python-dateutil, argh, pathtools, watchdog, shortuuid, wandb\n",
            "  Found existing installation: python-dateutil 2.5.3\n",
            "    Uninstalling python-dateutil-2.5.3:\n",
            "      Successfully uninstalled python-dateutil-2.5.3\n",
            "Successfully installed GitPython-2.1.13 argh-0.26.2 docker-pycreds-0.4.0 gitdb2-2.0.5 gql-0.1.0 graphql-core-2.2.1 pathtools-0.1.2 python-dateutil-2.8.0 rx-1.6.1 sentry-sdk-0.10.2 shortuuid-0.5.0 smmap2-2.0.5 subprocess32-3.5.4 wandb-0.8.5 watchdog-0.9.0\n"
          ],
          "name": "stdout"
        },
        {
          "output_type": "display_data",
          "data": {
            "application/vnd.colab-display-data+json": {
              "pip_warning": {
                "packages": [
                  "dateutil"
                ]
              }
            }
          },
          "metadata": {
            "tags": []
          }
        }
      ]
    },
    {
      "cell_type": "code",
      "metadata": {
        "id": "vxAddgXqjdj4",
        "colab_type": "code",
        "colab": {}
      },
      "source": [
        "import json\n",
        "import pandas as pd\n",
        "import numpy as np\n",
        "from sklearn.feature_extraction import DictVectorizer\n",
        "from sklearn.linear_model import Perceptron\n",
        "from sklearn.model_selection import train_test_split\n",
        "from sklearn.metrics import precision_recall_fscore_support, f1_score"
      ],
      "execution_count": 0,
      "outputs": []
    },
    {
      "cell_type": "code",
      "metadata": {
        "id": "BkR1MT6KjhlO",
        "colab_type": "code",
        "colab": {
          "base_uri": "https://localhost:8080/",
          "height": 35
        },
        "outputId": "5fea14d5-4014-4669-f669-56c772a7556c"
      },
      "source": [
        "import keras\n",
        "from keras.preprocessing.text import *\n",
        "from keras.preprocessing import *\n",
        "from sklearn.preprocessing import OneHotEncoder, LabelBinarizer, MultiLabelBinarizer, LabelEncoder"
      ],
      "execution_count": 6,
      "outputs": [
        {
          "output_type": "stream",
          "text": [
            "Using TensorFlow backend.\n"
          ],
          "name": "stderr"
        }
      ]
    },
    {
      "cell_type": "code",
      "metadata": {
        "id": "Po36nSWpjEK-",
        "colab_type": "code",
        "colab": {
          "base_uri": "https://localhost:8080/",
          "height": 108
        },
        "outputId": "356160df-5daf-402f-ecbb-18ea939e76ed"
      },
      "source": [
        "!wandb login 2295caae2022fe6a431a755f74d1e9e8605848eb\n",
        "import wandb\n",
        "from wandb.keras import WandbCallback\n",
        "wandb.init(project=\"troll-detection\")"
      ],
      "execution_count": 7,
      "outputs": [
        {
          "output_type": "stream",
          "text": [
            "Appending key for api.wandb.ai to your netrc file: /root/.netrc\n",
            "\u001b[32mSuccessfully logged in to Weights & Biases!\u001b[0m\n"
          ],
          "name": "stdout"
        },
        {
          "output_type": "display_data",
          "data": {
            "text/html": [
              "\n",
              "        Notebook configured with <a href=\"https://wandb.com\" target=\"_blank\">W&B</a>. You can <a href=\"https://app.wandb.ai/jeremy/troll-detection/runs/kndavuh0\" target=\"_blank\">open</a> the run page, or call <code>%%wandb</code>\n",
              "        in a cell containing your training loop to display live results.  Learn more in our <a href=\"https://docs.wandb.com/docs/integrations/jupyter.html\" target=\"_blank\">docs</a>.\n",
              "    "
            ],
            "text/plain": [
              "<IPython.core.display.HTML object>"
            ]
          },
          "metadata": {
            "tags": []
          }
        },
        {
          "output_type": "execute_result",
          "data": {
            "text/plain": [
              "W&B Run: https://app.wandb.ai/jeremy/troll-detection/runs/kndavuh0"
            ]
          },
          "metadata": {
            "tags": []
          },
          "execution_count": 7
        }
      ]
    },
    {
      "cell_type": "code",
      "metadata": {
        "id": "TezD9MYr84Nj",
        "colab_type": "code",
        "colab": {}
      },
      "source": [
        "import torch\n",
        "from pytorch_transformers import *"
      ],
      "execution_count": 0,
      "outputs": []
    },
    {
      "cell_type": "code",
      "metadata": {
        "id": "Wp62YP8_87Wr",
        "colab_type": "code",
        "outputId": "8a88ff37-ba76-42a6-ce7c-5c8f7f442900",
        "colab": {
          "base_uri": "https://localhost:8080/",
          "height": 72
        }
      },
      "source": [
        "tokenizer = BertTokenizer.from_pretrained('bert-base-uncased')\n",
        "model = BertModel.from_pretrained('bert-base-uncased')"
      ],
      "execution_count": 9,
      "outputs": [
        {
          "output_type": "stream",
          "text": [
            "100%|██████████| 231508/231508 [00:00<00:00, 1102067.26B/s]\n",
            "100%|██████████| 313/313 [00:00<00:00, 109310.34B/s]\n",
            "100%|██████████| 440473133/440473133 [00:13<00:00, 31702557.82B/s]\n"
          ],
          "name": "stderr"
        }
      ]
    },
    {
      "cell_type": "code",
      "metadata": {
        "id": "or3KLPfv_JFi",
        "colab_type": "code",
        "colab": {
          "base_uri": "https://localhost:8080/",
          "height": 35
        },
        "outputId": "17a6af4a-f320-4bd7-b4ae-f4cf0bf48495"
      },
      "source": [
        "input_ids = torch.tensor([tokenizer.encode(\"yo yo yo yo  is some text to encode\")])\n",
        "last_hidden_states = model(input_ids)[0]  # Models outputs are now tuples\n",
        "last_hidden_states[0].shape"
      ],
      "execution_count": 17,
      "outputs": [
        {
          "output_type": "execute_result",
          "data": {
            "text/plain": [
              "torch.Size([10, 768])"
            ]
          },
          "metadata": {
            "tags": []
          },
          "execution_count": 17
        }
      ]
    },
    {
      "cell_type": "code",
      "metadata": {
        "id": "5t7kas0l_x9m",
        "colab_type": "code",
        "outputId": "ae38b7a9-0396-42bc-972e-7dc8701e830a",
        "colab": {
          "base_uri": "https://localhost:8080/",
          "height": 1000
        }
      },
      "source": [
        "def get_model():\n",
        "  "
      ],
      "execution_count": 14,
      "outputs": [
        {
          "output_type": "stream",
          "text": [
            "tensor([[[-0.0746,  0.1011,  0.3241,  ..., -0.2543,  0.1996,  0.6380],\n",
            "         [ 0.0269,  0.1070,  0.0296,  ..., -0.0743, -0.0592,  0.8313],\n",
            "         [ 0.4735,  0.0513, -0.2034,  ..., -0.0481, -0.4146,  0.7126],\n",
            "         ...,\n",
            "         [ 0.3239,  0.1649,  0.2770,  ...,  0.2619,  0.0270,  0.8919],\n",
            "         [ 0.4856,  0.2722,  0.6240,  ..., -0.6107,  0.0237,  0.8303],\n",
            "         [ 0.4554,  0.2055,  0.3376,  ..., -0.4302, -0.3338,  0.5401]]],\n",
            "       grad_fn=<AddBackward0>)\n"
          ],
          "name": "stdout"
        },
        {
          "output_type": "execute_result",
          "data": {
            "text/plain": [
              "tensor([-7.4606e-02,  1.0108e-01,  3.2405e-01,  2.0903e-01,  3.8367e-01,\n",
              "         1.5533e-01, -3.2896e-01,  3.4385e-01, -3.5111e-01, -3.1906e-01,\n",
              "        -3.0763e-05,  1.1555e-01,  1.4767e-01, -1.7572e-01, -7.0480e-01,\n",
              "         5.0171e-01, -5.6107e-01, -6.5709e-02, -1.6710e-01, -3.6869e-01,\n",
              "         5.6172e-01,  2.7231e-01, -4.1775e-02,  1.3357e-01, -3.4565e-02,\n",
              "         2.1952e-02,  4.9382e-01, -1.2846e-01, -4.4493e-01,  1.3859e-01,\n",
              "        -2.3144e-01, -2.4005e-01, -1.6768e-01,  4.9019e-02, -1.0560e-01,\n",
              "        -5.2876e-02,  1.6464e-01, -2.6585e-02, -1.6743e-01, -1.0395e-01,\n",
              "        -1.2034e-01, -4.7108e-01, -3.8948e-02, -3.2445e-01, -4.1333e-01,\n",
              "        -2.4461e-01, -6.2930e-01,  6.8173e-02,  2.3009e-01, -5.1836e-01,\n",
              "        -5.3894e-01,  5.5218e-01,  1.2099e-01,  1.7073e-01, -1.2414e-01,\n",
              "         2.7400e-01, -1.4061e-01, -1.4041e-01, -2.9726e-01,  2.3615e-01,\n",
              "         2.0197e-01, -4.1435e-01, -8.0162e-02, -5.2787e-01,  3.9602e-02,\n",
              "        -1.3458e-01,  1.0328e-01, -2.7425e-01,  3.2330e-01,  7.4105e-02,\n",
              "        -1.1188e-01,  2.1497e-01,  3.5268e-01, -2.4125e-01,  2.6236e-01,\n",
              "         1.6395e-01,  5.3342e-01,  4.4157e-01,  5.3077e-01, -1.4636e-01,\n",
              "         5.0023e-01,  1.4212e-01, -1.8949e-01,  5.9489e-01,  1.9790e-01,\n",
              "        -6.7601e-01, -5.4014e-01,  6.1941e-01,  1.9525e-01,  6.3705e-01,\n",
              "        -1.1313e-01, -3.3547e-01, -7.7885e-02,  2.5877e-01,  9.0087e-01,\n",
              "         5.1288e-01, -7.7130e-02, -1.4300e-02,  2.1757e-01, -6.2594e-02,\n",
              "         2.8745e-03,  1.1619e-01, -5.2605e-03, -5.4607e-01, -1.1174e+00,\n",
              "        -8.0629e-02,  1.5399e-01, -4.0614e-01, -1.1604e-01,  8.8986e-02,\n",
              "         7.0911e-01,  7.9039e-01, -2.6868e-01, -1.0580e-01, -2.0618e-01,\n",
              "         2.7902e-01,  3.9086e-01,  2.9507e-02, -5.4391e-03, -3.6129e-02,\n",
              "         1.9060e-02,  1.9249e-01,  1.9020e-01,  2.7195e-01,  7.4671e-01,\n",
              "         8.9027e-01, -5.3859e-01,  1.5353e-01,  2.3406e-01,  6.2586e-02,\n",
              "         1.6160e-01,  4.7671e-02,  2.4031e-02, -6.6615e-02,  9.1408e-02,\n",
              "         1.9498e-01,  1.6676e-01,  2.6458e-01,  2.5755e-01, -3.0965e-01,\n",
              "        -2.2363e-01,  3.7528e-01,  1.6930e-01,  5.8783e-01,  6.4215e-02,\n",
              "        -4.6991e-02, -1.4536e-01, -4.6258e-01, -2.9655e-01,  5.2707e-01,\n",
              "        -2.0024e-01,  4.6332e-02, -3.0646e-01, -2.4926e-01,  5.5042e-01,\n",
              "        -2.6615e-01, -8.5913e-02, -1.8234e-01, -3.2525e-01,  4.7529e-01,\n",
              "        -1.3307e-01,  4.0618e-01, -4.3895e-01, -2.8725e-01,  1.0948e+00,\n",
              "        -7.0181e-01, -2.4871e-01,  8.4105e-02,  6.7144e-02,  5.7289e-01,\n",
              "        -1.6918e-02, -2.2162e-01,  5.0158e-01, -1.2851e-01,  4.4783e-01,\n",
              "         1.3439e-02,  5.3848e-01,  1.5755e-01,  4.2085e-01,  2.0786e-01,\n",
              "        -3.1715e-01, -2.1816e-01, -3.2093e-03,  5.2932e-01,  2.5780e-01,\n",
              "        -2.7187e-01,  5.4873e-01, -2.8281e-01,  5.6336e-01,  4.8363e-01,\n",
              "        -8.2750e-01,  2.1993e-01,  1.2644e-01, -2.9037e-02, -7.1086e-02,\n",
              "        -1.5776e-01,  4.4442e-02,  6.8944e-01, -3.3406e-03, -4.5775e-02,\n",
              "         4.1253e-01, -1.7085e-01,  8.8239e-02, -1.0820e-01, -3.6854e-01,\n",
              "         3.2376e-01,  2.5311e-01,  1.3577e-01, -2.2217e-01, -4.2827e-01,\n",
              "         2.5372e-01,  5.3198e-01,  1.1580e-01, -1.7691e-01, -3.0958e-02,\n",
              "        -1.7296e-01,  1.8258e-01, -1.0162e-01,  2.1489e-01,  1.6581e-01,\n",
              "        -1.3952e-01, -2.6732e-01,  3.9062e-01,  9.3044e-02,  9.2231e-02,\n",
              "         7.7635e-01,  8.7335e-01, -4.9719e-01,  3.2150e-01, -3.1967e-01,\n",
              "        -2.7603e-01, -3.8872e-01,  2.0709e-01,  1.7628e-01,  3.8618e-01,\n",
              "         5.8670e-01, -4.6779e-02,  3.0401e-02,  6.6487e-01, -5.6442e-02,\n",
              "        -3.8934e-01,  1.0035e-01, -3.5766e-01,  6.6019e-01, -6.5904e-01,\n",
              "         4.8811e-01, -2.1553e-02, -1.0123e-01,  5.7993e-02,  1.3854e-01,\n",
              "        -5.1015e-01, -2.8544e-01, -2.2625e-01, -2.7985e-01,  1.3636e-02,\n",
              "        -5.6100e-01,  1.2149e-01, -2.5590e-01,  2.4243e-01,  3.8583e-01,\n",
              "        -2.2027e-02,  2.7178e-01,  4.5577e-01, -4.9716e-01, -4.0625e-01,\n",
              "        -4.9450e-01, -1.0639e+00, -3.9149e-01, -2.9568e-01,  4.4091e-01,\n",
              "         1.8212e-01,  6.9612e-01, -1.3454e-01,  5.0792e-02, -1.0900e-01,\n",
              "         1.9564e-01, -1.1257e-01, -2.6938e-01,  2.5150e-01,  4.1445e-01,\n",
              "        -1.7641e-01,  2.6488e-01, -3.4568e-02,  2.2304e-01, -2.7208e-01,\n",
              "        -2.1383e-04,  4.7755e-01, -2.2273e-01, -4.8908e-01, -5.2650e-01,\n",
              "         1.4279e-01, -1.6962e-01,  3.0537e-02, -5.1867e-01,  4.8971e-01,\n",
              "         3.1973e-01, -2.0802e-02,  6.3095e-01, -7.1867e-02,  6.8690e-02,\n",
              "         1.8549e-01,  4.0830e-01,  2.6970e-01,  7.8493e-01, -3.0299e-02,\n",
              "        -1.6666e-01,  2.6652e-01, -7.6787e-01, -6.0030e+00, -4.2501e-01,\n",
              "        -3.4745e-02,  1.0629e-01,  4.3739e-01,  9.0452e-02,  2.4608e-01,\n",
              "        -5.1849e-01, -1.4775e-01,  1.1921e-01,  5.6799e-02,  8.9845e-02,\n",
              "         1.4328e-01,  3.6172e-01,  7.6770e-01, -7.2674e-02, -3.8686e-03,\n",
              "        -1.3626e-01,  4.9417e-01,  5.5573e-01,  5.2091e-01,  2.6104e-01,\n",
              "         4.9171e-02, -1.3050e-01,  1.8118e-01,  6.8238e-03, -7.0098e-02,\n",
              "        -8.3781e-01, -2.8761e-01, -2.9814e-01, -1.5159e-01,  1.7805e-01,\n",
              "        -3.4898e-01, -6.9519e-01, -9.1049e-02,  5.9106e-02,  4.0602e-01,\n",
              "        -4.1309e-01,  3.4056e-01,  1.4742e-03,  5.3560e-02, -3.1090e-02,\n",
              "         1.5013e-01, -4.2125e-01, -1.2701e-02, -3.9835e-01,  7.2536e-01,\n",
              "        -3.6094e-01, -4.9390e-01,  6.6410e-01, -1.5171e-01,  3.8027e-01,\n",
              "         6.3268e-01, -4.3823e-01,  1.4595e-01,  8.8644e-01, -6.4512e-01,\n",
              "         7.1217e-01,  1.0786e-01,  5.4076e-02,  2.4696e-01,  6.8497e-01,\n",
              "         1.9415e-01,  2.8175e-01, -4.1980e-01, -4.7817e-01, -4.4639e-01,\n",
              "         1.9572e-01,  4.1442e-01, -1.9669e-01, -5.0996e-01,  3.5799e-01,\n",
              "         3.4801e-01, -1.4205e+00, -3.3098e-01, -5.5512e-01,  2.9756e-01,\n",
              "        -3.4317e-01,  4.0727e-01, -2.1282e-01, -5.4672e-01, -3.9288e-01,\n",
              "         1.6439e-01,  4.1478e-01, -3.3784e-01, -3.2660e-01, -2.7991e-01,\n",
              "        -4.0260e-01, -6.3251e-01, -2.7199e-01, -6.2972e-02,  2.7671e-01,\n",
              "         6.0627e-02,  1.0131e-01,  8.4269e-01,  4.4522e-01,  4.7708e-01,\n",
              "        -2.7147e-01, -4.8692e-01,  9.2020e-02,  1.1600e-01,  5.1092e-02,\n",
              "        -4.8425e-01, -6.2246e-01,  2.7511e-01,  1.0886e-01, -7.2435e-01,\n",
              "         2.8083e-01,  1.6513e-01, -5.2879e-01,  7.7403e-03, -2.8217e-01,\n",
              "        -2.4640e-01, -5.5033e-01,  6.6973e-01, -5.6691e-01, -1.8584e-01,\n",
              "         3.4836e-01, -1.1768e-01, -5.3079e-01, -4.8070e-01,  2.1163e-01,\n",
              "        -3.2324e-01, -1.7950e-01, -8.2186e-01, -3.3684e-01,  3.2121e-01,\n",
              "        -7.7847e-01,  1.1473e-01, -1.8139e-01, -5.6075e-01, -4.4878e-03,\n",
              "        -1.2307e-01, -1.1712e-01, -5.3886e-01, -4.4422e-02, -1.3267e-01,\n",
              "         1.7129e-01, -3.6171e-01, -4.3422e-01,  1.7132e-01,  3.9273e-01,\n",
              "        -3.8480e-01, -2.1554e-02,  3.5782e-01, -9.7837e-02, -1.6881e-01,\n",
              "         4.4823e-01, -8.7204e-02, -2.2716e-01, -2.5121e-01, -1.4238e-01,\n",
              "         1.7906e-01, -3.4990e-01,  4.2335e-01, -1.9644e-01,  5.5543e-01,\n",
              "         1.3899e-01,  2.1252e-01, -4.5171e-01,  5.9275e-01, -5.2800e-01,\n",
              "        -1.5271e-01,  4.0998e-01,  1.8940e-01,  9.4028e-01,  1.5194e-01,\n",
              "         4.2617e-02,  1.0849e-01,  1.7036e-02, -5.9638e-01, -2.3879e-01,\n",
              "         3.1817e-02, -3.7460e-01,  5.8360e-01,  7.0264e-01, -4.0435e-01,\n",
              "        -7.9904e-01, -4.8862e-01,  5.9663e-02, -2.5586e-02,  7.5330e-01,\n",
              "        -4.4904e-02,  2.1742e-01,  9.8363e-02,  8.9675e-02,  1.4793e-01,\n",
              "        -6.3865e-01,  3.6619e-01,  6.9018e-03,  5.8509e-02, -3.2714e-01,\n",
              "         5.8407e-01, -8.0241e-03, -2.2629e-01, -5.4151e-02,  1.0807e-01,\n",
              "         2.5838e-01, -3.3822e-01, -1.3974e-01, -2.5687e-01, -5.5580e-01,\n",
              "        -2.2447e-02, -4.3785e-01, -1.4828e-01,  9.8649e-02, -3.9674e-02,\n",
              "         9.4658e-02, -3.8501e-01,  4.7957e-02,  5.6477e-02, -3.7943e-01,\n",
              "        -3.4543e-02, -1.2442e-01, -6.2234e-02, -8.6039e-01, -2.7686e-01,\n",
              "         5.0455e-01,  2.0858e-01, -2.0492e-01, -6.7240e-01, -6.5467e-01,\n",
              "         2.2729e-01,  1.4207e-01,  2.9623e-01, -6.2721e-01, -3.5404e-01,\n",
              "        -1.4296e-04,  3.0184e-01,  3.5920e-01,  1.8308e-01, -2.3698e-01,\n",
              "         1.7143e-01, -7.2058e-01, -1.7981e-01, -7.8349e-02, -3.7913e-02,\n",
              "        -1.2955e-01,  2.0263e-01, -1.1306e-02, -6.2276e-02, -1.8167e-01,\n",
              "         2.0965e-01, -4.9500e-02, -4.9833e-01, -2.8603e-01,  1.7260e-01,\n",
              "        -8.0620e-02, -6.0780e-01,  1.1642e-01,  7.1434e-02, -5.1189e-01,\n",
              "         6.0445e-02, -1.7501e-01, -1.0892e-02, -3.8554e-01,  4.9733e-01,\n",
              "        -1.8315e-01, -1.4019e-01,  1.5765e-01,  2.8901e-02,  2.3311e-01,\n",
              "        -4.2179e-01, -1.5560e-01,  1.8113e-01,  1.5055e-01, -3.7140e-01,\n",
              "        -3.9108e-01,  1.0077e+00, -2.8367e-01,  2.0842e-01, -7.1284e-02,\n",
              "        -6.0905e-02, -4.3610e-03,  5.2606e-01,  3.7112e-02, -4.1205e-01,\n",
              "         4.9268e-01, -2.5206e-03,  3.7154e-01, -4.6322e-02,  1.9612e-02,\n",
              "        -4.0318e-01, -2.0154e-02,  2.5796e-01,  2.3703e-01,  2.1026e-01,\n",
              "         5.6893e-01, -1.2563e-01,  5.4317e-01,  1.1114e-01,  3.7354e-02,\n",
              "        -2.4402e-01, -4.3311e-01, -3.1589e-02, -2.0493e-01, -5.3614e-01,\n",
              "         6.1440e-02, -3.4822e-01, -3.9886e-01, -1.5387e-01, -2.7917e-01,\n",
              "         7.9840e-01,  1.6412e-01, -5.6050e-02,  2.6731e-01, -1.4610e-01,\n",
              "        -4.4681e-01, -4.7921e-02,  3.5416e-01, -1.0501e-01, -1.6996e-01,\n",
              "         3.7187e-01,  3.7101e-01, -8.9472e-01,  9.6875e-02,  1.6959e-01,\n",
              "        -3.0678e-01,  2.7405e-01,  3.1455e-01, -1.4249e-01, -6.5722e-02,\n",
              "        -2.0293e-02, -8.3502e-02,  6.0821e-02, -5.6343e-02, -6.6662e-02,\n",
              "        -2.6067e-02, -3.8125e-02, -5.5676e-03, -2.0241e-01,  6.0275e-01,\n",
              "         5.1004e-01,  3.8409e-02, -8.7541e-02, -3.6783e-01,  5.3872e-01,\n",
              "        -4.7237e-01,  5.6125e-02,  5.8424e-01, -5.6862e-01, -2.7339e-01,\n",
              "         2.4745e-01,  8.7359e-02,  6.2691e-01,  1.6931e-01,  2.6506e-01,\n",
              "        -4.9536e-01,  1.3525e-01,  7.5861e-01,  2.3212e-01,  1.5152e-01,\n",
              "        -3.3388e-01, -7.6531e-02, -5.9754e-01,  3.0075e-01,  2.7873e-01,\n",
              "         2.9040e-02, -1.3571e-01,  3.6368e-01,  4.4116e-01,  1.4504e-01,\n",
              "         2.8038e-01, -1.6034e-01, -1.2704e-01, -2.6594e-01,  1.0699e+00,\n",
              "        -1.2439e-02,  1.2641e-01,  8.9510e-02, -1.7500e-01, -7.6494e-02,\n",
              "        -2.6111e-01,  2.6527e-01, -3.2128e-01, -2.4000e-02,  7.8721e-03,\n",
              "        -2.1091e-01, -1.8170e-01,  2.9053e-01,  4.5309e-01,  5.4661e-01,\n",
              "        -2.5208e-01, -3.2053e-01,  5.1059e-01, -1.5237e-01, -2.7336e-01,\n",
              "         6.0889e-01, -5.7724e-02, -2.4411e-01,  2.1614e-02, -1.5288e-01,\n",
              "        -2.4694e-01,  1.0429e-01, -2.6893e-01, -6.8568e-01,  5.4039e-01,\n",
              "        -6.6679e-02,  2.9736e-01, -2.3917e-01,  5.6953e-01,  1.8991e-01,\n",
              "        -3.9348e-01,  4.1117e-01,  5.2567e-01,  1.1600e-01,  5.1344e-01,\n",
              "         1.4978e-01, -2.8077e-01, -3.4668e-01,  3.8201e-01,  1.8851e-01,\n",
              "        -1.9131e-01,  3.3358e-01, -5.0246e-01, -3.3594e-01,  8.3473e-01,\n",
              "         2.1057e-02, -4.5469e-01, -1.4927e-01, -2.9039e-01,  2.9330e-01,\n",
              "         4.0285e-01, -6.0698e-01, -3.1490e-01, -2.3528e-01,  1.2496e-01,\n",
              "        -3.7124e-01, -1.9349e-01,  2.8389e-01, -3.3135e-01,  7.2142e-02,\n",
              "        -2.2510e-02,  8.0701e-01, -2.9025e-01,  3.4600e-01,  3.7904e-01,\n",
              "        -4.8398e-01,  4.0634e-01, -2.3357e-01,  7.4476e-02, -2.7305e-02,\n",
              "        -1.5837e-01,  6.1132e-02,  1.9383e-01,  7.2685e-02, -3.7120e-02,\n",
              "        -3.9770e-01, -5.2645e-01, -3.0848e-01, -5.3349e-01, -1.9486e-01,\n",
              "        -1.8824e-01, -3.6336e-01, -1.9112e-01, -3.2976e-01, -7.4926e-01,\n",
              "        -2.5427e-01,  1.9959e-01,  6.3798e-01], grad_fn=<SelectBackward>)"
            ]
          },
          "metadata": {
            "tags": []
          },
          "execution_count": 14
        }
      ]
    },
    {
      "cell_type": "code",
      "metadata": {
        "id": "jTHvX9G4_zfd",
        "colab_type": "code",
        "outputId": "48a4e6bf-9cdd-44f7-f5c4-843884a034fe",
        "colab": {
          "base_uri": "https://localhost:8080/",
          "height": 1000
        }
      },
      "source": [
        "dir(tokenizer)"
      ],
      "execution_count": 0,
      "outputs": [
        {
          "output_type": "execute_result",
          "data": {
            "text/plain": [
              "['SPECIAL_TOKENS_ATTRIBUTES',\n",
              " '__class__',\n",
              " '__delattr__',\n",
              " '__dict__',\n",
              " '__dir__',\n",
              " '__doc__',\n",
              " '__eq__',\n",
              " '__format__',\n",
              " '__ge__',\n",
              " '__getattribute__',\n",
              " '__gt__',\n",
              " '__hash__',\n",
              " '__init__',\n",
              " '__init_subclass__',\n",
              " '__le__',\n",
              " '__len__',\n",
              " '__lt__',\n",
              " '__module__',\n",
              " '__ne__',\n",
              " '__new__',\n",
              " '__reduce__',\n",
              " '__reduce_ex__',\n",
              " '__repr__',\n",
              " '__setattr__',\n",
              " '__sizeof__',\n",
              " '__str__',\n",
              " '__subclasshook__',\n",
              " '__weakref__',\n",
              " '_additional_special_tokens',\n",
              " '_bos_token',\n",
              " '_cls_token',\n",
              " '_convert_id_to_token',\n",
              " '_convert_token_to_id',\n",
              " '_convert_token_to_id_with_added_voc',\n",
              " '_eos_token',\n",
              " '_from_pretrained',\n",
              " '_mask_token',\n",
              " '_pad_token',\n",
              " '_sep_token',\n",
              " '_tokenize',\n",
              " '_unk_token',\n",
              " 'add_special_tokens',\n",
              " 'add_tokens',\n",
              " 'added_tokens_decoder',\n",
              " 'added_tokens_encoder',\n",
              " 'additional_special_tokens',\n",
              " 'all_special_ids',\n",
              " 'all_special_tokens',\n",
              " 'basic_tokenizer',\n",
              " 'bos_token',\n",
              " 'cls_token',\n",
              " 'convert_ids_to_tokens',\n",
              " 'convert_tokens_to_ids',\n",
              " 'convert_tokens_to_string',\n",
              " 'decode',\n",
              " 'do_basic_tokenize',\n",
              " 'encode',\n",
              " 'eos_token',\n",
              " 'from_pretrained',\n",
              " 'ids_to_tokens',\n",
              " 'mask_token',\n",
              " 'max_len',\n",
              " 'max_model_input_sizes',\n",
              " 'pad_token',\n",
              " 'pretrained_vocab_files_map',\n",
              " 'save_pretrained',\n",
              " 'save_vocabulary',\n",
              " 'sep_token',\n",
              " 'special_tokens_map',\n",
              " 'tokenize',\n",
              " 'unk_token',\n",
              " 'vocab',\n",
              " 'vocab_files_names',\n",
              " 'vocab_size',\n",
              " 'wordpiece_tokenizer']"
            ]
          },
          "metadata": {
            "tags": []
          },
          "execution_count": 13
        }
      ]
    }
  ]
}