{
 "cells": [
  {
   "cell_type": "code",
   "execution_count": 246,
   "metadata": {},
   "outputs": [],
   "source": [
    "import sys, os\n",
    "from sklearn import preprocessing\n",
    "import matplotlib.pyplot as plt\n",
    "# import matplotlib.ticker as tkr\n",
    "import pandas as pd\n",
    "\n",
    "from metrics import *"
   ]
  },
  {
   "cell_type": "markdown",
   "metadata": {},
   "source": [
    "# Coarse grain clasification:\n",
    "* Does input come from seen or unseen classes\n",
    "* Requires classifier per class\n",
    "\n",
    "# Fine grain\n",
    "* decide on class\n",
    "* if in labelled classes, use traditional classifier\n",
    "* else use zero-shot classifier after feature augmentation"
   ]
  },
  {
   "cell_type": "markdown",
   "metadata": {},
   "source": [
    "## Data augmentation:\n",
    "* Topic translation\n",
    "* Feature aug by using integrated Semantic knowledge to transfer knowldge learned from seen to unseen classes"
   ]
  },
  {
   "cell_type": "code",
   "execution_count": 4,
   "metadata": {},
   "outputs": [],
   "source": [
    "df = pd.read_csv(\"D:\\\\Data\\\\medium-articles\\\\articles.csv\")"
   ]
  },
  {
   "cell_type": "code",
   "execution_count": 7,
   "metadata": {},
   "outputs": [
    {
     "name": "stdout",
     "output_type": "stream",
     "text": [
      "(337, 6)\n"
     ]
    },
    {
     "data": {
      "text/html": [
       "<div>\n",
       "<style scoped>\n",
       "    .dataframe tbody tr th:only-of-type {\n",
       "        vertical-align: middle;\n",
       "    }\n",
       "\n",
       "    .dataframe tbody tr th {\n",
       "        vertical-align: top;\n",
       "    }\n",
       "\n",
       "    .dataframe thead th {\n",
       "        text-align: right;\n",
       "    }\n",
       "</style>\n",
       "<table border=\"1\" class=\"dataframe\">\n",
       "  <thead>\n",
       "    <tr style=\"text-align: right;\">\n",
       "      <th></th>\n",
       "      <th>author</th>\n",
       "      <th>claps</th>\n",
       "      <th>reading_time</th>\n",
       "      <th>link</th>\n",
       "      <th>title</th>\n",
       "      <th>text</th>\n",
       "    </tr>\n",
       "  </thead>\n",
       "  <tbody>\n",
       "    <tr>\n",
       "      <th>0</th>\n",
       "      <td>Justin Lee</td>\n",
       "      <td>8.3K</td>\n",
       "      <td>11</td>\n",
       "      <td>https://medium.com/swlh/chatbots-were-the-next...</td>\n",
       "      <td>Chatbots were the next big thing: what happene...</td>\n",
       "      <td>Oh, how the headlines blared:\\nChatbots were T...</td>\n",
       "    </tr>\n",
       "    <tr>\n",
       "      <th>1</th>\n",
       "      <td>Conor Dewey</td>\n",
       "      <td>1.4K</td>\n",
       "      <td>7</td>\n",
       "      <td>https://towardsdatascience.com/python-for-data...</td>\n",
       "      <td>Python for Data Science: 8 Concepts You May Ha...</td>\n",
       "      <td>If you’ve ever found yourself looking up the s...</td>\n",
       "    </tr>\n",
       "    <tr>\n",
       "      <th>2</th>\n",
       "      <td>William Koehrsen</td>\n",
       "      <td>2.8K</td>\n",
       "      <td>11</td>\n",
       "      <td>https://towardsdatascience.com/automated-featu...</td>\n",
       "      <td>Automated Feature Engineering in Python – Towa...</td>\n",
       "      <td>Machine learning is increasingly moving from h...</td>\n",
       "    </tr>\n",
       "    <tr>\n",
       "      <th>3</th>\n",
       "      <td>Gant Laborde</td>\n",
       "      <td>1.3K</td>\n",
       "      <td>7</td>\n",
       "      <td>https://medium.freecodecamp.org/machine-learni...</td>\n",
       "      <td>Machine Learning: how to go from Zero to Hero ...</td>\n",
       "      <td>If your understanding of A.I. and Machine Lear...</td>\n",
       "    </tr>\n",
       "    <tr>\n",
       "      <th>4</th>\n",
       "      <td>Emmanuel Ameisen</td>\n",
       "      <td>935</td>\n",
       "      <td>11</td>\n",
       "      <td>https://blog.insightdatascience.com/reinforcem...</td>\n",
       "      <td>Reinforcement Learning from scratch – Insight ...</td>\n",
       "      <td>Want to learn about applied Artificial Intelli...</td>\n",
       "    </tr>\n",
       "  </tbody>\n",
       "</table>\n",
       "</div>"
      ],
      "text/plain": [
       "             author claps  reading_time  \\\n",
       "0        Justin Lee  8.3K            11   \n",
       "1       Conor Dewey  1.4K             7   \n",
       "2  William Koehrsen  2.8K            11   \n",
       "3      Gant Laborde  1.3K             7   \n",
       "4  Emmanuel Ameisen   935            11   \n",
       "\n",
       "                                                link  \\\n",
       "0  https://medium.com/swlh/chatbots-were-the-next...   \n",
       "1  https://towardsdatascience.com/python-for-data...   \n",
       "2  https://towardsdatascience.com/automated-featu...   \n",
       "3  https://medium.freecodecamp.org/machine-learni...   \n",
       "4  https://blog.insightdatascience.com/reinforcem...   \n",
       "\n",
       "                                               title  \\\n",
       "0  Chatbots were the next big thing: what happene...   \n",
       "1  Python for Data Science: 8 Concepts You May Ha...   \n",
       "2  Automated Feature Engineering in Python – Towa...   \n",
       "3  Machine Learning: how to go from Zero to Hero ...   \n",
       "4  Reinforcement Learning from scratch – Insight ...   \n",
       "\n",
       "                                                text  \n",
       "0  Oh, how the headlines blared:\\nChatbots were T...  \n",
       "1  If you’ve ever found yourself looking up the s...  \n",
       "2  Machine learning is increasingly moving from h...  \n",
       "3  If your understanding of A.I. and Machine Lear...  \n",
       "4  Want to learn about applied Artificial Intelli...  "
      ]
     },
     "execution_count": 7,
     "metadata": {},
     "output_type": "execute_result"
    }
   ],
   "source": [
    "def convert_to_integer(x):\n",
    "    x = x.replace(\"K\", \"00\")\n",
    "    x = x.replace(\"k\", \"00\")\n",
    "    x = x.replace(\".\", \"\")\n",
    "\n",
    "    return int(x)\n",
    "\n",
    "df['claps_int'] = df['claps'].apply(convert_to_integer)\n",
    "\n",
    "print(f\"Max clap count: {max(df['claps_int'])}\")\n",
    "print(f\"Min clap count: {min(df['claps_int'])}\")"
   ]
  },
  {
   "cell_type": "code",
   "execution_count": 166,
   "metadata": {},
   "outputs": [
    {
     "data": {
      "image/png": "[encoded data removed]",
      "text/plain": [
       "<Figure size 432x288 with 1 Axes>"
      ]
     },
     "metadata": {
      "needs_background": "light"
     },
     "output_type": "display_data"
    }
   ],
   "source": [
    "clap_bins=[0,10,200,500, 1000, 2000,3000,4000, 5000, 10000, 20000]\n",
    "\n",
    "n, bins, patches = plt.hist(\n",
    "    df['claps_int'],\n",
    "    bins=clap_bins,\n",
    "#     bins='auto',\n",
    "    rwidth=0.6,\n",
    "    orientation='vertical',\n",
    ")\n",
    "plt.xticks(rotation=45)\n",
    "plt.xticks(clap_bins)\n",
    "plt.show()\n"
   ]
  },
  {
   "cell_type": "code",
   "execution_count": 167,
   "metadata": {},
   "outputs": [
    {
     "data": {
      "image/png": "[encoded data removed]",
      "text/plain": [
       "<Figure size 432x288 with 1 Axes>"
      ]
     },
     "metadata": {
      "needs_background": "light"
     },
     "output_type": "display_data"
    }
   ],
   "source": [
    "read_bins = [0,7,12,20, 100]\n",
    "\n",
    "n, bins, patches = plt.hist(\n",
    "    df['reading_time'],\n",
    "    bins=read_bins,\n",
    "#     bins='auto',\n",
    "    rwidth=0.6,\n",
    "    orientation='vertical',\n",
    ")\n",
    "plt.xticks(rotation=45)\n",
    "plt.xticks(read_bins)\n",
    "plt.show()\n"
   ]
  },
  {
   "cell_type": "markdown",
   "metadata": {},
   "source": [
    "## Add category columns"
   ]
  },
  {
   "cell_type": "code",
   "execution_count": 163,
   "metadata": {},
   "outputs": [],
   "source": [
    "le_read = preprocessing.LabelEncoder()\n",
    "df['read_cat'] = le_read.fit_transform(df['reading_time'])"
   ]
  },
  {
   "cell_type": "code",
   "execution_count": 142,
   "metadata": {},
   "outputs": [],
   "source": [
    "df['clap_bin'] = pd.cut(df['claps_int'].values, bins=bins,).astype(str)\n",
    "df['clap_cat'] = le.fit_transform(df['clap_bin'])"
   ]
  },
  {
   "cell_type": "code",
   "execution_count": 164,
   "metadata": {},
   "outputs": [
    {
     "data": {
      "text/html": [
       "<div>\n",
       "<style scoped>\n",
       "    .dataframe tbody tr th:only-of-type {\n",
       "        vertical-align: middle;\n",
       "    }\n",
       "\n",
       "    .dataframe tbody tr th {\n",
       "        vertical-align: top;\n",
       "    }\n",
       "\n",
       "    .dataframe thead th {\n",
       "        text-align: right;\n",
       "    }\n",
       "</style>\n",
       "<table border=\"1\" class=\"dataframe\">\n",
       "  <thead>\n",
       "    <tr style=\"text-align: right;\">\n",
       "      <th></th>\n",
       "      <th>author</th>\n",
       "      <th>claps</th>\n",
       "      <th>reading_time</th>\n",
       "      <th>link</th>\n",
       "      <th>title</th>\n",
       "      <th>text</th>\n",
       "      <th>claps_int</th>\n",
       "      <th>clap_cat</th>\n",
       "      <th>clap_bin</th>\n",
       "      <th>read_cat</th>\n",
       "    </tr>\n",
       "  </thead>\n",
       "  <tbody>\n",
       "    <tr>\n",
       "      <th>0</th>\n",
       "      <td>Justin Lee</td>\n",
       "      <td>8.3K</td>\n",
       "      <td>11</td>\n",
       "      <td>https://medium.com/swlh/chatbots-were-the-next...</td>\n",
       "      <td>Chatbots were the next big thing: what happene...</td>\n",
       "      <td>Oh, how the headlines blared:\\nChatbots were T...</td>\n",
       "      <td>8300</td>\n",
       "      <td>9</td>\n",
       "      <td>(5000, 10000]</td>\n",
       "      <td>9</td>\n",
       "    </tr>\n",
       "    <tr>\n",
       "      <th>1</th>\n",
       "      <td>Conor Dewey</td>\n",
       "      <td>1.4K</td>\n",
       "      <td>7</td>\n",
       "      <td>https://towardsdatascience.com/python-for-data...</td>\n",
       "      <td>Python for Data Science: 8 Concepts You May Ha...</td>\n",
       "      <td>If you’ve ever found yourself looking up the s...</td>\n",
       "      <td>1400</td>\n",
       "      <td>2</td>\n",
       "      <td>(1000, 2000]</td>\n",
       "      <td>5</td>\n",
       "    </tr>\n",
       "    <tr>\n",
       "      <th>2</th>\n",
       "      <td>William Koehrsen</td>\n",
       "      <td>2.8K</td>\n",
       "      <td>11</td>\n",
       "      <td>https://towardsdatascience.com/automated-featu...</td>\n",
       "      <td>Automated Feature Engineering in Python – Towa...</td>\n",
       "      <td>Machine learning is increasingly moving from h...</td>\n",
       "      <td>2800</td>\n",
       "      <td>5</td>\n",
       "      <td>(2000, 3000]</td>\n",
       "      <td>9</td>\n",
       "    </tr>\n",
       "    <tr>\n",
       "      <th>3</th>\n",
       "      <td>Gant Laborde</td>\n",
       "      <td>1.3K</td>\n",
       "      <td>7</td>\n",
       "      <td>https://medium.freecodecamp.org/machine-learni...</td>\n",
       "      <td>Machine Learning: how to go from Zero to Hero ...</td>\n",
       "      <td>If your understanding of A.I. and Machine Lear...</td>\n",
       "      <td>1300</td>\n",
       "      <td>2</td>\n",
       "      <td>(1000, 2000]</td>\n",
       "      <td>5</td>\n",
       "    </tr>\n",
       "    <tr>\n",
       "      <th>4</th>\n",
       "      <td>Emmanuel Ameisen</td>\n",
       "      <td>935</td>\n",
       "      <td>11</td>\n",
       "      <td>https://blog.insightdatascience.com/reinforcem...</td>\n",
       "      <td>Reinforcement Learning from scratch – Insight ...</td>\n",
       "      <td>Want to learn about applied Artificial Intelli...</td>\n",
       "      <td>935</td>\n",
       "      <td>8</td>\n",
       "      <td>(500, 1000]</td>\n",
       "      <td>9</td>\n",
       "    </tr>\n",
       "  </tbody>\n",
       "</table>\n",
       "</div>"
      ],
      "text/plain": [
       "             author claps  reading_time  \\\n",
       "0        Justin Lee  8.3K            11   \n",
       "1       Conor Dewey  1.4K             7   \n",
       "2  William Koehrsen  2.8K            11   \n",
       "3      Gant Laborde  1.3K             7   \n",
       "4  Emmanuel Ameisen   935            11   \n",
       "\n",
       "                                                link  \\\n",
       "0  https://medium.com/swlh/chatbots-were-the-next...   \n",
       "1  https://towardsdatascience.com/python-for-data...   \n",
       "2  https://towardsdatascience.com/automated-featu...   \n",
       "3  https://medium.freecodecamp.org/machine-learni...   \n",
       "4  https://blog.insightdatascience.com/reinforcem...   \n",
       "\n",
       "                                               title  \\\n",
       "0  Chatbots were the next big thing: what happene...   \n",
       "1  Python for Data Science: 8 Concepts You May Ha...   \n",
       "2  Automated Feature Engineering in Python – Towa...   \n",
       "3  Machine Learning: how to go from Zero to Hero ...   \n",
       "4  Reinforcement Learning from scratch – Insight ...   \n",
       "\n",
       "                                                text  claps_int  clap_cat  \\\n",
       "0  Oh, how the headlines blared:\\nChatbots were T...       8300         9   \n",
       "1  If you’ve ever found yourself looking up the s...       1400         2   \n",
       "2  Machine learning is increasingly moving from h...       2800         5   \n",
       "3  If your understanding of A.I. and Machine Lear...       1300         2   \n",
       "4  Want to learn about applied Artificial Intelli...        935         8   \n",
       "\n",
       "        clap_bin  read_cat  \n",
       "0  (5000, 10000]         9  \n",
       "1   (1000, 2000]         5  \n",
       "2   (2000, 3000]         9  \n",
       "3   (1000, 2000]         5  \n",
       "4    (500, 1000]         9  "
      ]
     },
     "execution_count": 164,
     "metadata": {},
     "output_type": "execute_result"
    }
   ],
   "source": [
    "df.head()"
   ]
  },
  {
   "cell_type": "markdown",
   "metadata": {},
   "source": [
    "## Transform data for training"
   ]
  },
  {
   "cell_type": "code",
   "execution_count": 168,
   "metadata": {},
   "outputs": [
    {
     "data": {
      "text/plain": [
       "Index(['author', 'claps', 'reading_time', 'link', 'title', 'text', 'claps_int',\n",
       "       'clap_cat', 'clap_bin', 'read_cat'],\n",
       "      dtype='object')"
      ]
     },
     "execution_count": 168,
     "metadata": {},
     "output_type": "execute_result"
    }
   ],
   "source": [
    "df.columns"
   ]
  },
  {
   "cell_type": "code",
   "execution_count": 175,
   "metadata": {},
   "outputs": [],
   "source": [
    "from transformers import *"
   ]
  },
  {
   "cell_type": "code",
   "execution_count": 183,
   "metadata": {},
   "outputs": [
    {
     "name": "stderr",
     "output_type": "stream",
     "text": [
      "100%|███████████████████████████████████████████████████████████████████████| 231508/231508 [00:00<00:00, 996648.74B/s]\n",
      "100%|█████████████████████████████████████████████████████████████████████████████| 313/313 [00:00<00:00, 313321.52B/s]\n",
      "100%|█████████████████████████████████████████████████████████████████| 536063208/536063208 [12:55<00:00, 691612.38B/s]\n"
     ]
    }
   ],
   "source": [
    "model_config = (TFBertModel, BertTokenizer, 'bert-base-uncased')\n",
    "\n",
    "model_class = model_config[0]\n",
    "tokenizer_class = model_config[1]\n",
    "pretrained_weights = model_config[2]\n",
    "\n",
    "\n",
    "tokenizer = tokenizer_class.from_pretrained(pretrained_weights)\n",
    "model = model_class.from_pretrained(pretrained_weights)"
   ]
  },
  {
   "cell_type": "code",
   "execution_count": 251,
   "metadata": {},
   "outputs": [],
   "source": [
    "from sklearn.feature_extraction.text import TfidfVectorizer\n",
    "import re\n",
    "from sklearn.model_selection import train_test_split\n",
    "\n",
    "corpus = df['text'].values.tolist()\n",
    "corpus = [re.sub(r\"[^a-zA-z0-9.,?!]\", \"\", text) for text in corpus]\n",
    "vectorizer = TfidfVectorizer(max_features=2000)\n",
    "x = vectorizer.fit_transform(corpus)\n",
    "# print(vectorizer.get_feature_names())"
   ]
  },
  {
   "cell_type": "code",
   "execution_count": 252,
   "metadata": {},
   "outputs": [],
   "source": [
    "from sklearn.preprocessing import OneHotEncoder\n",
    "\n",
    "enc = OneHotEncoder(handle_unknown='ignore')\n",
    "y = df['clap_cat'].values.reshape(-1, 1)\n",
    "# print(y.shape)\n",
    "# print(y[:10])\n",
    "y = enc.fit_transform(y)"
   ]
  },
  {
   "cell_type": "code",
   "execution_count": 253,
   "metadata": {},
   "outputs": [
    {
     "data": {
      "text/plain": [
       "(337, 2000)"
      ]
     },
     "execution_count": 253,
     "metadata": {},
     "output_type": "execute_result"
    }
   ],
   "source": [
    "x.shape"
   ]
  },
  {
   "cell_type": "code",
   "execution_count": 254,
   "metadata": {},
   "outputs": [
    {
     "data": {
      "text/plain": [
       "(337, 10)"
      ]
     },
     "execution_count": 254,
     "metadata": {},
     "output_type": "execute_result"
    }
   ],
   "source": [
    "y.shape"
   ]
  },
  {
   "cell_type": "code",
   "execution_count": 255,
   "metadata": {},
   "outputs": [],
   "source": [
    "x_train, x_test, y_train, y_test = train_test_split(\n",
    "    x, y, test_size=0.2)"
   ]
  },
  {
   "cell_type": "code",
   "execution_count": 219,
   "metadata": {},
   "outputs": [],
   "source": [
    "import tensorflow as tf\n",
    "from tensorflow.keras import *"
   ]
  },
  {
   "cell_type": "code",
   "execution_count": 240,
   "metadata": {},
   "outputs": [],
   "source": [
    "inputs = Input(shape=(2000,))\n",
    "layer = layers.Dense(200, activation='relu')(inputs)\n",
    "outputs = layers.Dense(10, activation=tf.nn.softmax)(layer)\n",
    "model = Model(inputs, outputs)"
   ]
  },
  {
   "cell_type": "code",
   "execution_count": 241,
   "metadata": {},
   "outputs": [
    {
     "name": "stdout",
     "output_type": "stream",
     "text": [
      "Model: \"model_3\"\n",
      "_________________________________________________________________\n",
      "Layer (type)                 Output Shape              Param #   \n",
      "=================================================================\n",
      "input_5 (InputLayer)         [(None, 2000)]            0         \n",
      "_________________________________________________________________\n",
      "dense_6 (Dense)              (None, 200)               400200    \n",
      "_________________________________________________________________\n",
      "dense_7 (Dense)              (None, 10)                2010      \n",
      "=================================================================\n",
      "Total params: 402,210\n",
      "Trainable params: 402,210\n",
      "Non-trainable params: 0\n",
      "_________________________________________________________________\n"
     ]
    }
   ],
   "source": [
    "model.summary()"
   ]
  },
  {
   "cell_type": "code",
   "execution_count": 247,
   "metadata": {},
   "outputs": [],
   "source": [
    "model.compile(loss='categorical_crossentropy', optimizer='adam', \n",
    "                metrics=['acc', f1_m, precision_m, recall_m]\n",
    "               )"
   ]
  },
  {
   "cell_type": "code",
   "execution_count": 249,
   "metadata": {},
   "outputs": [
    {
     "name": "stdout",
     "output_type": "stream",
     "text": [
      "WARNING:tensorflow:Falling back from v2 loop because of error: Failed to find data adapter that can handle input: <class 'scipy.sparse.csr.csr_matrix'>, <class 'NoneType'>\n",
      "Train on 269 samples, validate on 68 samples\n",
      "Epoch 1/5\n",
      "269/269 [==============================] - 0s 199us/sample - loss: 0.1138 - acc: 0.9888 - f1_m: 0.9867 - precision_m: 1.0000 - recall_m: 0.9743 - val_loss: 2.0791 - val_acc: 0.3529 - val_f1_m: 0.3896 - val_precision_m: 0.5681 - val_recall_m: 0.3000\n",
      "Epoch 2/5\n",
      "269/269 [==============================] - 0s 193us/sample - loss: 0.1008 - acc: 0.9888 - f1_m: 0.9923 - precision_m: 1.0000 - recall_m: 0.9853 - val_loss: 2.1054 - val_acc: 0.3529 - val_f1_m: 0.3778 - val_precision_m: 0.5345 - val_recall_m: 0.3000\n",
      "Epoch 3/5\n",
      "269/269 [==============================] - 0s 201us/sample - loss: 0.0911 - acc: 0.9888 - f1_m: 0.9898 - precision_m: 0.9955 - recall_m: 0.9844 - val_loss: 2.1327 - val_acc: 0.3676 - val_f1_m: 0.4354 - val_precision_m: 0.6190 - val_recall_m: 0.3375\n",
      "Epoch 4/5\n",
      "269/269 [==============================] - 0s 193us/sample - loss: 0.0817 - acc: 0.9888 - f1_m: 0.9871 - precision_m: 0.9890 - recall_m: 0.9853 - val_loss: 2.1631 - val_acc: 0.3676 - val_f1_m: 0.3926 - val_precision_m: 0.5356 - val_recall_m: 0.3125\n",
      "Epoch 5/5\n",
      "269/269 [==============================] - 0s 204us/sample - loss: 0.0735 - acc: 0.9926 - f1_m: 0.9907 - precision_m: 0.9926 - recall_m: 0.9890 - val_loss: 2.1875 - val_acc: 0.3676 - val_f1_m: 0.4192 - val_precision_m: 0.5410 - val_recall_m: 0.3500\n"
     ]
    }
   ],
   "source": [
    "history = model.fit(\n",
    "    x_train, \n",
    "    y_train, \n",
    "    batch_size=16, \n",
    "    epochs=5, \n",
    "    validation_split=0.2, \n",
    "#     callbacks=[WandbCallback()]\n",
    ")"
   ]
  },
  {
   "cell_type": "code",
   "execution_count": 259,
   "metadata": {},
   "outputs": [
    {
     "name": "stdout",
     "output_type": "stream",
     "text": [
      "WARNING:tensorflow:Falling back from v2 loop because of error: Failed to find data adapter that can handle input: <class 'scipy.sparse.csr.csr_matrix'>, <class 'NoneType'>\n",
      "68/68 [==============================] - 0s 103us/sample - loss: 0.5178 - acc: 0.8676 - f1_m: 0.9293 - precision_m: 0.9544 - recall_m: 0.9062\n"
     ]
    }
   ],
   "source": [
    "scores = model.evaluate(\n",
    "    x=x_test,\n",
    "    y=y_test,\n",
    "    verbose=1,\n",
    ")"
   ]
  },
  {
   "cell_type": "code",
   "execution_count": 260,
   "metadata": {},
   "outputs": [
    {
     "data": {
      "text/plain": [
       "{'test_loss': 0.5178374639328789,\n",
       " 'test_acc': 0.86764705,\n",
       " 'test_f1_m': 0.9293143,\n",
       " 'test_precision_m': 0.9544061,\n",
       " 'test_recall_m': 0.90625}"
      ]
     },
     "execution_count": 260,
     "metadata": {},
     "output_type": "execute_result"
    }
   ],
   "source": [
    "{'test_'+metric: scores[index] for index, metric in enumerate(model.metrics_names)}"
   ]
  },
  {
   "cell_type": "code",
   "execution_count": null,
   "metadata": {},
   "outputs": [],
   "source": []
  }
 ],
 "metadata": {
  "kernelspec": {
   "display_name": "Python 3",
   "language": "python",
   "name": "python3"
  },
  "language_info": {
   "codemirror_mode": {
    "name": "ipython",
    "version": 3
   },
   "file_extension": ".py",
   "mimetype": "text/x-python",
   "name": "python",
   "nbconvert_exporter": "python",
   "pygments_lexer": "ipython3",
   "version": "3.6.8"
  }
 },
 "nbformat": 4,
 "nbformat_minor": 2
}
