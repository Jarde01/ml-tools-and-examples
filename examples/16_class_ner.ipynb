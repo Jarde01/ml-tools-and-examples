{
 "cells": [
  {
   "cell_type": "markdown",
   "metadata": {
    "_cell_guid": "94d75600-5624-423c-9caf-9a57e5dc151c",
    "_uuid": "17c2434e3d7a520cb543346cac3407789301d2fd",
    "colab_type": "text",
    "id": "CN7NkGeQmjsk"
   },
   "source": [
    "Named Entity Recognition with recent and improved version of the Annotated NER Dataset with better features"
   ]
  },
  {
   "cell_type": "markdown",
   "metadata": {
    "_cell_guid": "ddec7691-7c40-401b-9546-31f901e84689",
    "_uuid": "38759d20acfb6090f0d08ddce9d0b380677cd29c",
    "colab_type": "text",
    "id": "cygtxLlumjso"
   },
   "source": [
    "**Note: It is just a quick demonstration on 'How to use this dataset on Scikit for Named Entity Classification'**\n",
    "**This is not for analytical concepts and other machine learning illustrations!**\n",
    "\n",
    "Reading CSV in pandas has many ways. I suggest to use CSV as database to prevent large file handling errors.\n",
    "One may use the follwing way to read CSV file using Python Pandas. Good Luck"
   ]
  },
  {
   "cell_type": "code",
   "execution_count": 1,
   "metadata": {},
   "outputs": [
    {
     "name": "stdout",
     "output_type": "stream",
     "text": [
      "Collecting keras\n",
      "  Using cached https://files.pythonhosted.org/packages/ad/fd/6bfe87920d7f4fd475acd28500a42482b6b84479832bdc0fe9e589a60ceb/Keras-2.3.1-py2.py3-none-any.whl\n",
      "Requirement already satisfied, skipping upgrade: pyyaml in c:\\users\\jeremy\\documents\\code\\ml-tools-and-examples\\venv\\lib\\site-packages (from keras) (5.1.2)\n",
      "Collecting keras-applications>=1.0.6 (from keras)\n",
      "  Using cached https://files.pythonhosted.org/packages/71/e3/19762fdfc62877ae9102edf6342d71b28fbfd9dea3d2f96a882ce099b03f/Keras_Applications-1.0.8-py3-none-any.whl\n",
      "Requirement already satisfied, skipping upgrade: six>=1.9.0 in c:\\users\\jeremy\\documents\\code\\ml-tools-and-examples\\venv\\lib\\site-packages (from keras) (1.12.0)\n",
      "Collecting keras-preprocessing>=1.0.5 (from keras)\n",
      "  Using cached https://files.pythonhosted.org/packages/28/6a/8c1f62c37212d9fc441a7e26736df51ce6f0e38455816445471f10da4f0a/Keras_Preprocessing-1.1.0-py2.py3-none-any.whl\n",
      "Collecting scipy>=0.14 (from keras)\n",
      "  Using cached https://files.pythonhosted.org/packages/e1/63/d919e16c5bd3502a0f7675f217625bd6f49a412cc1a856aa6b4b5b5b20bc/scipy-1.3.1-cp36-cp36m-win_amd64.whl\n",
      "Collecting h5py (from keras)\n",
      "  Using cached https://files.pythonhosted.org/packages/0b/fa/bee65d2dbdbd3611702aafd128139c53c90a1285f169ba5467aab252e27a/h5py-2.10.0-cp36-cp36m-win_amd64.whl\n",
      "Requirement already satisfied, skipping upgrade: numpy>=1.9.1 in c:\\users\\jeremy\\documents\\code\\ml-tools-and-examples\\venv\\lib\\site-packages (from keras) (1.17.3)\n",
      "Installing collected packages: h5py, keras-applications, keras-preprocessing, scipy, keras\n",
      "Successfully installed h5py-2.10.0 keras-2.3.1 keras-applications-1.0.8 keras-preprocessing-1.1.0 scipy-1.3.1\n"
     ]
    },
    {
     "name": "stderr",
     "output_type": "stream",
     "text": [
      "You are using pip version 18.1, however version 19.3.1 is available.\n",
      "You should consider upgrading via the 'python -m pip install --upgrade pip' command.\n"
     ]
    }
   ],
   "source": [
    "!pip install -U keras"
   ]
  },
  {
   "cell_type": "code",
   "execution_count": 2,
   "metadata": {
    "scrolled": true
   },
   "outputs": [
    {
     "name": "stdout",
     "output_type": "stream",
     "text": [
      "Requirement already up-to-date: wandb in c:\\users\\jeremy\\documents\\code\\ml-tools-and-examples\\venv\\lib\\site-packages (0.8.14)\n",
      "Requirement already satisfied, skipping upgrade: requests>=2.0.0 in c:\\users\\jeremy\\documents\\code\\ml-tools-and-examples\\venv\\lib\\site-packages (from wandb) (2.22.0)\n",
      "Requirement already satisfied, skipping upgrade: Click>=7.0 in c:\\users\\jeremy\\documents\\code\\ml-tools-and-examples\\venv\\lib\\site-packages (from wandb) (7.0)\n",
      "Requirement already satisfied, skipping upgrade: psutil>=5.0.0 in c:\\users\\jeremy\\documents\\code\\ml-tools-and-examples\\venv\\lib\\site-packages (from wandb) (5.6.4)\n",
      "Requirement already satisfied, skipping upgrade: sentry-sdk>=0.4.0 in c:\\users\\jeremy\\documents\\code\\ml-tools-and-examples\\venv\\lib\\site-packages (from wandb) (0.13.1)\n",
      "Requirement already satisfied, skipping upgrade: subprocess32>=3.5.3 in c:\\users\\jeremy\\documents\\code\\ml-tools-and-examples\\venv\\lib\\site-packages (from wandb) (3.5.4)\n",
      "Requirement already satisfied, skipping upgrade: configparser>=3.8.1 in c:\\users\\jeremy\\documents\\code\\ml-tools-and-examples\\venv\\lib\\site-packages (from wandb) (4.0.2)\n",
      "Requirement already satisfied, skipping upgrade: python-dateutil>=2.6.1 in c:\\users\\jeremy\\documents\\code\\ml-tools-and-examples\\venv\\lib\\site-packages (from wandb) (2.8.1)\n",
      "Requirement already satisfied, skipping upgrade: six>=1.10.0 in c:\\users\\jeremy\\documents\\code\\ml-tools-and-examples\\venv\\lib\\site-packages (from wandb) (1.12.0)\n",
      "Requirement already satisfied, skipping upgrade: GitPython>=1.0.0 in c:\\users\\jeremy\\documents\\code\\ml-tools-and-examples\\venv\\lib\\site-packages (from wandb) (3.0.4)\n",
      "Requirement already satisfied, skipping upgrade: watchdog>=0.8.3 in c:\\users\\jeremy\\documents\\code\\ml-tools-and-examples\\venv\\lib\\site-packages (from wandb) (0.9.0)\n",
      "Requirement already satisfied, skipping upgrade: nvidia-ml-py3>=7.352.0 in c:\\users\\jeremy\\documents\\code\\ml-tools-and-examples\\venv\\lib\\site-packages (from wandb) (7.352.0)\n",
      "Requirement already satisfied, skipping upgrade: docker-pycreds>=0.4.0 in c:\\users\\jeremy\\documents\\code\\ml-tools-and-examples\\venv\\lib\\site-packages (from wandb) (0.4.0)\n",
      "Requirement already satisfied, skipping upgrade: gql>=0.1.0 in c:\\users\\jeremy\\documents\\code\\ml-tools-and-examples\\venv\\lib\\site-packages (from wandb) (0.1.0)\n",
      "Requirement already satisfied, skipping upgrade: shortuuid>=0.5.0 in c:\\users\\jeremy\\documents\\code\\ml-tools-and-examples\\venv\\lib\\site-packages (from wandb) (0.5.0)\n",
      "Requirement already satisfied, skipping upgrade: idna<2.9,>=2.5 in c:\\users\\jeremy\\documents\\code\\ml-tools-and-examples\\venv\\lib\\site-packages (from requests>=2.0.0->wandb) (2.8)\n",
      "Requirement already satisfied, skipping upgrade: urllib3!=1.25.0,!=1.25.1,<1.26,>=1.21.1 in c:\\users\\jeremy\\documents\\code\\ml-tools-and-examples\\venv\\lib\\site-packages (from requests>=2.0.0->wandb) (1.25.6)\n",
      "Requirement already satisfied, skipping upgrade: certifi>=2017.4.17 in c:\\users\\jeremy\\documents\\code\\ml-tools-and-examples\\venv\\lib\\site-packages (from requests>=2.0.0->wandb) (2019.9.11)\n",
      "Requirement already satisfied, skipping upgrade: chardet<3.1.0,>=3.0.2 in c:\\users\\jeremy\\documents\\code\\ml-tools-and-examples\\venv\\lib\\site-packages (from requests>=2.0.0->wandb) (3.0.4)\n",
      "Requirement already satisfied, skipping upgrade: gitdb2>=2.0.0 in c:\\users\\jeremy\\documents\\code\\ml-tools-and-examples\\venv\\lib\\site-packages (from GitPython>=1.0.0->wandb) (2.0.6)\n",
      "Requirement already satisfied, skipping upgrade: PyYAML>=3.10 in c:\\users\\jeremy\\documents\\code\\ml-tools-and-examples\\venv\\lib\\site-packages (from watchdog>=0.8.3->wandb) (5.1.2)\n",
      "Requirement already satisfied, skipping upgrade: pathtools>=0.1.1 in c:\\users\\jeremy\\documents\\code\\ml-tools-and-examples\\venv\\lib\\site-packages (from watchdog>=0.8.3->wandb) (0.1.2)\n",
      "Requirement already satisfied, skipping upgrade: argh>=0.24.1 in c:\\users\\jeremy\\documents\\code\\ml-tools-and-examples\\venv\\lib\\site-packages (from watchdog>=0.8.3->wandb) (0.26.2)\n",
      "Requirement already satisfied, skipping upgrade: promise>=0.4.0 in c:\\users\\jeremy\\documents\\code\\ml-tools-and-examples\\venv\\lib\\site-packages (from gql>=0.1.0->wandb) (2.2.1)\n",
      "Requirement already satisfied, skipping upgrade: graphql-core>=0.5.0 in c:\\users\\jeremy\\documents\\code\\ml-tools-and-examples\\venv\\lib\\site-packages (from gql>=0.1.0->wandb) (2.2.1)\n",
      "Requirement already satisfied, skipping upgrade: smmap2>=2.0.0 in c:\\users\\jeremy\\documents\\code\\ml-tools-and-examples\\venv\\lib\\site-packages (from gitdb2>=2.0.0->GitPython>=1.0.0->wandb) (2.0.5)\n",
      "Requirement already satisfied, skipping upgrade: rx<3,>=1.6 in c:\\users\\jeremy\\documents\\code\\ml-tools-and-examples\\venv\\lib\\site-packages (from graphql-core>=0.5.0->gql>=0.1.0->wandb) (1.6.1)\n"
     ]
    },
    {
     "name": "stderr",
     "output_type": "stream",
     "text": [
      "You are using pip version 18.1, however version 19.3.1 is available.\n",
      "You should consider upgrading via the 'python -m pip install --upgrade pip' command.\n"
     ]
    }
   ],
   "source": [
    "pip install --upgrade wandb"
   ]
  },
  {
   "cell_type": "code",
   "execution_count": 4,
   "metadata": {},
   "outputs": [
    {
     "name": "stdout",
     "output_type": "stream",
     "text": [
      "Collecting tensorflow-gpu\n",
      "  Using cached https://files.pythonhosted.org/packages/d5/cf/83a8b5aa711adcdbed5496618663ed99878b28e843593cb6b2fae6a59181/tensorflow_gpu-2.0.0-cp36-cp36m-win_amd64.whl\n",
      "Requirement already satisfied: keras-applications>=1.0.8 in c:\\users\\jeremy\\documents\\code\\ml-tools-and-examples\\venv\\lib\\site-packages (from tensorflow-gpu) (1.0.8)\n",
      "Collecting termcolor>=1.1.0 (from tensorflow-gpu)\n",
      "  Using cached https://files.pythonhosted.org/packages/8a/48/a76be51647d0eb9f10e2a4511bf3ffb8cc1e6b14e9e4fab46173aa79f981/termcolor-1.1.0.tar.gz\n",
      "Collecting tensorboard<2.1.0,>=2.0.0 (from tensorflow-gpu)\n",
      "  Using cached https://files.pythonhosted.org/packages/d3/9e/a48cd34dd7b672ffc227b566f7d16d63c62c58b542d54efa45848c395dd4/tensorboard-2.0.1-py3-none-any.whl\n",
      "Collecting wrapt>=1.11.1 (from tensorflow-gpu)\n",
      "  Using cached https://files.pythonhosted.org/packages/23/84/323c2415280bc4fc880ac5050dddfb3c8062c2552b34c2e512eb4aa68f79/wrapt-1.11.2.tar.gz\n",
      "Requirement already satisfied: numpy<2.0,>=1.16.0 in c:\\users\\jeremy\\documents\\code\\ml-tools-and-examples\\venv\\lib\\site-packages (from tensorflow-gpu) (1.17.3)\n",
      "Collecting gast==0.2.2 (from tensorflow-gpu)\n",
      "  Using cached https://files.pythonhosted.org/packages/4e/35/11749bf99b2d4e3cceb4d55ca22590b0d7c2c62b9de38ac4a4a7f4687421/gast-0.2.2.tar.gz\n",
      "Collecting tensorflow-estimator<2.1.0,>=2.0.0 (from tensorflow-gpu)\n",
      "  Using cached https://files.pythonhosted.org/packages/fc/08/8b927337b7019c374719145d1dceba21a8bb909b93b1ad6f8fb7d22c1ca1/tensorflow_estimator-2.0.1-py2.py3-none-any.whl\n",
      "Collecting google-pasta>=0.1.6 (from tensorflow-gpu)\n",
      "  Downloading https://files.pythonhosted.org/packages/c3/fd/1e86bc4837cc9a3a5faf3db9b1854aa04ad35b5f381f9648fbe81a6f94e4/google_pasta-0.1.8-py3-none-any.whl (57kB)\n",
      "Collecting absl-py>=0.7.0 (from tensorflow-gpu)\n",
      "  Using cached https://files.pythonhosted.org/packages/3b/72/e6e483e2db953c11efa44ee21c5fdb6505c4dffa447b4263ca8af6676b62/absl-py-0.8.1.tar.gz\n",
      "Collecting protobuf>=3.6.1 (from tensorflow-gpu)\n",
      "  Using cached https://files.pythonhosted.org/packages/2d/73/4a14606fa26f186e23015bc974f9010e2bbf1607f372e3bd5e82d2a62f1b/protobuf-3.10.0-cp36-cp36m-win_amd64.whl\n",
      "Collecting opt-einsum>=2.3.2 (from tensorflow-gpu)\n",
      "  Using cached https://files.pythonhosted.org/packages/b8/83/755bd5324777875e9dff19c2e59daec837d0378c09196634524a3d7269ac/opt_einsum-3.1.0.tar.gz\n",
      "Requirement already satisfied: keras-preprocessing>=1.0.5 in c:\\users\\jeremy\\documents\\code\\ml-tools-and-examples\\venv\\lib\\site-packages (from tensorflow-gpu) (1.1.0)\n",
      "Requirement already satisfied: six>=1.10.0 in c:\\users\\jeremy\\documents\\code\\ml-tools-and-examples\\venv\\lib\\site-packages (from tensorflow-gpu) (1.12.0)\n",
      "Collecting astor>=0.6.0 (from tensorflow-gpu)\n",
      "  Using cached https://files.pythonhosted.org/packages/d1/4f/950dfae467b384fc96bc6469de25d832534f6b4441033c39f914efd13418/astor-0.8.0-py2.py3-none-any.whl\n",
      "Collecting wheel>=0.26 (from tensorflow-gpu)\n",
      "  Using cached https://files.pythonhosted.org/packages/00/83/b4a77d044e78ad1a45610eb88f745be2fd2c6d658f9798a15e384b7d57c9/wheel-0.33.6-py2.py3-none-any.whl\n",
      "Collecting grpcio>=1.8.6 (from tensorflow-gpu)\n",
      "  Using cached https://files.pythonhosted.org/packages/70/34/b04fa7c1b1bd5e00e2cceea68aa21fa871349405b168394d2218baaa2c13/grpcio-1.24.3-cp36-cp36m-win_amd64.whl\n",
      "Requirement already satisfied: h5py in c:\\users\\jeremy\\documents\\code\\ml-tools-and-examples\\venv\\lib\\site-packages (from keras-applications>=1.0.8->tensorflow-gpu) (2.10.0)\n",
      "Collecting markdown>=2.6.8 (from tensorboard<2.1.0,>=2.0.0->tensorflow-gpu)\n",
      "  Using cached https://files.pythonhosted.org/packages/c0/4e/fd492e91abdc2d2fcb70ef453064d980688762079397f779758e055f6575/Markdown-3.1.1-py2.py3-none-any.whl\n",
      "Collecting setuptools>=41.0.0 (from tensorboard<2.1.0,>=2.0.0->tensorflow-gpu)\n",
      "  Using cached https://files.pythonhosted.org/packages/d9/de/554b6310ac87c5b921bc45634b07b11394fe63bc4cb5176f5240addf18ab/setuptools-41.6.0-py2.py3-none-any.whl\n",
      "Collecting google-auth<2,>=1.6.3 (from tensorboard<2.1.0,>=2.0.0->tensorflow-gpu)\n",
      "  Downloading https://files.pythonhosted.org/packages/2f/81/d1e7d9974ba7c886f6d133a8baae18cb8d92b2d09bcc4f46328306825de0/google_auth-1.7.0-py2.py3-none-any.whl (74kB)\n",
      "Collecting werkzeug>=0.11.15 (from tensorboard<2.1.0,>=2.0.0->tensorflow-gpu)\n",
      "  Using cached https://files.pythonhosted.org/packages/ce/42/3aeda98f96e85fd26180534d36570e4d18108d62ae36f87694b476b83d6f/Werkzeug-0.16.0-py2.py3-none-any.whl\n",
      "Collecting google-auth-oauthlib<0.5,>=0.4.1 (from tensorboard<2.1.0,>=2.0.0->tensorflow-gpu)\n",
      "  Using cached https://files.pythonhosted.org/packages/7b/b8/88def36e74bee9fce511c9519571f4e485e890093ab7442284f4ffaef60b/google_auth_oauthlib-0.4.1-py2.py3-none-any.whl\n",
      "Collecting pyasn1-modules>=0.2.1 (from google-auth<2,>=1.6.3->tensorboard<2.1.0,>=2.0.0->tensorflow-gpu)\n",
      "  Using cached https://files.pythonhosted.org/packages/52/50/bb4cefca37da63a0c52218ba2cb1b1c36110d84dcbae8aa48cd67c5e95c2/pyasn1_modules-0.2.7-py2.py3-none-any.whl\n",
      "Collecting cachetools<3.2,>=2.0.0 (from google-auth<2,>=1.6.3->tensorboard<2.1.0,>=2.0.0->tensorflow-gpu)\n",
      "  Using cached https://files.pythonhosted.org/packages/2f/a6/30b0a0bef12283e83e58c1d6e7b5aabc7acfc4110df81a4471655d33e704/cachetools-3.1.1-py2.py3-none-any.whl\n",
      "Collecting rsa<4.1,>=3.1.4 (from google-auth<2,>=1.6.3->tensorboard<2.1.0,>=2.0.0->tensorflow-gpu)\n",
      "  Using cached https://files.pythonhosted.org/packages/02/e5/38518af393f7c214357079ce67a317307936896e961e35450b70fad2a9cf/rsa-4.0-py2.py3-none-any.whl\n",
      "Collecting requests-oauthlib>=0.7.0 (from google-auth-oauthlib<0.5,>=0.4.1->tensorboard<2.1.0,>=2.0.0->tensorflow-gpu)\n",
      "  Using cached https://files.pythonhosted.org/packages/c2/e2/9fd03d55ffb70fe51f587f20bcf407a6927eb121de86928b34d162f0b1ac/requests_oauthlib-1.2.0-py2.py3-none-any.whl\n",
      "Collecting pyasn1<0.5.0,>=0.4.6 (from pyasn1-modules>=0.2.1->google-auth<2,>=1.6.3->tensorboard<2.1.0,>=2.0.0->tensorflow-gpu)\n",
      "  Using cached https://files.pythonhosted.org/packages/a1/71/8f0d444e3a74e5640a3d5d967c1c6b015da9c655f35b2d308a55d907a517/pyasn1-0.4.7-py2.py3-none-any.whl\n",
      "Collecting oauthlib>=3.0.0 (from requests-oauthlib>=0.7.0->google-auth-oauthlib<0.5,>=0.4.1->tensorboard<2.1.0,>=2.0.0->tensorflow-gpu)\n",
      "  Using cached https://files.pythonhosted.org/packages/05/57/ce2e7a8fa7c0afb54a0581b14a65b56e62b5759dbc98e80627142b8a3704/oauthlib-3.1.0-py2.py3-none-any.whl\n",
      "Requirement already satisfied: requests>=2.0.0 in c:\\users\\jeremy\\documents\\code\\ml-tools-and-examples\\venv\\lib\\site-packages (from requests-oauthlib>=0.7.0->google-auth-oauthlib<0.5,>=0.4.1->tensorboard<2.1.0,>=2.0.0->tensorflow-gpu) (2.22.0)\n",
      "Requirement already satisfied: certifi>=2017.4.17 in c:\\users\\jeremy\\documents\\code\\ml-tools-and-examples\\venv\\lib\\site-packages (from requests>=2.0.0->requests-oauthlib>=0.7.0->google-auth-oauthlib<0.5,>=0.4.1->tensorboard<2.1.0,>=2.0.0->tensorflow-gpu) (2019.9.11)\n",
      "Requirement already satisfied: urllib3!=1.25.0,!=1.25.1,<1.26,>=1.21.1 in c:\\users\\jeremy\\documents\\code\\ml-tools-and-examples\\venv\\lib\\site-packages (from requests>=2.0.0->requests-oauthlib>=0.7.0->google-auth-oauthlib<0.5,>=0.4.1->tensorboard<2.1.0,>=2.0.0->tensorflow-gpu) (1.25.6)\n",
      "Requirement already satisfied: chardet<3.1.0,>=3.0.2 in c:\\users\\jeremy\\documents\\code\\ml-tools-and-examples\\venv\\lib\\site-packages (from requests>=2.0.0->requests-oauthlib>=0.7.0->google-auth-oauthlib<0.5,>=0.4.1->tensorboard<2.1.0,>=2.0.0->tensorflow-gpu) (3.0.4)\n",
      "Requirement already satisfied: idna<2.9,>=2.5 in c:\\users\\jeremy\\documents\\code\\ml-tools-and-examples\\venv\\lib\\site-packages (from requests>=2.0.0->requests-oauthlib>=0.7.0->google-auth-oauthlib<0.5,>=0.4.1->tensorboard<2.1.0,>=2.0.0->tensorflow-gpu) (2.8)\n",
      "Installing collected packages: termcolor, setuptools, markdown, wheel, grpcio, pyasn1, pyasn1-modules, cachetools, rsa, google-auth, protobuf, werkzeug, oauthlib, requests-oauthlib, google-auth-oauthlib, absl-py, tensorboard, wrapt, gast, tensorflow-estimator, google-pasta, opt-einsum, astor, tensorflow-gpu\n",
      "  Running setup.py install for termcolor: started\n",
      "    Running setup.py install for termcolor: finished with status 'done'\n",
      "  Found existing installation: setuptools 40.6.2\n",
      "    Uninstalling setuptools-40.6.2:\n",
      "      Successfully uninstalled setuptools-40.6.2\n",
      "  Running setup.py install for absl-py: started\n",
      "    Running setup.py install for absl-py: finished with status 'done'\n",
      "  Running setup.py install for wrapt: started\n",
      "    Running setup.py install for wrapt: finished with status 'done'\n",
      "  Running setup.py install for gast: started\n",
      "    Running setup.py install for gast: finished with status 'done'\n",
      "  Running setup.py install for opt-einsum: started\n",
      "    Running setup.py install for opt-einsum: finished with status 'done'\n",
      "Successfully installed absl-py-0.8.1 astor-0.8.0 cachetools-3.1.1 gast-0.2.2 google-auth-1.7.0 google-auth-oauthlib-0.4.1 google-pasta-0.1.8 grpcio-1.24.3 markdown-3.1.1 oauthlib-3.1.0 opt-einsum-3.1.0 protobuf-3.10.0 pyasn1-0.4.7 pyasn1-modules-0.2.7 requests-oauthlib-1.2.0 rsa-4.0 setuptools-41.6.0 tensorboard-2.0.1 tensorflow-estimator-2.0.1 tensorflow-gpu-2.0.0 termcolor-1.1.0 werkzeug-0.16.0 wheel-0.33.6 wrapt-1.11.2\n",
      "Note: you may need to restart the kernel to use updated packages.\n"
     ]
    },
    {
     "name": "stderr",
     "output_type": "stream",
     "text": [
      "You are using pip version 18.1, however version 19.3.1 is available.\n",
      "You should consider upgrading via the 'python -m pip install --upgrade pip' command.\n"
     ]
    }
   ],
   "source": [
    "pip install tensorflow-gpu"
   ]
  },
  {
   "cell_type": "code",
   "execution_count": 5,
   "metadata": {},
   "outputs": [
    {
     "name": "stderr",
     "output_type": "stream",
     "text": [
      "wandb: Appending key for api.wandb.ai to your netrc file: C:\\Users\\Jeremy/.netrc\n",
      "wandb: WARNING import wandb.keras called before import keras or import tensorflow.keras.  This can lead to a version mismatch, W&B now assumes tensorflow.keras\n"
     ]
    },
    {
     "name": "stdout",
     "output_type": "stream",
     "text": [
      "Successfully logged in to Weights & Biases!\n"
     ]
    },
    {
     "data": {
      "text/html": [
       "\n",
       "                    Logging results to <a href=\"https://wandb.com\" target=\"_blank\">Weights & Biases</a>.<br/>\n",
       "                    Couldn't load entity due to error: Can't connect to network to query entity from API key\n",
       "                "
      ],
      "text/plain": [
       "<IPython.core.display.HTML object>"
      ]
     },
     "metadata": {},
     "output_type": "display_data"
    },
    {
     "data": {
      "text/plain": [
       "W&B Run: https://app.wandb.ai/jeremy/16-class-ner/runs/9qarv1gw"
      ]
     },
     "execution_count": 5,
     "metadata": {},
     "output_type": "execute_result"
    }
   ],
   "source": [
    "!wandb login 2295caae2022fe6a431a755f74d1e9e8605848eb\n",
    "import wandb\n",
    "from wandb.keras import WandbCallback\n",
    "wandb.init(project=\"16-class-ner\")\n"
   ]
  },
  {
   "cell_type": "code",
   "execution_count": 7,
   "metadata": {},
   "outputs": [
    {
     "name": "stdout",
     "output_type": "stream",
     "text": [
      "Collecting pandas\n",
      "  Using cached https://files.pythonhosted.org/packages/f0/ac/92c3d2f0b627efbd1a7b2156faa697f9c2bbd7b0fe83ba8a9d36f982156f/pandas-0.25.3-cp36-cp36m-win_amd64.whl\n",
      "Collecting scikit-learn\n",
      "  Using cached https://files.pythonhosted.org/packages/76/79/60050330fe57fb59f2c53d0d11673df28c20ea9315da3652477429fc4949/scikit_learn-0.21.3-cp36-cp36m-win_amd64.whl\n",
      "Requirement already satisfied: numpy in c:\\users\\jeremy\\documents\\code\\ml-tools-and-examples\\venv\\lib\\site-packages (1.17.3)\n",
      "Requirement already satisfied: python-dateutil>=2.6.1 in c:\\users\\jeremy\\documents\\code\\ml-tools-and-examples\\venv\\lib\\site-packages (from pandas) (2.8.1)\n",
      "Collecting pytz>=2017.2 (from pandas)\n",
      "  Using cached https://files.pythonhosted.org/packages/e7/f9/f0b53f88060247251bf481fa6ea62cd0d25bf1b11a87888e53ce5b7c8ad2/pytz-2019.3-py2.py3-none-any.whl\n",
      "Requirement already satisfied: scipy>=0.17.0 in c:\\users\\jeremy\\documents\\code\\ml-tools-and-examples\\venv\\lib\\site-packages (from scikit-learn) (1.3.1)\n",
      "Collecting joblib>=0.11 (from scikit-learn)\n",
      "  Using cached https://files.pythonhosted.org/packages/8f/42/155696f85f344c066e17af287359c9786b436b1bf86029bb3411283274f3/joblib-0.14.0-py2.py3-none-any.whl\n",
      "Requirement already satisfied: six>=1.5 in c:\\users\\jeremy\\documents\\code\\ml-tools-and-examples\\venv\\lib\\site-packages (from python-dateutil>=2.6.1->pandas) (1.12.0)\n",
      "Installing collected packages: pytz, pandas, joblib, scikit-learn\n",
      "Successfully installed joblib-0.14.0 pandas-0.25.3 pytz-2019.3 scikit-learn-0.21.3\n",
      "Note: you may need to restart the kernel to use updated packages.\n"
     ]
    },
    {
     "name": "stderr",
     "output_type": "stream",
     "text": [
      "You are using pip version 18.1, however version 19.3.1 is available.\n",
      "You should consider upgrading via the 'python -m pip install --upgrade pip' command.\n"
     ]
    }
   ],
   "source": [
    "pip install pandas scikit-learn numpy"
   ]
  },
  {
   "cell_type": "code",
   "execution_count": 8,
   "metadata": {},
   "outputs": [],
   "source": [
    "import json\n",
    "import pandas as pd\n",
    "import numpy as np\n",
    "from sklearn.feature_extraction import DictVectorizer\n",
    "from sklearn.linear_model import Perceptron\n",
    "from sklearn.model_selection import train_test_split\n",
    "from sklearn.metrics import precision_recall_fscore_support, f1_score"
   ]
  },
  {
   "cell_type": "code",
   "execution_count": 9,
   "metadata": {},
   "outputs": [
    {
     "name": "stderr",
     "output_type": "stream",
     "text": [
      "Using TensorFlow backend.\n"
     ]
    }
   ],
   "source": [
    "import keras\n",
    "from keras.preprocessing.text import *\n",
    "from keras.preprocessing import *\n",
    "from sklearn.preprocessing import OneHotEncoder, LabelBinarizer, MultiLabelBinarizer, LabelEncoder"
   ]
  },
  {
   "cell_type": "code",
   "execution_count": 10,
   "metadata": {},
   "outputs": [
    {
     "name": "stderr",
     "output_type": "stream",
     "text": [
      "b'Skipping line 281837: expected 25 fields, saw 34\\n'\n"
     ]
    }
   ],
   "source": [
    "df = pd.read_csv(\"D:\\\\Data\\\\entity-annotated-corpus\\\\ner.csv\", encoding = \"ISO-8859-1\", error_bad_lines=False)\n",
    "df.dropna(inplace=True)"
   ]
  },
  {
   "cell_type": "code",
   "execution_count": 12,
   "metadata": {},
   "outputs": [
    {
     "name": "stdout",
     "output_type": "stream",
     "text": [
      "35177\n"
     ]
    },
    {
     "data": {
      "text/plain": [
       "1050794"
      ]
     },
     "execution_count": 12,
     "metadata": {},
     "output_type": "execute_result"
    }
   ],
   "source": [
    "print(len(df['sentence_idx'].unique()))\n",
    "num_samples = len(df)\n",
    "num_samples"
   ]
  },
  {
   "cell_type": "code",
   "execution_count": 13,
   "metadata": {},
   "outputs": [
    {
     "data": {
      "text/html": [
       "<div>\n",
       "<style scoped>\n",
       "    .dataframe tbody tr th:only-of-type {\n",
       "        vertical-align: middle;\n",
       "    }\n",
       "\n",
       "    .dataframe tbody tr th {\n",
       "        vertical-align: top;\n",
       "    }\n",
       "\n",
       "    .dataframe thead th {\n",
       "        text-align: right;\n",
       "    }\n",
       "</style>\n",
       "<table border=\"1\" class=\"dataframe\">\n",
       "  <thead>\n",
       "    <tr style=\"text-align: right;\">\n",
       "      <th></th>\n",
       "      <th>word</th>\n",
       "      <th>tag</th>\n",
       "      <th>sentence_idx</th>\n",
       "    </tr>\n",
       "  </thead>\n",
       "  <tbody>\n",
       "    <tr>\n",
       "      <th>1050790</th>\n",
       "      <td>they</td>\n",
       "      <td>O</td>\n",
       "      <td>47959.0</td>\n",
       "    </tr>\n",
       "    <tr>\n",
       "      <th>1050791</th>\n",
       "      <td>responded</td>\n",
       "      <td>O</td>\n",
       "      <td>47959.0</td>\n",
       "    </tr>\n",
       "    <tr>\n",
       "      <th>1050792</th>\n",
       "      <td>to</td>\n",
       "      <td>O</td>\n",
       "      <td>47959.0</td>\n",
       "    </tr>\n",
       "    <tr>\n",
       "      <th>1050793</th>\n",
       "      <td>the</td>\n",
       "      <td>O</td>\n",
       "      <td>47959.0</td>\n",
       "    </tr>\n",
       "    <tr>\n",
       "      <th>1050794</th>\n",
       "      <td>attack</td>\n",
       "      <td>O</td>\n",
       "      <td>47959.0</td>\n",
       "    </tr>\n",
       "  </tbody>\n",
       "</table>\n",
       "</div>"
      ],
      "text/plain": [
       "              word tag  sentence_idx\n",
       "1050790       they   O       47959.0\n",
       "1050791  responded   O       47959.0\n",
       "1050792         to   O       47959.0\n",
       "1050793        the   O       47959.0\n",
       "1050794     attack   O       47959.0"
      ]
     },
     "execution_count": 13,
     "metadata": {},
     "output_type": "execute_result"
    }
   ],
   "source": [
    "filtered_df = df.filter(['word', 'tag', 'sentence_idx'])\n",
    "filtered_df.tail()"
   ]
  },
  {
   "cell_type": "code",
   "execution_count": 14,
   "metadata": {},
   "outputs": [],
   "source": [
    "def get_multilabel():\n",
    "  sentences = []\n",
    "  tags = []\n",
    "\n",
    "  sentids = filtered_df['sentence_idx'].unique()\n",
    "\n",
    "  curr_sent_id = filtered_df['sentence_idx'].iloc[0]\n",
    "  tokens = []\n",
    "  tag_tokens = []\n",
    "  row = None\n",
    "  for index, row in filtered_df.iterrows():\n",
    "\n",
    "    sent_id = row['sentence_idx']\n",
    "\n",
    "    if curr_sent_id == sent_id:\n",
    "      tokens.append(row['word'])\n",
    "      tag_tokens.append(row['tag'])\n",
    "    else:\n",
    "      curr_sent_id = sent_id\n",
    "      sentences.append(\" \".join(tokens))\n",
    "      tags.append(tag_tokens)\n",
    "      tokens = []\n",
    "      tag_tokens = []\n",
    "\n",
    "  # get the last sentence\n",
    "  sentences.append(\" \".join(tokens))\n",
    "  tags.append(tag_tokens)# print(sentences)\n",
    "  \n",
    "  x, y, enc, tok = prepare_multilabel(sentences, tags)\n",
    "  \n",
    "  return x, y, enc, tok\n",
    "\n",
    "def prepare_multilabel(sentences, tags):\n",
    "  # prepare y data\n",
    "  y = np.array(tags)\n",
    "  enc = MultiLabelBinarizer()\n",
    "  y = enc.fit_transform(y)\n",
    "  print(enc.classes_)\n",
    "  print(y[0])\n",
    "  print(y.shape)\n",
    "  \n",
    "  # prepare x data\n",
    "  x = np.array(sentences)\n",
    "  tok = Tokenizer()\n",
    "  tok.fit_on_texts(x)\n",
    "  x = tok.texts_to_sequences(x)\n",
    "  x = sequence.pad_sequences(x, maxlen=100, padding='post')\n",
    "  x = np.array(x)\n",
    "  return x, y, enc, tok\n"
   ]
  },
  {
   "cell_type": "code",
   "execution_count": 17,
   "metadata": {},
   "outputs": [],
   "source": [
    "def get_singlelabel():\n",
    "  words = filtered_df['word'].values\n",
    "  tags = filtered_df['tag'].values\n",
    "  \n",
    "  x, y, le,enc, tok = prepare_singlelabel(words, tags)\n",
    "  return x, y, le, enc, tok\n",
    "  \n",
    "def prepare_singlelabel(words, tags):\n",
    "  \n",
    "  # prepare x\n",
    "  x = np.array(words)\n",
    "  tok = Tokenizer()\n",
    "  tok.fit_on_texts(x)\n",
    "  x = tok.texts_to_sequences(x)\n",
    "  x = sequence.pad_sequences(x, maxlen=1, padding='post')\n",
    "  x = np.array(x)\n",
    "    \n",
    "  # prepare y\n",
    "  le = LabelEncoder()\n",
    "  labels = le.fit_transform(tags)\n",
    "  enc = LabelBinarizer()\n",
    "  y = enc.fit_transform(labels)\n",
    "  \n",
    "  print(enc.classes_)\n",
    "  print(y[0])\n",
    "  print(y.shape)\n",
    "  \n",
    "  return x, y, le, enc, tok"
   ]
  },
  {
   "cell_type": "code",
   "execution_count": 18,
   "metadata": {},
   "outputs": [
    {
     "name": "stdout",
     "output_type": "stream",
     "text": [
      "[ 0  1  2  3  4  5  6  7  8  9 10 11 12 13 14 15 16]\n",
      "[0 0 0 0 0 0 0 0 0 0 0 0 0 0 0 0 1]\n",
      "(1050794, 17)\n"
     ]
    }
   ],
   "source": [
    "# x, y = get_multilabel()\n",
    "# x, y, le, enc, tok = get_singlelabel()\n",
    "x,y,le,enc,tok = get_singlelabel()"
   ]
  },
  {
   "cell_type": "code",
   "execution_count": 0,
   "metadata": {
    "colab": {
     "base_uri": "https://localhost:8080/",
     "height": 35
    },
    "colab_type": "code",
    "id": "cFMOZw8v2yDm",
    "outputId": "0c22af86-298a-4eb6-ce68-5d44e856bafd"
   },
   "outputs": [
    {
     "name": "stdout",
     "output_type": "stream",
     "text": [
      "Requirement already satisfied: dill in /usr/local/lib/python3.6/dist-packages (0.3.0)\n"
     ]
    }
   ],
   "source": [
    "pip install dill"
   ]
  },
  {
   "cell_type": "code",
   "execution_count": 0,
   "metadata": {
    "colab": {},
    "colab_type": "code",
    "id": "bHH_zQr0191Q"
   },
   "outputs": [],
   "source": [
    "import dill\n",
    "with open(\"data_utils.pkl\", \"wb\") as f:\n",
    "  dill.dump((x,y,le,enc,tok), f)"
   ]
  },
  {
   "cell_type": "code",
   "execution_count": 19,
   "metadata": {
    "colab": {
     "base_uri": "https://localhost:8080/",
     "height": 54
    },
    "colab_type": "code",
    "id": "PLqgTQx7qd6P",
    "outputId": "c1d9caf4-7967-421a-9aa0-ef2e65f631f7"
   },
   "outputs": [
    {
     "name": "stdout",
     "output_type": "stream",
     "text": [
      "1050794\n",
      "1050794\n"
     ]
    }
   ],
   "source": [
    "print(len(x))\n",
    "print(len(y))"
   ]
  },
  {
   "cell_type": "code",
   "execution_count": 20,
   "metadata": {
    "colab": {},
    "colab_type": "code",
    "id": "d3GWQj79FS6J"
   },
   "outputs": [],
   "source": [
    " # print(tok.__dict__.keys())\n",
    "num_words = len(tok.word_index)"
   ]
  },
  {
   "cell_type": "code",
   "execution_count": 21,
   "metadata": {
    "colab": {
     "base_uri": "https://localhost:8080/",
     "height": 35
    },
    "colab_type": "code",
    "id": "S4oCarG-7gx8",
    "outputId": "25d10354-7173-4186-927c-7aacf0a54255"
   },
   "outputs": [
    {
     "data": {
      "text/plain": [
       "24381"
      ]
     },
     "execution_count": 21,
     "metadata": {},
     "output_type": "execute_result"
    }
   ],
   "source": [
    "num_words"
   ]
  },
  {
   "cell_type": "code",
   "execution_count": 22,
   "metadata": {
    "colab": {
     "base_uri": "https://localhost:8080/",
     "height": 35
    },
    "colab_type": "code",
    "id": "bjbwy1QJmjtn",
    "outputId": "70055da9-a09c-4b11-9900-3f5077b5ccb3"
   },
   "outputs": [
    {
     "data": {
      "text/plain": [
       "17"
      ]
     },
     "execution_count": 22,
     "metadata": {},
     "output_type": "execute_result"
    }
   ],
   "source": [
    "# classes = filtered_df['tag'].unique()\n",
    "num_classes = y.shape[1]\n",
    "num_classes"
   ]
  },
  {
   "cell_type": "markdown",
   "metadata": {
    "colab_type": "text",
    "id": "ckDSgZOVmjt1"
   },
   "source": [
    "Splitting Train and test data"
   ]
  },
  {
   "cell_type": "code",
   "execution_count": 23,
   "metadata": {
    "colab": {
     "base_uri": "https://localhost:8080/",
     "height": 54
    },
    "colab_type": "code",
    "id": "b_a2CnkQmjt2",
    "outputId": "d3b74bf5-304d-44dc-da2b-50c62e2f22de"
   },
   "outputs": [
    {
     "name": "stdout",
     "output_type": "stream",
     "text": [
      "(735555, 1)\n",
      "(735555, 17)\n"
     ]
    }
   ],
   "source": [
    "x_train, x_test, y_train, y_test = train_test_split(x, y, test_size=0.3, random_state=0)\n",
    "print(x_train.shape)\n",
    "print(y_train.shape)"
   ]
  },
  {
   "cell_type": "code",
   "execution_count": 0,
   "metadata": {
    "colab": {},
    "colab_type": "code",
    "id": "dRsuFt3t1rzr"
   },
   "outputs": [],
   "source": [
    "def hyperas_data_fn():\n",
    "  import dill\n",
    "  with open(\"data_utils.pkl\", \"rb\") as f:\n",
    "    x,y,le,enc,tok = dill.load(f)\n",
    "    return x,y,le,enc,tok "
   ]
  },
  {
   "cell_type": "code",
   "execution_count": 24,
   "metadata": {
    "colab": {},
    "colab_type": "code",
    "id": "zUmfE7PTmjt8"
   },
   "outputs": [],
   "source": [
    "import keras\n",
    "from keras.models import Sequential\n",
    "from keras.layers import Dense, Dropout, Activation, Embedding, GlobalMaxPooling1D\n",
    "from keras.optimizers import SGD\n",
    "from keras import backend as K\n",
    "  \n",
    "\n",
    "def recall_m(y_true, y_pred):\n",
    "        true_positives = K.sum(K.round(K.clip(y_true * y_pred, 0, 1)))\n",
    "        possible_positives = K.sum(K.round(K.clip(y_true, 0, 1)))\n",
    "        recall = true_positives / (possible_positives + K.epsilon())\n",
    "        return recall\n",
    "\n",
    "def precision_m(y_true, y_pred):\n",
    "        true_positives = K.sum(K.round(K.clip(y_true * y_pred, 0, 1)))\n",
    "        predicted_positives = K.sum(K.round(K.clip(y_pred, 0, 1)))\n",
    "        precision = true_positives / (predicted_positives + K.epsilon())\n",
    "        return precision\n",
    "\n",
    "def f1_m(y_true, y_pred):\n",
    "    precision = precision_m(y_true, y_pred)\n",
    "    recall = recall_m(y_true, y_pred)\n",
    "    return 2*((precision*recall)/(precision+recall+K.epsilon()))\n",
    "\n",
    "  \n",
    "def get_model(num_classes, num_words, embed_out=64, dense_1_nodes=64, dropout_1=0.5):\n",
    "    model = Sequential()\n",
    "    model.add(Embedding(num_words+1, embed_out, input_length=1, name='embedding_layer'))\n",
    "    model.add(GlobalMaxPooling1D())\n",
    "    model.add(Dense(dense_1_nodes, activation='relu', name='dense_1'))\n",
    "    model.add(Dropout(dropout_1))\n",
    "#     model.add(Dense(num_classes, activation='sigmoid')) # multilabel\n",
    "    model.add(Dense(num_classes, activation='sigmoid', name='output_layer')) #single label\n",
    "    model.compile(loss='categorical_crossentropy', optimizer='adam', metrics=['acc',f1_m,precision_m, recall_m])\n",
    "    return model"
   ]
  },
  {
   "cell_type": "code",
   "execution_count": 27,
   "metadata": {
    "colab": {},
    "colab_type": "code",
    "id": "g6tcV-nky9R4"
   },
   "outputs": [],
   "source": [
    "import random\n",
    "batch_size = 1024\n",
    "\n",
    "\n",
    "def run_trials_single():\n",
    "  run_name = \"Testing new GPU\" # what are you testing with this run\n",
    "  notes = \"\"\n",
    "\n",
    "  #hyperparams\n",
    "  hyperparams = dict(\n",
    "    embed_out =random.randint(8,256),\n",
    "    dense_1_nodes = random.randint(8,256),\n",
    "    dropout_1=random.uniform(0,0.95),\n",
    "  )\n",
    "\n",
    "  config= {\n",
    "      \"epochs\": 50,\n",
    "      \"num_classes\":num_classes,\n",
    "      \"num_words\": num_words,\n",
    "      \"batch_size\":batch_size,\n",
    "      **hyperparams\n",
    "  }\n",
    "\n",
    "  model = get_model(num_classes, num_words, **hyperparams)\n",
    "\n",
    "  wandb.init(project=\"16-class-ner\", name=run_name, config=config, notes=notes)\n",
    "\n",
    "  history = model.fit(x_train, y_train, batch_size=config['batch_size'], epochs=config['epochs'], \n",
    "            validation_split=0.2, callbacks=[WandbCallback()])\n",
    "\n",
    "  scores = model.evaluate(x_test, y_test)\n",
    "  wandb.log({'test_'+metric: scores[index] for index, metric in enumerate(model.metrics_names)})\n",
    "  print(\"\\n*** Finished! ***\")"
   ]
  },
  {
   "cell_type": "code",
   "execution_count": null,
   "metadata": {
    "colab": {
     "base_uri": "https://localhost:8080/",
     "height": 348
    },
    "colab_type": "code",
    "id": "uZDlqs4C9JkG",
    "outputId": "256e2c94-be9d-4139-983b-bd96e4533883"
   },
   "outputs": [
    {
     "name": "stdout",
     "output_type": "stream",
     "text": [
      "WARNING:tensorflow:Large dropout rate: 0.761677 (>0.5). In TensorFlow 2.x, dropout() uses dropout rate instead of keep_prob. Please ensure that this is intended.\n"
     ]
    },
    {
     "data": {
      "text/html": [
       "\n",
       "                Logging results to <a href=\"https://wandb.com\" target=\"_blank\">Weights & Biases</a> <a href=\"https://docs.wandb.com/integrations/jupyter.html\" target=\"_blank\">(Documentation)</a>.<br/>\n",
       "                Project page: <a href=\"https://app.wandb.ai/jeremy/16-class-ner\" target=\"_blank\">https://app.wandb.ai/jeremy/16-class-ner</a><br/>\n",
       "                Run page: <a href=\"https://app.wandb.ai/jeremy/16-class-ner/runs/lqx9jnp3\" target=\"_blank\">https://app.wandb.ai/jeremy/16-class-ner/runs/lqx9jnp3</a><br/>\n",
       "            "
      ],
      "text/plain": [
       "<IPython.core.display.HTML object>"
      ]
     },
     "metadata": {},
     "output_type": "display_data"
    },
    {
     "name": "stderr",
     "output_type": "stream",
     "text": [
      "c:\\users\\jeremy\\documents\\code\\ml-tools-and-examples\\venv\\lib\\site-packages\\tensorflow_core\\python\\framework\\indexed_slices.py:424: UserWarning: Converting sparse IndexedSlices to a dense Tensor of unknown shape. This may consume a large amount of memory.\n",
      "  \"Converting sparse IndexedSlices to a dense Tensor of unknown shape. \"\n"
     ]
    },
    {
     "name": "stdout",
     "output_type": "stream",
     "text": [
      "Train on 588444 samples, validate on 147111 samples\n",
      "Epoch 1/50\n",
      "588444/588444 [==============================] - 3s 6us/step - loss: 0.6139 - acc: 0.8847 - f1_m: 0.8547 - precision_m: 0.8352 - recall_m: 0.9036 - val_loss: 0.2427 - val_acc: 0.9324 - val_f1_m: 0.9308 - val_precision_m: 0.9305 - val_recall_m: 0.9311\n",
      "Epoch 2/50\n",
      "588444/588444 [==============================] - 3s 5us/step - loss: 0.2452 - acc: 0.9320 - f1_m: 0.9270 - precision_m: 0.9314 - recall_m: 0.9226 - val_loss: 0.2261 - val_acc: 0.9354 - val_f1_m: 0.9330 - val_precision_m: 0.9381 - val_recall_m: 0.9280\n",
      "Epoch 3/50\n",
      "588444/588444 [==============================] - 3s 5us/step - loss: 0.2227 - acc: 0.9377 - f1_m: 0.9282 - precision_m: 0.9377 - recall_m: 0.9190 - val_loss: 0.2237 - val_acc: 0.9365 - val_f1_m: 0.9317 - val_precision_m: 0.9389 - val_recall_m: 0.9246\n",
      "Epoch 4/50\n",
      "588444/588444 [==============================] - 3s 5us/step - loss: 0.2137 - acc: 0.9395 - f1_m: 0.9263 - precision_m: 0.9392 - recall_m: 0.9137 - val_loss: 0.2229 - val_acc: 0.9368 - val_f1_m: 0.9306 - val_precision_m: 0.9405 - val_recall_m: 0.9209\n",
      "Epoch 5/50\n",
      "588444/588444 [==============================] - 3s 5us/step - loss: 0.2087 - acc: 0.9401 - f1_m: 0.9232 - precision_m: 0.9411 - recall_m: 0.9060 - val_loss: 0.2225 - val_acc: 0.9367 - val_f1_m: 0.9295 - val_precision_m: 0.9446 - val_recall_m: 0.9149\n",
      "Epoch 6/50\n",
      "588444/588444 [==============================] - 3s 5us/step - loss: 0.2047 - acc: 0.9410 - f1_m: 0.9203 - precision_m: 0.9430 - recall_m: 0.8987 - val_loss: 0.2226 - val_acc: 0.9368 - val_f1_m: 0.9302 - val_precision_m: 0.9454 - val_recall_m: 0.9155\n",
      "Epoch 7/50\n",
      "588444/588444 [==============================] - 3s 5us/step - loss: 0.2013 - acc: 0.9414 - f1_m: 0.9189 - precision_m: 0.9450 - recall_m: 0.8942 - val_loss: 0.2244 - val_acc: 0.9366 - val_f1_m: 0.9231 - val_precision_m: 0.9492 - val_recall_m: 0.8985\n",
      "Epoch 8/50\n",
      "588444/588444 [==============================] - 3s 5us/step - loss: 0.1993 - acc: 0.9415 - f1_m: 0.9164 - precision_m: 0.9475 - recall_m: 0.8874 - val_loss: 0.2259 - val_acc: 0.9368 - val_f1_m: 0.9245 - val_precision_m: 0.9509 - val_recall_m: 0.8996\n",
      "Epoch 9/50\n",
      "588444/588444 [==============================] - 3s 5us/step - loss: 0.1972 - acc: 0.9421 - f1_m: 0.9141 - precision_m: 0.9497 - recall_m: 0.8811 - val_loss: 0.2259 - val_acc: 0.9365 - val_f1_m: 0.9220 - val_precision_m: 0.9518 - val_recall_m: 0.8940\n",
      "Epoch 10/50\n",
      "588444/588444 [==============================] - 3s 5us/step - loss: 0.1963 - acc: 0.9423 - f1_m: 0.9126 - precision_m: 0.9529 - recall_m: 0.8756 - val_loss: 0.2271 - val_acc: 0.9369 - val_f1_m: 0.9163 - val_precision_m: 0.9538 - val_recall_m: 0.8817\n",
      "Epoch 11/50\n",
      "588444/588444 [==============================] - 3s 5us/step - loss: 0.1941 - acc: 0.9425 - f1_m: 0.9096 - precision_m: 0.9568 - recall_m: 0.8668 - val_loss: 0.2283 - val_acc: 0.9368 - val_f1_m: 0.9095 - val_precision_m: 0.9587 - val_recall_m: 0.8652\n",
      "Epoch 12/50\n",
      "588444/588444 [==============================] - 3s 5us/step - loss: 0.1932 - acc: 0.9427 - f1_m: 0.9073 - precision_m: 0.9595 - recall_m: 0.8606 - val_loss: 0.2288 - val_acc: 0.9370 - val_f1_m: 0.9060 - val_precision_m: 0.9626 - val_recall_m: 0.8557\n",
      "Epoch 13/50\n",
      "588444/588444 [==============================] - 3s 5us/step - loss: 0.1915 - acc: 0.9431 - f1_m: 0.9046 - precision_m: 0.9619 - recall_m: 0.8537 - val_loss: 0.2304 - val_acc: 0.9372 - val_f1_m: 0.9058 - val_precision_m: 0.9642 - val_recall_m: 0.8540\n",
      "Epoch 14/50\n",
      "588444/588444 [==============================] - 3s 5us/step - loss: 0.1912 - acc: 0.9429 - f1_m: 0.9036 - precision_m: 0.9636 - recall_m: 0.8507 - val_loss: 0.2322 - val_acc: 0.9370 - val_f1_m: 0.9052 - val_precision_m: 0.9656 - val_recall_m: 0.8520\n",
      "Epoch 15/50\n",
      "588444/588444 [==============================] - 3s 5us/step - loss: 0.1904 - acc: 0.9428 - f1_m: 0.9034 - precision_m: 0.9655 - recall_m: 0.8489 - val_loss: 0.2328 - val_acc: 0.9369 - val_f1_m: 0.9024 - val_precision_m: 0.9667 - val_recall_m: 0.8462\n",
      "Epoch 16/50\n",
      "588444/588444 [==============================] - 3s 5us/step - loss: 0.1892 - acc: 0.9431 - f1_m: 0.9031 - precision_m: 0.9663 - recall_m: 0.8477 - val_loss: 0.2340 - val_acc: 0.9366 - val_f1_m: 0.9035 - val_precision_m: 0.9672 - val_recall_m: 0.8478\n",
      "Epoch 17/50\n",
      "588444/588444 [==============================] - 3s 5us/step - loss: 0.1892 - acc: 0.9433 - f1_m: 0.9042 - precision_m: 0.9667 - recall_m: 0.8494 - val_loss: 0.2348 - val_acc: 0.9364 - val_f1_m: 0.9040 - val_precision_m: 0.9681 - val_recall_m: 0.8479\n",
      "Epoch 18/50\n",
      "588444/588444 [==============================] - 3s 5us/step - loss: 0.1879 - acc: 0.9433 - f1_m: 0.9031 - precision_m: 0.9683 - recall_m: 0.8462 - val_loss: 0.2353 - val_acc: 0.9362 - val_f1_m: 0.9019 - val_precision_m: 0.9685 - val_recall_m: 0.8439\n",
      "Epoch 19/50\n",
      "588444/588444 [==============================] - 3s 5us/step - loss: 0.1884 - acc: 0.9433 - f1_m: 0.9029 - precision_m: 0.9686 - recall_m: 0.8455 - val_loss: 0.2360 - val_acc: 0.9363 - val_f1_m: 0.9038 - val_precision_m: 0.9685 - val_recall_m: 0.8473\n",
      "Epoch 20/50\n",
      "588444/588444 [==============================] - 3s 5us/step - loss: 0.1881 - acc: 0.9432 - f1_m: 0.9037 - precision_m: 0.9691 - recall_m: 0.8466 - val_loss: 0.2365 - val_acc: 0.9359 - val_f1_m: 0.9015 - val_precision_m: 0.9685 - val_recall_m: 0.8432\n",
      "Epoch 21/50\n",
      "588444/588444 [==============================] - 3s 5us/step - loss: 0.1867 - acc: 0.9432 - f1_m: 0.9038 - precision_m: 0.9696 - recall_m: 0.8465 - val_loss: 0.2367 - val_acc: 0.9358 - val_f1_m: 0.9031 - val_precision_m: 0.9694 - val_recall_m: 0.8453\n",
      "Epoch 22/50\n",
      "588444/588444 [==============================] - 3s 5us/step - loss: 0.1869 - acc: 0.9433 - f1_m: 0.9044 - precision_m: 0.9698 - recall_m: 0.8473 - val_loss: 0.2381 - val_acc: 0.9360 - val_f1_m: 0.9032 - val_precision_m: 0.9693 - val_recall_m: 0.8457\n",
      "Epoch 23/50\n",
      "588444/588444 [==============================] - 3s 5us/step - loss: 0.1862 - acc: 0.9432 - f1_m: 0.9037 - precision_m: 0.9703 - recall_m: 0.8458 - val_loss: 0.2387 - val_acc: 0.9356 - val_f1_m: 0.9026 - val_precision_m: 0.9698 - val_recall_m: 0.8442\n",
      "Epoch 24/50\n",
      "588444/588444 [==============================] - 3s 5us/step - loss: 0.1859 - acc: 0.9433 - f1_m: 0.9035 - precision_m: 0.9705 - recall_m: 0.8453 - val_loss: 0.2393 - val_acc: 0.9354 - val_f1_m: 0.9026 - val_precision_m: 0.9701 - val_recall_m: 0.8439\n",
      "Epoch 25/50\n",
      "588444/588444 [==============================] - 3s 5us/step - loss: 0.1858 - acc: 0.9434 - f1_m: 0.9039 - precision_m: 0.9708 - recall_m: 0.8456 - val_loss: 0.2402 - val_acc: 0.9354 - val_f1_m: 0.9032 - val_precision_m: 0.9697 - val_recall_m: 0.8454\n",
      "Epoch 26/50\n",
      "588444/588444 [==============================] - 3s 5us/step - loss: 0.1859 - acc: 0.9432 - f1_m: 0.9043 - precision_m: 0.9705 - recall_m: 0.8466 - val_loss: 0.2406 - val_acc: 0.9356 - val_f1_m: 0.9035 - val_precision_m: 0.9695 - val_recall_m: 0.8460\n",
      "Epoch 27/50\n",
      "588444/588444 [==============================] - 3s 5us/step - loss: 0.1852 - acc: 0.9432 - f1_m: 0.9047 - precision_m: 0.9709 - recall_m: 0.8470 - val_loss: 0.2410 - val_acc: 0.9350 - val_f1_m: 0.9034 - val_precision_m: 0.9699 - val_recall_m: 0.8454\n",
      "Epoch 28/50\n",
      "588444/588444 [==============================] - 3s 5us/step - loss: 0.1853 - acc: 0.9432 - f1_m: 0.9046 - precision_m: 0.9712 - recall_m: 0.8467 - val_loss: 0.2412 - val_acc: 0.9348 - val_f1_m: 0.9037 - val_precision_m: 0.9700 - val_recall_m: 0.8459\n",
      "Epoch 29/50\n",
      "588444/588444 [==============================] - 3s 5us/step - loss: 0.1848 - acc: 0.9432 - f1_m: 0.9045 - precision_m: 0.9713 - recall_m: 0.8464 - val_loss: 0.2416 - val_acc: 0.9351 - val_f1_m: 0.9024 - val_precision_m: 0.9702 - val_recall_m: 0.8435\n",
      "Epoch 30/50\n",
      "588444/588444 [==============================] - 3s 5us/step - loss: 0.1849 - acc: 0.9432 - f1_m: 0.9047 - precision_m: 0.9715 - recall_m: 0.8467 - val_loss: 0.2417 - val_acc: 0.9350 - val_f1_m: 0.9010 - val_precision_m: 0.9715 - val_recall_m: 0.8401\n",
      "Epoch 31/50\n",
      "588444/588444 [==============================] - 3s 5us/step - loss: 0.1845 - acc: 0.9432 - f1_m: 0.9047 - precision_m: 0.9713 - recall_m: 0.8467 - val_loss: 0.2427 - val_acc: 0.9343 - val_f1_m: 0.9027 - val_precision_m: 0.9705 - val_recall_m: 0.8437\n"
     ]
    },
    {
     "name": "stdout",
     "output_type": "stream",
     "text": [
      "Epoch 32/50\n",
      "588444/588444 [==============================] - 3s 5us/step - loss: 0.1852 - acc: 0.9432 - f1_m: 0.9054 - precision_m: 0.9715 - recall_m: 0.8477 - val_loss: 0.2425 - val_acc: 0.9345 - val_f1_m: 0.9035 - val_precision_m: 0.9706 - val_recall_m: 0.8452\n",
      "Epoch 33/50\n",
      "588444/588444 [==============================] - 3s 5us/step - loss: 0.1842 - acc: 0.9432 - f1_m: 0.9050 - precision_m: 0.9715 - recall_m: 0.8472 - val_loss: 0.2439 - val_acc: 0.9342 - val_f1_m: 0.9032 - val_precision_m: 0.9704 - val_recall_m: 0.8447\n",
      "Epoch 34/50\n",
      "588444/588444 [==============================] - 3s 5us/step - loss: 0.1842 - acc: 0.9434 - f1_m: 0.9055 - precision_m: 0.9714 - recall_m: 0.8480 - val_loss: 0.2440 - val_acc: 0.9347 - val_f1_m: 0.9043 - val_precision_m: 0.9702 - val_recall_m: 0.8468\n",
      "Epoch 35/50\n",
      "588444/588444 [==============================] - 3s 5us/step - loss: 0.1838 - acc: 0.9432 - f1_m: 0.9057 - precision_m: 0.9714 - recall_m: 0.8483 - val_loss: 0.2442 - val_acc: 0.9342 - val_f1_m: 0.9036 - val_precision_m: 0.9704 - val_recall_m: 0.8454\n",
      "Epoch 36/50\n",
      "588444/588444 [==============================] - 3s 5us/step - loss: 0.1836 - acc: 0.9433 - f1_m: 0.9049 - precision_m: 0.9715 - recall_m: 0.8469 - val_loss: 0.2438 - val_acc: 0.9343 - val_f1_m: 0.9039 - val_precision_m: 0.9706 - val_recall_m: 0.8459\n",
      "Epoch 37/50\n",
      "588444/588444 [==============================] - 3s 5us/step - loss: 0.1837 - acc: 0.9433 - f1_m: 0.9053 - precision_m: 0.9717 - recall_m: 0.8474 - val_loss: 0.2443 - val_acc: 0.9341 - val_f1_m: 0.9039 - val_precision_m: 0.9704 - val_recall_m: 0.8460\n",
      "Epoch 38/50\n",
      "588444/588444 [==============================] - 3s 5us/step - loss: 0.1835 - acc: 0.9434 - f1_m: 0.9057 - precision_m: 0.9715 - recall_m: 0.8483 - val_loss: 0.2444 - val_acc: 0.9341 - val_f1_m: 0.9038 - val_precision_m: 0.9704 - val_recall_m: 0.8458\n",
      "Epoch 39/50\n",
      "588444/588444 [==============================] - 3s 5us/step - loss: 0.1837 - acc: 0.9433 - f1_m: 0.9057 - precision_m: 0.9716 - recall_m: 0.8482 - val_loss: 0.2443 - val_acc: 0.9343 - val_f1_m: 0.9039 - val_precision_m: 0.9703 - val_recall_m: 0.8461\n",
      "Epoch 40/50\n",
      "588444/588444 [==============================] - 3s 5us/step - loss: 0.1834 - acc: 0.9434 - f1_m: 0.9056 - precision_m: 0.9716 - recall_m: 0.8481 - val_loss: 0.2441 - val_acc: 0.9343 - val_f1_m: 0.9039 - val_precision_m: 0.9704 - val_recall_m: 0.8460\n",
      "Epoch 41/50\n",
      "485376/588444 [=======================>......] - ETA: 0s - loss: 1.0382 - acc: 0.6388 - f1_m: 0.6490 - precision_m: 0.6768 - recall_m: 0.8969"
     ]
    }
   ],
   "source": [
    "for x in range(0,100):\n",
    "  run_trials_single()"
   ]
  },
  {
   "cell_type": "code",
   "execution_count": 0,
   "metadata": {
    "colab": {
     "base_uri": "https://localhost:8080/",
     "height": 1000
    },
    "colab_type": "code",
    "id": "10Hm3ZRPmjuZ",
    "outputId": "2ba345fd-4292-4bdc-e7c2-21b6d0884e58"
   },
   "outputs": [
    {
     "name": "stdout",
     "output_type": "stream",
     "text": [
      ">>> Imports:\n",
      "#coding=utf-8\n",
      "\n",
      "try:\n",
      "    import wandb\n",
      "except:\n",
      "    pass\n",
      "\n",
      "try:\n",
      "    from wandb.keras import WandbCallback\n",
      "except:\n",
      "    pass\n",
      "\n",
      "try:\n",
      "    import json\n",
      "except:\n",
      "    pass\n",
      "\n",
      "try:\n",
      "    import pandas as pd\n",
      "except:\n",
      "    pass\n",
      "\n",
      "try:\n",
      "    import numpy as np\n",
      "except:\n",
      "    pass\n",
      "\n",
      "try:\n",
      "    from sklearn.feature_extraction import DictVectorizer\n",
      "except:\n",
      "    pass\n",
      "\n",
      "try:\n",
      "    from sklearn.linear_model import Perceptron\n",
      "except:\n",
      "    pass\n",
      "\n",
      "try:\n",
      "    from sklearn.model_selection import train_test_split\n",
      "except:\n",
      "    pass\n",
      "\n",
      "try:\n",
      "    from sklearn.metrics import precision_recall_fscore_support, f1_score\n",
      "except:\n",
      "    pass\n",
      "\n",
      "try:\n",
      "    import keras\n",
      "except:\n",
      "    pass\n",
      "\n",
      "try:\n",
      "    from keras.preprocessing.text import *\n",
      "except:\n",
      "    pass\n",
      "\n",
      "try:\n",
      "    from keras.preprocessing import *\n",
      "except:\n",
      "    pass\n",
      "\n",
      "try:\n",
      "    from sklearn.preprocessing import OneHotEncoder, LabelBinarizer, MultiLabelBinarizer, LabelEncoder\n",
      "except:\n",
      "    pass\n",
      "\n",
      "try:\n",
      "    import dill\n",
      "except:\n",
      "    pass\n",
      "\n",
      "try:\n",
      "    import dill\n",
      "except:\n",
      "    pass\n",
      "\n",
      "try:\n",
      "    import keras\n",
      "except:\n",
      "    pass\n",
      "\n",
      "try:\n",
      "    from keras.models import Sequential\n",
      "except:\n",
      "    pass\n",
      "\n",
      "try:\n",
      "    from keras.layers import Dense, Dropout, Activation, Embedding, GlobalMaxPooling1D\n",
      "except:\n",
      "    pass\n",
      "\n",
      "try:\n",
      "    from keras.optimizers import SGD\n",
      "except:\n",
      "    pass\n",
      "\n",
      "try:\n",
      "    from keras import backend as K\n",
      "except:\n",
      "    pass\n",
      "\n",
      "try:\n",
      "    from hyperopt import Trials, STATUS_OK, tpe\n",
      "except:\n",
      "    pass\n",
      "\n",
      "try:\n",
      "    from hyperas import optim\n",
      "except:\n",
      "    pass\n",
      "\n",
      "try:\n",
      "    from hyperas.distributions import choice, uniform\n",
      "except:\n",
      "    pass\n",
      "\n"
     ]
    },
    {
     "ename": "IndexError",
     "evalue": "ignored",
     "output_type": "error",
     "traceback": [
      "\u001b[0;31m---------------------------------------------------------------------------\u001b[0m",
      "\u001b[0;31mIndexError\u001b[0m                                Traceback (most recent call last)",
      "\u001b[0;32m<ipython-input-345-3764800f045d>\u001b[0m in \u001b[0;36m<module>\u001b[0;34m()\u001b[0m\n\u001b[1;32m     43\u001b[0m   \u001b[0;32mreturn\u001b[0m \u001b[0;34m{\u001b[0m\u001b[0;34m'loss'\u001b[0m\u001b[0;34m:\u001b[0m \u001b[0;34m-\u001b[0m\u001b[0mvalidation_acc\u001b[0m\u001b[0;34m,\u001b[0m \u001b[0;34m'status'\u001b[0m\u001b[0;34m:\u001b[0m \u001b[0mSTATUS_OK\u001b[0m\u001b[0;34m,\u001b[0m \u001b[0;34m'model'\u001b[0m\u001b[0;34m:\u001b[0m \u001b[0mmodel\u001b[0m\u001b[0;34m}\u001b[0m\u001b[0;34m\u001b[0m\u001b[0;34m\u001b[0m\u001b[0m\n\u001b[1;32m     44\u001b[0m \u001b[0;34m\u001b[0m\u001b[0m\n\u001b[0;32m---> 45\u001b[0;31m \u001b[0mbest_run\u001b[0m\u001b[0;34m,\u001b[0m \u001b[0mbest_model\u001b[0m \u001b[0;34m=\u001b[0m \u001b[0moptim\u001b[0m\u001b[0;34m.\u001b[0m\u001b[0mminimize\u001b[0m\u001b[0;34m(\u001b[0m\u001b[0mmodel\u001b[0m\u001b[0;34m=\u001b[0m\u001b[0mrun_trials\u001b[0m\u001b[0;34m,\u001b[0m \u001b[0mdata\u001b[0m\u001b[0;34m=\u001b[0m\u001b[0mhyperas_data_fn\u001b[0m\u001b[0;34m,\u001b[0m \u001b[0malgo\u001b[0m\u001b[0;34m=\u001b[0m\u001b[0mtpe\u001b[0m\u001b[0;34m.\u001b[0m\u001b[0msuggest\u001b[0m\u001b[0;34m,\u001b[0m \u001b[0mmax_evals\u001b[0m\u001b[0;34m=\u001b[0m\u001b[0;36m100\u001b[0m\u001b[0;34m,\u001b[0m \u001b[0mtrials\u001b[0m\u001b[0;34m=\u001b[0m\u001b[0mTrials\u001b[0m\u001b[0;34m(\u001b[0m\u001b[0;34m)\u001b[0m\u001b[0;34m,\u001b[0m\u001b[0mnotebook_name\u001b[0m\u001b[0;34m=\u001b[0m\u001b[0;34m'16_class_ner(1)'\u001b[0m\u001b[0;34m)\u001b[0m\u001b[0;34m\u001b[0m\u001b[0;34m\u001b[0m\u001b[0m\n\u001b[0m",
      "\u001b[0;32m/usr/local/lib/python3.6/dist-packages/hyperas/optim.py\u001b[0m in \u001b[0;36mminimize\u001b[0;34m(model, data, algo, max_evals, trials, functions, rseed, notebook_name, verbose, eval_space, return_space, keep_temp)\u001b[0m\n\u001b[1;32m     67\u001b[0m                                      \u001b[0mnotebook_name\u001b[0m\u001b[0;34m=\u001b[0m\u001b[0mnotebook_name\u001b[0m\u001b[0;34m,\u001b[0m\u001b[0;34m\u001b[0m\u001b[0;34m\u001b[0m\u001b[0m\n\u001b[1;32m     68\u001b[0m                                      \u001b[0mverbose\u001b[0m\u001b[0;34m=\u001b[0m\u001b[0mverbose\u001b[0m\u001b[0;34m,\u001b[0m\u001b[0;34m\u001b[0m\u001b[0;34m\u001b[0m\u001b[0m\n\u001b[0;32m---> 69\u001b[0;31m                                      keep_temp=keep_temp)\n\u001b[0m\u001b[1;32m     70\u001b[0m \u001b[0;34m\u001b[0m\u001b[0m\n\u001b[1;32m     71\u001b[0m     \u001b[0mbest_model\u001b[0m \u001b[0;34m=\u001b[0m \u001b[0;32mNone\u001b[0m\u001b[0;34m\u001b[0m\u001b[0;34m\u001b[0m\u001b[0m\n",
      "\u001b[0;32m/usr/local/lib/python3.6/dist-packages/hyperas/optim.py\u001b[0m in \u001b[0;36mbase_minimizer\u001b[0;34m(model, data, functions, algo, max_evals, trials, rseed, full_model_string, notebook_name, verbose, stack, keep_temp)\u001b[0m\n\u001b[1;32m     96\u001b[0m         \u001b[0mmodel_str\u001b[0m \u001b[0;34m=\u001b[0m \u001b[0mfull_model_string\u001b[0m\u001b[0;34m\u001b[0m\u001b[0;34m\u001b[0m\u001b[0m\n\u001b[1;32m     97\u001b[0m     \u001b[0;32melse\u001b[0m\u001b[0;34m:\u001b[0m\u001b[0;34m\u001b[0m\u001b[0;34m\u001b[0m\u001b[0m\n\u001b[0;32m---> 98\u001b[0;31m         \u001b[0mmodel_str\u001b[0m \u001b[0;34m=\u001b[0m \u001b[0mget_hyperopt_model_string\u001b[0m\u001b[0;34m(\u001b[0m\u001b[0mmodel\u001b[0m\u001b[0;34m,\u001b[0m \u001b[0mdata\u001b[0m\u001b[0;34m,\u001b[0m \u001b[0mfunctions\u001b[0m\u001b[0;34m,\u001b[0m \u001b[0mnotebook_name\u001b[0m\u001b[0;34m,\u001b[0m \u001b[0mverbose\u001b[0m\u001b[0;34m,\u001b[0m \u001b[0mstack\u001b[0m\u001b[0;34m)\u001b[0m\u001b[0;34m\u001b[0m\u001b[0;34m\u001b[0m\u001b[0m\n\u001b[0m\u001b[1;32m     99\u001b[0m     \u001b[0mtemp_file\u001b[0m \u001b[0;34m=\u001b[0m \u001b[0;34m'./temp_model.py'\u001b[0m\u001b[0;34m\u001b[0m\u001b[0;34m\u001b[0m\u001b[0m\n\u001b[1;32m    100\u001b[0m     \u001b[0mwrite_temp_files\u001b[0m\u001b[0;34m(\u001b[0m\u001b[0mmodel_str\u001b[0m\u001b[0;34m,\u001b[0m \u001b[0mtemp_file\u001b[0m\u001b[0;34m)\u001b[0m\u001b[0;34m\u001b[0m\u001b[0;34m\u001b[0m\u001b[0m\n",
      "\u001b[0;32m/usr/local/lib/python3.6/dist-packages/hyperas/optim.py\u001b[0m in \u001b[0;36mget_hyperopt_model_string\u001b[0;34m(model, data, functions, notebook_name, verbose, stack)\u001b[0m\n\u001b[1;32m    189\u001b[0m     \u001b[0mimports\u001b[0m \u001b[0;34m=\u001b[0m \u001b[0mextract_imports\u001b[0m\u001b[0;34m(\u001b[0m\u001b[0mcleaned_source\u001b[0m\u001b[0;34m,\u001b[0m \u001b[0mverbose\u001b[0m\u001b[0;34m)\u001b[0m\u001b[0;34m\u001b[0m\u001b[0;34m\u001b[0m\u001b[0m\n\u001b[1;32m    190\u001b[0m \u001b[0;34m\u001b[0m\u001b[0m\n\u001b[0;32m--> 191\u001b[0;31m     \u001b[0mparts\u001b[0m \u001b[0;34m=\u001b[0m \u001b[0mhyperparameter_names\u001b[0m\u001b[0;34m(\u001b[0m\u001b[0mmodel_string\u001b[0m\u001b[0;34m)\u001b[0m\u001b[0;34m\u001b[0m\u001b[0;34m\u001b[0m\u001b[0m\n\u001b[0m\u001b[1;32m    192\u001b[0m     \u001b[0maug_parts\u001b[0m \u001b[0;34m=\u001b[0m \u001b[0maugmented_names\u001b[0m\u001b[0;34m(\u001b[0m\u001b[0mparts\u001b[0m\u001b[0;34m)\u001b[0m\u001b[0;34m\u001b[0m\u001b[0;34m\u001b[0m\u001b[0m\n\u001b[1;32m    193\u001b[0m \u001b[0;34m\u001b[0m\u001b[0m\n",
      "\u001b[0;32m/usr/local/lib/python3.6/dist-packages/hyperas/optim.py\u001b[0m in \u001b[0;36mhyperparameter_names\u001b[0;34m(model_string)\u001b[0m\n\u001b[1;32m    256\u001b[0m             \u001b[0mparts\u001b[0m\u001b[0;34m.\u001b[0m\u001b[0mappend\u001b[0m\u001b[0;34m(\u001b[0m\u001b[0mname\u001b[0m\u001b[0;34m[\u001b[0m\u001b[0;36m0\u001b[0m\u001b[0;34m]\u001b[0m\u001b[0;34m)\u001b[0m\u001b[0;34m\u001b[0m\u001b[0;34m\u001b[0m\u001b[0m\n\u001b[1;32m    257\u001b[0m         \u001b[0;32melse\u001b[0m\u001b[0;34m:\u001b[0m\u001b[0;34m\u001b[0m\u001b[0;34m\u001b[0m\u001b[0m\n\u001b[0;32m--> 258\u001b[0;31m             \u001b[0mparts\u001b[0m\u001b[0;34m.\u001b[0m\u001b[0mappend\u001b[0m\u001b[0;34m(\u001b[0m\u001b[0mparts\u001b[0m\u001b[0;34m[\u001b[0m\u001b[0;34m-\u001b[0m\u001b[0;36m1\u001b[0m\u001b[0;34m]\u001b[0m\u001b[0;34m)\u001b[0m\u001b[0;34m\u001b[0m\u001b[0;34m\u001b[0m\u001b[0m\n\u001b[0m\u001b[1;32m    259\u001b[0m     \u001b[0mpart_dict\u001b[0m \u001b[0;34m=\u001b[0m \u001b[0;34m{\u001b[0m\u001b[0;34m}\u001b[0m\u001b[0;34m\u001b[0m\u001b[0;34m\u001b[0m\u001b[0m\n\u001b[1;32m    260\u001b[0m     \u001b[0;32mfor\u001b[0m \u001b[0mi\u001b[0m\u001b[0;34m,\u001b[0m \u001b[0mpart\u001b[0m \u001b[0;32min\u001b[0m \u001b[0menumerate\u001b[0m\u001b[0;34m(\u001b[0m\u001b[0mparts\u001b[0m\u001b[0;34m)\u001b[0m\u001b[0;34m:\u001b[0m\u001b[0;34m\u001b[0m\u001b[0;34m\u001b[0m\u001b[0m\n",
      "\u001b[0;31mIndexError\u001b[0m: list index out of range"
     ]
    }
   ],
   "source": [
    "from hyperopt import Trials, STATUS_OK, tpe\n",
    "from hyperas import optim\n",
    "from hyperas.distributions import choice, uniform\n",
    "\n",
    "\n",
    "def run_trials():\n",
    "  run_name = \"\"\n",
    "\n",
    "  hyperparams = dict(\n",
    "    embed_out =32,\n",
    "    dense_1_nodes = 24,\n",
    "    dropout_1=0.3,\n",
    "  )\n",
    "\n",
    "  config= {\n",
    "      \"epochs\": 50,\n",
    "      \"num_classes\":17,\n",
    "      \"num_words\": 14950,\n",
    "      \"batch_size\":{{choice([64, 128])}},\n",
    "      **hyperparams\n",
    "  }\n",
    "  \n",
    "  model = Sequential()\n",
    "  model.add(Embedding(num_words+1, {{uniform(10,256)}}, input_length=1, name='embedding_layer'))\n",
    "  model.add(GlobalMaxPooling1D())\n",
    "  model.add(Dense({{uniform(10,128)}}, activation={{choice(['relu', 'sigmoid'])}}, name='dense_1'))\n",
    "  model.add(Dropout({{uniform(10,256)}}))\n",
    "  model.add(Dense(num_classes, activation='sigmoid', name='output_layer'))\n",
    "  model.compile(loss='categorical_crossentropy', optimizer={{choice(['rmsprop', 'adam', 'sgd'])}}, metrics=['acc',f1_m,precision_m, recall_m])\n",
    "  \n",
    "  model = get_model(num_classes, num_words, **hyperparams)\n",
    "\n",
    "  wandb.init(project=\"16-class-ner\", name=run_name, config=config, notes=notes)\n",
    "\n",
    "  history = model.fit(x_train, y_train, batch_size=config['batch_size'], epochs=config['epochs'], validation_split=0.2, callbacks=[WandbCallback()])\n",
    "\n",
    "  scores = model.evaluate(x_test, y_test)\n",
    "  wandb.log({'test_'+metric: scores[index] for index, metric in enumerate(model.metrics_names)})\n",
    "  print(\"\\n*** Finished! ***\")\n",
    "\n",
    "  validation_acc = np.amax(history.history['val_acc']) \n",
    "  print('Best validation acc of epoch:', validation_acc)\n",
    "  return {'loss': -validation_acc, 'status': STATUS_OK, 'model': model}\n",
    "\n",
    "best_run, best_model = optim.minimize(model=run_trials, data=hyperas_data_fn, algo=tpe.suggest, max_evals=100, trials=Trials(),notebook_name='16_class_ner(1)')"
   ]
  },
  {
   "cell_type": "code",
   "execution_count": 0,
   "metadata": {
    "colab": {
     "base_uri": "https://localhost:8080/",
     "height": 1000
    },
    "colab_type": "code",
    "id": "jz9VTz8dydHb",
    "outputId": "d8464b02-33ee-4813-86cb-363facdab60d"
   },
   "outputs": [
    {
     "name": "stdout",
     "output_type": "stream",
     "text": [
      "Collecting hyperas\n",
      "  Downloading https://files.pythonhosted.org/packages/04/34/87ad6ffb42df9c1fa9c4c906f65813d42ad70d68c66af4ffff048c228cd4/hyperas-0.4.1-py3-none-any.whl\n",
      "Requirement already satisfied: keras in /usr/local/lib/python3.6/dist-packages (from hyperas) (2.2.4)\n",
      "Requirement already satisfied: nbformat in /usr/local/lib/python3.6/dist-packages (from hyperas) (4.4.0)\n",
      "Requirement already satisfied: jupyter in /usr/local/lib/python3.6/dist-packages (from hyperas) (1.0.0)\n",
      "Requirement already satisfied: nbconvert in /usr/local/lib/python3.6/dist-packages (from hyperas) (5.5.0)\n",
      "Requirement already satisfied: hyperopt in /usr/local/lib/python3.6/dist-packages (from hyperas) (0.1.2)\n",
      "Requirement already satisfied: entrypoints in /usr/local/lib/python3.6/dist-packages (from hyperas) (0.3)\n",
      "Requirement already satisfied: scipy>=0.14 in /usr/local/lib/python3.6/dist-packages (from keras->hyperas) (1.3.0)\n",
      "Requirement already satisfied: h5py in /usr/local/lib/python3.6/dist-packages (from keras->hyperas) (2.8.0)\n",
      "Requirement already satisfied: six>=1.9.0 in /usr/local/lib/python3.6/dist-packages (from keras->hyperas) (1.12.0)\n",
      "Requirement already satisfied: pyyaml in /usr/local/lib/python3.6/dist-packages (from keras->hyperas) (3.13)\n",
      "Requirement already satisfied: numpy>=1.9.1 in /usr/local/lib/python3.6/dist-packages (from keras->hyperas) (1.16.4)\n",
      "Requirement already satisfied: keras-applications>=1.0.6 in /usr/local/lib/python3.6/dist-packages (from keras->hyperas) (1.0.8)\n",
      "Requirement already satisfied: keras-preprocessing>=1.0.5 in /usr/local/lib/python3.6/dist-packages (from keras->hyperas) (1.1.0)\n",
      "Requirement already satisfied: jupyter-core in /usr/local/lib/python3.6/dist-packages (from nbformat->hyperas) (4.5.0)\n",
      "Requirement already satisfied: traitlets>=4.1 in /usr/local/lib/python3.6/dist-packages (from nbformat->hyperas) (4.3.2)\n",
      "Requirement already satisfied: ipython-genutils in /usr/local/lib/python3.6/dist-packages (from nbformat->hyperas) (0.2.0)\n",
      "Requirement already satisfied: jsonschema!=2.5.0,>=2.4 in /usr/local/lib/python3.6/dist-packages (from nbformat->hyperas) (2.6.0)\n",
      "Requirement already satisfied: ipywidgets in /usr/local/lib/python3.6/dist-packages (from jupyter->hyperas) (7.5.0)\n",
      "Requirement already satisfied: ipykernel in /usr/local/lib/python3.6/dist-packages (from jupyter->hyperas) (4.6.1)\n",
      "Requirement already satisfied: notebook in /usr/local/lib/python3.6/dist-packages (from jupyter->hyperas) (5.2.2)\n",
      "Requirement already satisfied: qtconsole in /usr/local/lib/python3.6/dist-packages (from jupyter->hyperas) (4.5.1)\n",
      "Requirement already satisfied: jupyter-console in /usr/local/lib/python3.6/dist-packages (from jupyter->hyperas) (6.0.0)\n",
      "Requirement already satisfied: pygments in /usr/local/lib/python3.6/dist-packages (from nbconvert->hyperas) (2.1.3)\n",
      "Requirement already satisfied: testpath in /usr/local/lib/python3.6/dist-packages (from nbconvert->hyperas) (0.4.2)\n",
      "Requirement already satisfied: mistune>=0.8.1 in /usr/local/lib/python3.6/dist-packages (from nbconvert->hyperas) (0.8.4)\n",
      "Requirement already satisfied: pandocfilters>=1.4.1 in /usr/local/lib/python3.6/dist-packages (from nbconvert->hyperas) (1.4.2)\n",
      "Requirement already satisfied: bleach in /usr/local/lib/python3.6/dist-packages (from nbconvert->hyperas) (3.1.0)\n",
      "Requirement already satisfied: defusedxml in /usr/local/lib/python3.6/dist-packages (from nbconvert->hyperas) (0.6.0)\n",
      "Requirement already satisfied: jinja2>=2.4 in /usr/local/lib/python3.6/dist-packages (from nbconvert->hyperas) (2.10.1)\n",
      "Requirement already satisfied: tqdm in /usr/local/lib/python3.6/dist-packages (from hyperopt->hyperas) (4.28.1)\n",
      "Requirement already satisfied: future in /usr/local/lib/python3.6/dist-packages (from hyperopt->hyperas) (0.16.0)\n",
      "Requirement already satisfied: networkx in /usr/local/lib/python3.6/dist-packages (from hyperopt->hyperas) (2.3)\n",
      "Requirement already satisfied: pymongo in /usr/local/lib/python3.6/dist-packages (from hyperopt->hyperas) (3.8.0)\n",
      "Requirement already satisfied: decorator in /usr/local/lib/python3.6/dist-packages (from traitlets>=4.1->nbformat->hyperas) (4.4.0)\n",
      "Requirement already satisfied: widgetsnbextension~=3.5.0 in /usr/local/lib/python3.6/dist-packages (from ipywidgets->jupyter->hyperas) (3.5.0)\n",
      "Requirement already satisfied: ipython>=4.0.0; python_version >= \"3.3\" in /usr/local/lib/python3.6/dist-packages (from ipywidgets->jupyter->hyperas) (5.5.0)\n",
      "Requirement already satisfied: jupyter-client in /usr/local/lib/python3.6/dist-packages (from ipykernel->jupyter->hyperas) (5.3.1)\n",
      "Requirement already satisfied: tornado>=4.0 in /usr/local/lib/python3.6/dist-packages (from ipykernel->jupyter->hyperas) (4.5.3)\n",
      "Requirement already satisfied: terminado>=0.3.3; sys_platform != \"win32\" in /usr/local/lib/python3.6/dist-packages (from notebook->jupyter->hyperas) (0.8.2)\n",
      "Collecting prompt-toolkit<2.1.0,>=2.0.0 (from jupyter-console->jupyter->hyperas)\n",
      "\u001b[?25l  Downloading https://files.pythonhosted.org/packages/f7/a7/9b1dd14ef45345f186ef69d175bdd2491c40ab1dfa4b2b3e4352df719ed7/prompt_toolkit-2.0.9-py3-none-any.whl (337kB)\n",
      "\u001b[K     |████████████████████████████████| 337kB 7.4MB/s \n",
      "\u001b[?25hRequirement already satisfied: webencodings in /usr/local/lib/python3.6/dist-packages (from bleach->nbconvert->hyperas) (0.5.1)\n",
      "Requirement already satisfied: MarkupSafe>=0.23 in /usr/local/lib/python3.6/dist-packages (from jinja2>=2.4->nbconvert->hyperas) (1.1.1)\n",
      "Requirement already satisfied: pickleshare in /usr/local/lib/python3.6/dist-packages (from ipython>=4.0.0; python_version >= \"3.3\"->ipywidgets->jupyter->hyperas) (0.7.5)\n",
      "Requirement already satisfied: simplegeneric>0.8 in /usr/local/lib/python3.6/dist-packages (from ipython>=4.0.0; python_version >= \"3.3\"->ipywidgets->jupyter->hyperas) (0.8.1)\n",
      "Requirement already satisfied: setuptools>=18.5 in /usr/local/lib/python3.6/dist-packages (from ipython>=4.0.0; python_version >= \"3.3\"->ipywidgets->jupyter->hyperas) (41.0.1)\n",
      "Requirement already satisfied: pexpect; sys_platform != \"win32\" in /usr/local/lib/python3.6/dist-packages (from ipython>=4.0.0; python_version >= \"3.3\"->ipywidgets->jupyter->hyperas) (4.7.0)\n",
      "Requirement already satisfied: python-dateutil>=2.1 in /usr/local/lib/python3.6/dist-packages (from jupyter-client->ipykernel->jupyter->hyperas) (2.8.0)\n",
      "Requirement already satisfied: pyzmq>=13 in /usr/local/lib/python3.6/dist-packages (from jupyter-client->ipykernel->jupyter->hyperas) (17.0.0)\n",
      "Requirement already satisfied: ptyprocess; os_name != \"nt\" in /usr/local/lib/python3.6/dist-packages (from terminado>=0.3.3; sys_platform != \"win32\"->notebook->jupyter->hyperas) (0.6.0)\n",
      "Requirement already satisfied: wcwidth in /usr/local/lib/python3.6/dist-packages (from prompt-toolkit<2.1.0,>=2.0.0->jupyter-console->jupyter->hyperas) (0.1.7)\n",
      "\u001b[31mERROR: ipython 5.5.0 has requirement prompt-toolkit<2.0.0,>=1.0.4, but you'll have prompt-toolkit 2.0.9 which is incompatible.\u001b[0m\n",
      "Installing collected packages: hyperas, prompt-toolkit\n",
      "  Found existing installation: prompt-toolkit 1.0.16\n",
      "    Uninstalling prompt-toolkit-1.0.16:\n",
      "      Successfully uninstalled prompt-toolkit-1.0.16\n",
      "Successfully installed hyperas-0.4.1 prompt-toolkit-2.0.9\n"
     ]
    },
    {
     "data": {
      "application/vnd.colab-display-data+json": {
       "pip_warning": {
        "packages": [
         "prompt_toolkit"
        ]
       }
      }
     },
     "metadata": {
      "tags": []
     },
     "output_type": "display_data"
    }
   ],
   "source": [
    "!pip install hyperas"
   ]
  },
  {
   "cell_type": "code",
   "execution_count": 0,
   "metadata": {
    "colab": {
     "base_uri": "https://localhost:8080/",
     "height": 127
    },
    "colab_type": "code",
    "id": "jcmVbF-3fowT",
    "outputId": "4c299d97-5b0a-40f8-9f11-ebbe5dfe17af"
   },
   "outputs": [
    {
     "name": "stdout",
     "output_type": "stream",
     "text": [
      "[[99]]\n"
     ]
    },
    {
     "data": {
      "text/plain": [
       "{'_cached_dict': None,\n",
       " 'classes': None,\n",
       " 'classes_': array(['-', 'B', 'I', 'O', 'a', 'e', 'g', 'i', 'm', 'n', 'o', 'p', 'r',\n",
       "        't', 'v'], dtype=object),\n",
       " 'sparse_output': False}"
      ]
     },
     "execution_count": 209,
     "metadata": {
      "tags": []
     },
     "output_type": "execute_result"
    }
   ],
   "source": [
    "test_input = tok.texts_to_sequences(['prime'])\n",
    "print(test_input)\n",
    "pred = model.predict(test_input)\n",
    "np.argmax(pred)\n",
    "\n",
    "enc.__dict__"
   ]
  },
  {
   "cell_type": "code",
   "execution_count": 0,
   "metadata": {
    "colab": {},
    "colab_type": "code",
    "id": "iW_fetF-PF7W"
   },
   "outputs": [],
   "source": []
  }
 ],
 "metadata": {
  "colab": {
   "collapsed_sections": [],
   "include_colab_link": true,
   "name": "16-class-ner.ipynb",
   "provenance": [],
   "version": "0.3.2"
  },
  "kernelspec": {
   "display_name": "Python 3",
   "language": "python",
   "name": "python3"
  },
  "language_info": {
   "codemirror_mode": {
    "name": "ipython",
    "version": 3
   },
   "file_extension": ".py",
   "mimetype": "text/x-python",
   "name": "python",
   "nbconvert_exporter": "python",
   "pygments_lexer": "ipython3",
   "version": "3.6.8"
  }
 },
 "nbformat": 4,
 "nbformat_minor": 1
}
