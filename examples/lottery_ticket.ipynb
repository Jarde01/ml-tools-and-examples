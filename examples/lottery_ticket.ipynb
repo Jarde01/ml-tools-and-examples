{
 "cells": [
  {
   "cell_type": "code",
   "execution_count": 1,
   "metadata": {},
   "outputs": [],
   "source": [
    "import pandas as pd\n",
    "import pickle\n",
    "from sklearn.datasets import fetch_20newsgroups\n",
    "import numpy as np\n",
    "import os\n",
    "os.chdir(\"C:\\\\Users\\\\Jeremy\\\\Documents\\\\Code\\\\ml-tools-and-examples\")\n",
    "from metrics import *\n",
    "import tensorflow as tf"
   ]
  },
  {
   "cell_type": "markdown",
   "metadata": {},
   "source": [
    "# The Lottery Ticket Hypothesis: \n",
    "## Finding Sparse, Trainable Neural Networks\n",
    "https://arxiv.org/pdf/1803.03635.pdf  "
   ]
  },
  {
   "cell_type": "markdown",
   "metadata": {},
   "source": [
    "* Dense, randomly-initialized feed forward networks contain subnetworks (winning tickets) that reach test accuracy comparable to original network in similar number of iterations. "
   ]
  },
  {
   "cell_type": "markdown",
   "metadata": {},
   "source": [
    "Details:\n",
    "- use early stopping for ending training (min validation loss)\n",
    "\n",
    "Steps:\n",
    "- 1. Randomly initialize neural network f(x; theta0)\n",
    "- 2. Train network for j iterations, arriving at parameters thetaj\n",
    "- 3. Prune percentage of parameters in theataj, creating a mask mask\n",
    "- 4. Reset remaining parameters to values in theta0\n",
    "\n",
    "Goals:\n",
    "- 1. Improve training performance (prune as early as possible)\n",
    "- 2. Design better networks: winning tickets = sparse architectures and initializations that are good at learning\n",
    "- 3. Improve understanding of neural networks"
   ]
  },
  {
   "cell_type": "markdown",
   "metadata": {},
   "source": [
    "Pruning strategy:\n",
    "* layer-wise pruning heuristic (remove percentage of weights with lowest magnitudes within each layer)\n",
    "* connections to outputs pruned at half rate of rest of network"
   ]
  },
  {
   "cell_type": "markdown",
   "metadata": {},
   "source": [
    "## Data"
   ]
  },
  {
   "cell_type": "code",
   "execution_count": 2,
   "metadata": {},
   "outputs": [],
   "source": [
    "seq_length = 600\n",
    "vocab_size = 20000"
   ]
  },
  {
   "cell_type": "code",
   "execution_count": null,
   "metadata": {},
   "outputs": [],
   "source": [
    "def sklearn_to_df(sklearn_dataset):\n",
    "    label_map = {index: x for index, x in enumerate(sklearn_dataset['target_names'])}\n",
    "    df = pd.DataFrame(\n",
    "        list(zip(sklearn_dataset['data'], sklearn_dataset['target'])),\n",
    "        columns=[\"text\", \"label_id\"],\n",
    "    )\n",
    "    df[\"label_name\"] = df[\"label_id\"].map(label_map)\n",
    "    return df\n"
   ]
  },
  {
   "cell_type": "code",
   "execution_count": 1,
   "metadata": {},
   "outputs": [],
   "source": [
    "def load_train_test():\n",
    "    df_train = sklearn_to_df(fetch_20newsgroups(subset='train', shuffle=True,))\n",
    "    df_test = sklearn_to_df(fetch_20newsgroups(subset='test', shuffle=True,))\n",
    "    return df_train, df_test"
   ]
  },
  {
   "cell_type": "markdown",
   "metadata": {},
   "source": [
    "## Feature Extraction"
   ]
  },
  {
   "cell_type": "code",
   "execution_count": null,
   "metadata": {},
   "outputs": [],
   "source": [
    "from keras.preprocessing.sequence import pad_sequences\n",
    "from tokenizers import (ByteLevelBPETokenizer,\n",
    "                            CharBPETokenizer,\n",
    "                            SentencePieceBPETokenizer,\n",
    "                            BertWordPieceTokenizer)\n",
    "import tokenizers\n",
    "# from tokenizers import Tokenizer, models, pre_tokenizers, decoders, processors"
   ]
  },
  {
   "cell_type": "markdown",
   "metadata": {},
   "source": [
    "### Hugging face tokenizers"
   ]
  },
  {
   "cell_type": "code",
   "execution_count": null,
   "metadata": {},
   "outputs": [],
   "source": [
    "def encode_text(tokenizer, text: str, padding: int):\n",
    "    output = tokenizer.encode(text)\n",
    "    seqs = pad_sequences([output.ids], padding, padding=\"pre\")\n",
    "    return seqs\n",
    "    \n",
    "def create_vocab_file(texts: list, filename: str=\"vocab.txt\"):\n",
    "    raw_vocab = \" \".join(texts)\n",
    "    raw_vocab = raw_vocab.encode(\"utf-8\")\n",
    "    file1 = open(filename,\"w\")\n",
    "    file1.write(str(raw_vocab))\n",
    "    return filename\n",
    "\n",
    "def train_bytebpe_tokenizer(vocab_size: int, vocab_filename: str):\n",
    "    tokenizer = ByteLevelBPETokenizer()\n",
    "    tokenizer.train([vocab_filename], vocab_size=vocab_size)\n",
    "#     tokenizer.save(\"examples\", \"20newsgroups_bytebpe-tokenizer\")\n",
    "    return tokenizer\n",
    "\n",
    "def get_bert_wp_tokenizer(vocab_filename: str = \"bert-large-uncased-vocab.txt\"):\n",
    "    tokenizer = BertWordPieceTokenizer(vocab_filename)\n",
    "    return tokenizer\n",
    "\n",
    "vocab_filename = \"examples/20newsgroups_vocab.txt\"\n",
    "\n",
    "# tokenizer = get_bert_wp_tokenizer(\"D:\\\\Data\\\\vocabularies\\\\bert-large-cased-vocab.txt.txt\")\n",
    "tokenizer = train_bytebpe_tokenizer(vocab_size, vocab_filename)"
   ]
  },
  {
   "cell_type": "markdown",
   "metadata": {},
   "source": [
    "### Load a tokenizer:"
   ]
  },
  {
   "cell_type": "code",
   "execution_count": null,
   "metadata": {},
   "outputs": [],
   "source": [
    "# vocab = '20newsgroups_bytebpe-tokenizer-vocab.json'\n",
    "# merges = '20newsgroups_bytebpe-tokenizer-merges.txt'\n",
    "# bpe = tokenizers.models.BPE.from_files(vocab, merges)\n",
    "# tokenizer = tokenizers.Tokenizer(bpe)"
   ]
  },
  {
   "cell_type": "code",
   "execution_count": null,
   "metadata": {},
   "outputs": [],
   "source": [
    "tokenizer"
   ]
  },
  {
   "cell_type": "code",
   "execution_count": null,
   "metadata": {},
   "outputs": [],
   "source": [
    "def prepare_x(encoded_values: np.ndarray):\n",
    "    x = np.stack(encoded_values.tolist())\n",
    "    x = x.reshape((-1, x.shape[2]))\n",
    "    return x\n",
    "    \n",
    "df_train['encoded_ids'] = df_train['text'].apply(lambda x: encode_text(tokenizer, x, seq_length))\n",
    "df_test['encoded_ids'] = df_test['text'].apply(lambda x: encode_text(tokenizer, x, seq_length))\n",
    "\n",
    "\n",
    "x_train = prepare_x(df_train['encoded_ids'])\n",
    "x_test = prepare_x(df_test['encoded_ids'])"
   ]
  },
  {
   "cell_type": "code",
   "execution_count": null,
   "metadata": {},
   "outputs": [],
   "source": [
    "# df_train.head()\n",
    "def prepare_y(df, label_id_col:str):\n",
    "    y = tf.keras.backend.one_hot(df[label_id_col], df[label_id_col].nunique())\n",
    "    return y\n",
    "\n",
    "y_train = prepare_y(df_train, 'label_id')\n",
    "y_test = prepare_y(df_test, 'label_id')"
   ]
  },
  {
   "cell_type": "code",
   "execution_count": null,
   "metadata": {},
   "outputs": [],
   "source": [
    "print(x_train.shape)\n",
    "print(x_test.shape)\n",
    "print(y_train.shape)\n",
    "print(y_test.shape)\n"
   ]
  },
  {
   "cell_type": "markdown",
   "metadata": {},
   "source": [
    "### Save all training data:"
   ]
  },
  {
   "cell_type": "code",
   "execution_count": null,
   "metadata": {},
   "outputs": [],
   "source": [
    "with open(\"train-data.pkl\", \"wb\") as fp:\n",
    "    pickle.dump((x_train, x_test, y_train, y_test), fp)"
   ]
  },
  {
   "cell_type": "markdown",
   "metadata": {},
   "source": [
    "### Load all training data:"
   ]
  },
  {
   "cell_type": "code",
   "execution_count": 3,
   "metadata": {},
   "outputs": [],
   "source": [
    "with open(\"train-data.pkl\", \"rb\") as fp:\n",
    "    x_train, x_test, y_train, y_test = pickle.load(fp)"
   ]
  },
  {
   "cell_type": "code",
   "execution_count": 4,
   "metadata": {},
   "outputs": [
    {
     "name": "stdout",
     "output_type": "stream",
     "text": [
      "(11314, 600)\n",
      "(7532, 600)\n",
      "(11314, 20)\n",
      "(7532, 20)\n"
     ]
    }
   ],
   "source": [
    "print(x_train.shape)\n",
    "print(x_test.shape)\n",
    "print(y_train.shape)\n",
    "print(y_test.shape)"
   ]
  },
  {
   "cell_type": "code",
   "execution_count": 5,
   "metadata": {
    "scrolled": true
   },
   "outputs": [],
   "source": [
    "def plot_df_content(df):\n",
    "    print(df['encoded_num_tokens'].describe())\n",
    "    print(df['encoded_num_tokens'].plot.hist(bins=[100, 200,300,400,500,1000,1500,2000,3000,5000,20000, 50000]))\n",
    "    print(df['label_id'].value_counts().plot(kind='bar'))\n",
    "    \n",
    "# plot_df_content(df_train)"
   ]
  },
  {
   "cell_type": "markdown",
   "metadata": {},
   "source": [
    "## Model"
   ]
  },
  {
   "cell_type": "code",
   "execution_count": 6,
   "metadata": {},
   "outputs": [],
   "source": [
    "import wandb\n",
    "from wandb.keras import WandbCallback\n",
    "import tensorflow as tf\n",
    "from tensorflow.keras.layers import Dense, BatchNormalization, Embedding, AveragePooling1D, GlobalAveragePooling1D"
   ]
  },
  {
   "cell_type": "code",
   "execution_count": 7,
   "metadata": {},
   "outputs": [],
   "source": [
    "def get_model(input_size: int, \n",
    "              num_words: int, \n",
    "              embedding_size:int=64,\n",
    "              dense_1:int = 200,\n",
    "              dense_2:int = 100,\n",
    "#               pooling_1 = 100,\n",
    "              output_shape: int=20\n",
    "             ):\n",
    "    model = tf.keras.Sequential()\n",
    "    model.add(Embedding(num_words, embedding_size, input_length=input_size))\n",
    "    model.add(GlobalAveragePooling1D())\n",
    "    model.add(Dense(dense_1, activation='relu'))\n",
    "#     model.add(Dense(dense_2, activation='relu'))\n",
    "#     model.add(BatchNormalization())\n",
    "    model.add(Dense(output_shape, activation=tf.nn.softmax))\n",
    "    model.compile(\n",
    "        optimizer='SGD', \n",
    "        loss='categorical_crossentropy', \n",
    "        metrics=[\n",
    "#             tf.keras.metrics.Recall(),\n",
    "            tf.keras.metrics.Accuracy(),\n",
    "#             tf.keras.metrics.Precision(),\n",
    "        ]\n",
    "    )\n",
    "    return model"
   ]
  },
  {
   "cell_type": "code",
   "execution_count": 8,
   "metadata": {},
   "outputs": [],
   "source": [
    "train_config = dict(\n",
    "    epochs=50,\n",
    "    batch_size=100,\n",
    ")\n",
    "\n",
    "config = dict(\n",
    "#     batch_size=128,\n",
    "    num_words = vocab_size,\n",
    "    input_size=seq_length,\n",
    "    embedding_size=100,\n",
    "    dense_1=200,\n",
    "    dense_2=100,\n",
    "    output_shape=y_train.shape[1],\n",
    ")"
   ]
  },
  {
   "cell_type": "code",
   "execution_count": null,
   "metadata": {},
   "outputs": [
    {
     "data": {
      "text/html": [
       "\n",
       "                Logging results to <a href=\"https://wandb.com\" target=\"_blank\">Weights & Biases</a> <a href=\"https://docs.wandb.com/integrations/jupyter.html\" target=\"_blank\">(Documentation)</a>.<br/>\n",
       "                Project page: <a href=\"https://app.wandb.ai/jeremy/lottery-ticket_newsgroups\" target=\"_blank\">https://app.wandb.ai/jeremy/lottery-ticket_newsgroups</a><br/>\n",
       "                Run page: <a href=\"https://app.wandb.ai/jeremy/lottery-ticket_newsgroups/runs/pawb29yt\" target=\"_blank\">https://app.wandb.ai/jeremy/lottery-ticket_newsgroups/runs/pawb29yt</a><br/>\n",
       "            "
      ],
      "text/plain": [
       "<IPython.core.display.HTML object>"
      ]
     },
     "metadata": {},
     "output_type": "display_data"
    },
    {
     "name": "stdout",
     "output_type": "stream",
     "text": [
      "Train on 9051 samples, validate on 2263 samples\n",
      "Epoch 1/50\n",
      "9051/9051 [==============================] - 10s 1ms/sample - loss: 2.9951 - accuracy: 0.0000e+00 - val_loss: 2.9950 - val_accuracy: 0.0000e+00\n",
      "Epoch 2/50\n",
      "9051/9051 [==============================] - 9s 995us/sample - loss: 2.9939 - accuracy: 0.0000e+00 - val_loss: 2.9945 - val_accuracy: 0.0000e+00\n",
      "Epoch 3/50\n",
      " 300/9051 [..............................] - ETA: 9s - loss: 2.9941 - accuracy: 0.0000e+00"
     ]
    }
   ],
   "source": [
    "wandb.init(project=\"lottery-ticket_newsgroups\", config=config)\n",
    "\n",
    "# tf.executing_eagerly()\n",
    "\n",
    "model = get_model(**config)\n",
    "\n",
    "history = model.fit(\n",
    "    x_train, y_train, \n",
    "    batch_size=train_config['batch_size'], \n",
    "    epochs=train_config['epochs'], \n",
    "    validation_split=0.2, \n",
    "#     steps_per_epoch=int(len(x_train)/config['batch_size'])-1,\n",
    "    callbacks=[\n",
    "        WandbCallback(),\n",
    "      tf.keras.callbacks.EarlyStopping('val_loss'),\n",
    "])\n",
    "\n",
    "scores = model.evaluate(x_test, y_test, batch_size=32)\n",
    "\n",
    "wandb.log({'test_'+metric: scores[index] for index, metric in enumerate(model.metrics_names)})\n",
    "print(\"\\n*** Finished! ***\")"
   ]
  },
  {
   "cell_type": "code",
   "execution_count": null,
   "metadata": {},
   "outputs": [],
   "source": []
  },
  {
   "cell_type": "code",
   "execution_count": null,
   "metadata": {},
   "outputs": [],
   "source": []
  }
 ],
 "metadata": {
  "file_extension": ".py",
  "kernelspec": {
   "display_name": "Python 3.6.8 64-bit ('venv': venv)",
   "language": "python",
   "name": "python36864bitvenvvenvde732d14108942bbb31ce0e20fd51544"
  },
  "language_info": {
   "codemirror_mode": {
    "name": "ipython",
    "version": 3
   },
   "file_extension": ".py",
   "mimetype": "text/x-python",
   "name": "python",
   "nbconvert_exporter": "python",
   "pygments_lexer": "ipython3",
   "version": "3.6.8"
  },
  "mimetype": "text/x-python",
  "name": "python",
  "npconvert_exporter": "python",
  "pygments_lexer": "ipython3",
  "version": 3
 },
 "nbformat": 4,
 "nbformat_minor": 2
}
