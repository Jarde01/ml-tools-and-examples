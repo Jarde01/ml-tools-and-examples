{
  "nbformat": 4,
  "nbformat_minor": 0,
  "metadata": {
    "language_info": {
      "codemirror_mode": {
        "version": 3,
        "name": "ipython"
      },
      "nbconvert_exporter": "python",
      "file_extension": ".py",
      "version": "3.6.1",
      "name": "python",
      "pygments_lexer": "ipython3",
      "mimetype": "text/x-python"
    },
    "kernelspec": {
      "language": "python",
      "name": "python3",
      "display_name": "Python 3"
    },
    "colab": {
      "name": "16-class-ner.ipynb",
      "version": "0.3.2",
      "provenance": [],
      "collapsed_sections": [],
      "include_colab_link": true
    }
  },
  "cells": [
    {
      "cell_type": "markdown",
      "metadata": {
        "id": "view-in-github",
        "colab_type": "text"
      },
      "source": [
        "<a href=\"https://colab.research.google.com/github/Jarde01/ml-tools-and-examples/blob/master/16_class_ner.ipynb\" target=\"_parent\"><img src=\"https://colab.research.google.com/assets/colab-badge.svg\" alt=\"Open In Colab\"/></a>"
      ]
    },
    {
      "cell_type": "markdown",
      "metadata": {
        "_uuid": "17c2434e3d7a520cb543346cac3407789301d2fd",
        "_cell_guid": "94d75600-5624-423c-9caf-9a57e5dc151c",
        "id": "CN7NkGeQmjsk",
        "colab_type": "text"
      },
      "source": [
        "Named Entity Recognition with recent and improved version of the Annotated NER Dataset with better features"
      ]
    },
    {
      "cell_type": "markdown",
      "metadata": {
        "_uuid": "38759d20acfb6090f0d08ddce9d0b380677cd29c",
        "_cell_guid": "ddec7691-7c40-401b-9546-31f901e84689",
        "id": "cygtxLlumjso",
        "colab_type": "text"
      },
      "source": [
        "**Note: It is just a quick demonstration on 'How to use this dataset on Scikit for Named Entity Classification'**\n",
        "**This is not for analytical concepts and other machine learning illustrations!**\n",
        "\n",
        "Reading CSV in pandas has many ways. I suggest to use CSV as database to prevent large file handling errors.\n",
        "One may use the follwing way to read CSV file using Python Pandas. Good Luck"
      ]
    },
    {
      "cell_type": "code",
      "metadata": {
        "trusted": true,
        "id": "G60iXY1Xmjsq",
        "colab_type": "code",
        "colab": {
          "base_uri": "https://localhost:8080/",
          "height": 184
        },
        "outputId": "94cfa197-b355-433e-dcd2-650e77afa706"
      },
      "source": [
        "!pip install -U keras"
      ],
      "execution_count": 1,
      "outputs": [
        {
          "output_type": "stream",
          "text": [
            "Requirement already up-to-date: keras in /usr/local/lib/python3.6/dist-packages (2.2.4)\n",
            "Requirement already satisfied, skipping upgrade: numpy>=1.9.1 in /usr/local/lib/python3.6/dist-packages (from keras) (1.16.4)\n",
            "Requirement already satisfied, skipping upgrade: six>=1.9.0 in /usr/local/lib/python3.6/dist-packages (from keras) (1.12.0)\n",
            "Requirement already satisfied, skipping upgrade: pyyaml in /usr/local/lib/python3.6/dist-packages (from keras) (3.13)\n",
            "Requirement already satisfied, skipping upgrade: keras-preprocessing>=1.0.5 in /usr/local/lib/python3.6/dist-packages (from keras) (1.1.0)\n",
            "Requirement already satisfied, skipping upgrade: h5py in /usr/local/lib/python3.6/dist-packages (from keras) (2.8.0)\n",
            "Requirement already satisfied, skipping upgrade: keras-applications>=1.0.6 in /usr/local/lib/python3.6/dist-packages (from keras) (1.0.8)\n",
            "Requirement already satisfied, skipping upgrade: scipy>=0.14 in /usr/local/lib/python3.6/dist-packages (from keras) (1.3.0)\n"
          ],
          "name": "stdout"
        }
      ]
    },
    {
      "cell_type": "code",
      "metadata": {
        "id": "p0BwF-U7B4pO",
        "colab_type": "code",
        "colab": {}
      },
      "source": [
        "!pip install --upgrade wandb"
      ],
      "execution_count": 0,
      "outputs": []
    },
    {
      "cell_type": "code",
      "metadata": {
        "id": "4XhyFhyzB-cn",
        "colab_type": "code",
        "colab": {}
      },
      "source": [
        "!wandb login 2295caae2022fe6a431a755f74d1e9e8605848eb\n",
        "import wandb\n",
        "from wandb.keras import WandbCallback\n",
        "wandb.init(project=\"16-class-ner\")\n"
      ],
      "execution_count": 0,
      "outputs": []
    },
    {
      "cell_type": "code",
      "metadata": {
        "_uuid": "3da3b93b381cec6ec9c8c9f69627e932498f6bf1",
        "_cell_guid": "7040e03e-628a-4069-8b86-6c9da4a39462",
        "trusted": true,
        "id": "qfAJsgUImjs3",
        "colab_type": "code",
        "colab": {}
      },
      "source": [
        "import json\n",
        "import pandas as pd\n",
        "import numpy as np\n",
        "from sklearn.feature_extraction import DictVectorizer\n",
        "from sklearn.linear_model import Perceptron\n",
        "from sklearn.model_selection import train_test_split\n",
        "from sklearn.metrics import precision_recall_fscore_support, f1_score"
      ],
      "execution_count": 0,
      "outputs": []
    },
    {
      "cell_type": "code",
      "metadata": {
        "trusted": true,
        "id": "Qqb_Utcymjte",
        "colab_type": "code",
        "colab": {}
      },
      "source": [
        "import keras\n",
        "from keras.preprocessing.text import *\n",
        "from keras.preprocessing import *\n",
        "from sklearn.preprocessing import OneHotEncoder, LabelBinarizer, MultiLabelBinarizer"
      ],
      "execution_count": 0,
      "outputs": []
    },
    {
      "cell_type": "code",
      "metadata": {
        "trusted": true,
        "id": "WeVJ3sHomjs_",
        "colab_type": "code",
        "colab": {
          "base_uri": "https://localhost:8080/",
          "height": 35
        },
        "outputId": "c93ef339-a95d-4e60-a304-ee33567fdc8f"
      },
      "source": [
        "df = pd.read_csv(\"ner.csv\", encoding = \"ISO-8859-1\", error_bad_lines=False)\n",
        "df.dropna(inplace=True)"
      ],
      "execution_count": 134,
      "outputs": [
        {
          "output_type": "stream",
          "text": [
            "b'Skipping line 281837: expected 25 fields, saw 34\\n'\n"
          ],
          "name": "stderr"
        }
      ]
    },
    {
      "cell_type": "code",
      "metadata": {
        "trusted": true,
        "id": "3WyisQ1OmjtR",
        "colab_type": "code",
        "colab": {
          "base_uri": "https://localhost:8080/",
          "height": 54
        },
        "outputId": "262a6cb8-45fa-4400-f7fb-a3772d1febaf"
      },
      "source": [
        "print(len(df['sentence_idx'].unique()))\n",
        "num_samples = len(df)\n",
        "num_samples"
      ],
      "execution_count": 135,
      "outputs": [
        {
          "output_type": "stream",
          "text": [
            "35178\n"
          ],
          "name": "stdout"
        },
        {
          "output_type": "execute_result",
          "data": {
            "text/plain": [
              "1050795"
            ]
          },
          "metadata": {
            "tags": []
          },
          "execution_count": 135
        }
      ]
    },
    {
      "cell_type": "code",
      "metadata": {
        "trusted": true,
        "id": "WySAhglFmjtX",
        "colab_type": "code",
        "colab": {
          "base_uri": "https://localhost:8080/",
          "height": 206
        },
        "outputId": "32469075-97ea-4e70-abc8-87e32c373f88"
      },
      "source": [
        "filtered_df = filtered_df.filter(['word', 'tag', 'sentence_idx'])\n",
        "filtered_df.tail()"
      ],
      "execution_count": 136,
      "outputs": [
        {
          "output_type": "execute_result",
          "data": {
            "text/html": [
              "<div>\n",
              "<style scoped>\n",
              "    .dataframe tbody tr th:only-of-type {\n",
              "        vertical-align: middle;\n",
              "    }\n",
              "\n",
              "    .dataframe tbody tr th {\n",
              "        vertical-align: top;\n",
              "    }\n",
              "\n",
              "    .dataframe thead th {\n",
              "        text-align: right;\n",
              "    }\n",
              "</style>\n",
              "<table border=\"1\" class=\"dataframe\">\n",
              "  <thead>\n",
              "    <tr style=\"text-align: right;\">\n",
              "      <th></th>\n",
              "      <th>word</th>\n",
              "      <th>tag</th>\n",
              "      <th>sentence_idx</th>\n",
              "    </tr>\n",
              "  </thead>\n",
              "  <tbody>\n",
              "    <tr>\n",
              "      <th>253904</th>\n",
              "      <td>the</td>\n",
              "      <td>O</td>\n",
              "      <td>11615</td>\n",
              "    </tr>\n",
              "    <tr>\n",
              "      <th>253905</th>\n",
              "      <td>1990s</td>\n",
              "      <td>B-tim</td>\n",
              "      <td>11615</td>\n",
              "    </tr>\n",
              "    <tr>\n",
              "      <th>253906</th>\n",
              "      <td>.</td>\n",
              "      <td>O</td>\n",
              "      <td>11615</td>\n",
              "    </tr>\n",
              "    <tr>\n",
              "      <th>253907</th>\n",
              "      <td>Ethiopia</td>\n",
              "      <td>B-geo</td>\n",
              "      <td>11616</td>\n",
              "    </tr>\n",
              "    <tr>\n",
              "      <th>253908</th>\n",
              "      <td>'s</td>\n",
              "      <td>O</td>\n",
              "      <td>11616</td>\n",
              "    </tr>\n",
              "  </tbody>\n",
              "</table>\n",
              "</div>"
            ],
            "text/plain": [
              "            word    tag  sentence_idx\n",
              "253904       the      O         11615\n",
              "253905     1990s  B-tim         11615\n",
              "253906         .      O         11615\n",
              "253907  Ethiopia  B-geo         11616\n",
              "253908        's      O         11616"
            ]
          },
          "metadata": {
            "tags": []
          },
          "execution_count": 136
        }
      ]
    },
    {
      "cell_type": "code",
      "metadata": {
        "id": "oad68FtQqfI4",
        "colab_type": "code",
        "colab": {}
      },
      "source": [
        "def get_multilabel():\n",
        "  sentences = []\n",
        "  tags = []\n",
        "\n",
        "  sentids = filtered_df['sentence_idx'].unique()\n",
        "\n",
        "  curr_sent_id = filtered_df['sentence_idx'].iloc[0]\n",
        "  tokens = []\n",
        "  tag_tokens = []\n",
        "  row = None\n",
        "  for index, row in filtered_df.iterrows():\n",
        "\n",
        "    sent_id = row['sentence_idx']\n",
        "\n",
        "    if curr_sent_id == sent_id:\n",
        "      tokens.append(row['word'])\n",
        "      tag_tokens.append(row['tag'])\n",
        "    else:\n",
        "      curr_sent_id = sent_id\n",
        "      sentences.append(\" \".join(tokens))\n",
        "      tags.append(tag_tokens)\n",
        "      tokens = []\n",
        "      tag_tokens = []\n",
        "\n",
        "  # get the last sentence\n",
        "  sentences.append(\" \".join(tokens))\n",
        "  tags.append(tag_tokens)# print(sentences)\n",
        "  \n",
        "  x, y, enc, tok = prepare_multilabel(sentences, tags)\n",
        "  \n",
        "  return x, y, enc, tok\n",
        "\n",
        "def prepare_multilabel(sentences, tags):\n",
        "  # prepare y data\n",
        "  y = np.array(tags)\n",
        "  enc = MultiLabelBinarizer()\n",
        "  y = enc.fit_transform(y)\n",
        "  print(y[0])\n",
        "  print(y.shape)\n",
        "  \n",
        "  # prepare x data\n",
        "  x = np.array(sentences)\n",
        "  tok = Tokenizer()\n",
        "  tok.fit_on_texts(x)\n",
        "  x = tok.texts_to_sequences(x)\n",
        "  x = sequence.pad_sequences(x, maxlen=100, padding='post')\n",
        "  x = np.array(x)\n",
        "  return x, y, enc, tok\n"
      ],
      "execution_count": 0,
      "outputs": []
    },
    {
      "cell_type": "code",
      "metadata": {
        "id": "50TkBfDW9T8Q",
        "colab_type": "code",
        "colab": {}
      },
      "source": [
        "def get_singlelabel():\n",
        "  words = filtered_df['word'].values\n",
        "  tags = filtered_df['tag'].values\n",
        "  \n",
        "  x, y, enc, tok = prepare_singlelabel(words, tags)\n",
        "  return x, y, enc, tok\n",
        "  \n",
        "def prepare_singlelabel(sentences, tags):\n",
        "  # prepare y\n",
        "  y = np.array(tags)\n",
        "  enc = MultiLabelBinarizer()\n",
        "  y = enc.fit_transform(y)\n",
        "  print(y[0])\n",
        "  print(y.shape)\n",
        "  \n",
        "  # prepare x\n",
        "  x = np.array(sentences)\n",
        "  tok = Tokenizer()\n",
        "  tok.fit_on_texts(x)\n",
        "  x = tok.texts_to_sequences(x)\n",
        "  x = sequence.pad_sequences(x, maxlen=1, padding='post')\n",
        "  x = np.array(x)\n",
        "  print(x[1])\n",
        "  print(x.shape)\n",
        "  return x, y, enc, tok"
      ],
      "execution_count": 0,
      "outputs": []
    },
    {
      "cell_type": "code",
      "metadata": {
        "id": "ui7wvMT39E3a",
        "colab_type": "code",
        "colab": {
          "base_uri": "https://localhost:8080/",
          "height": 90
        },
        "outputId": "92005ce0-1b1b-4764-ecd5-eabb2e992751"
      },
      "source": [
        "# x, y = get_multilabel()\n",
        "x, y, enc, tok = get_singlelabel()"
      ],
      "execution_count": 153,
      "outputs": [
        {
          "output_type": "stream",
          "text": [
            "[0 0 0 1 0 0 0 0 0 0 0 0 0 0 0]\n",
            "(253909, 15)\n",
            "[3]\n",
            "(253909, 1)\n"
          ],
          "name": "stdout"
        }
      ]
    },
    {
      "cell_type": "code",
      "metadata": {
        "id": "d3GWQj79FS6J",
        "colab_type": "code",
        "colab": {}
      },
      "source": [
        "# print(tok.__dict__.keys())\n",
        "num_words = len(tok.word_index)"
      ],
      "execution_count": 0,
      "outputs": []
    },
    {
      "cell_type": "code",
      "metadata": {
        "trusted": true,
        "id": "bjbwy1QJmjtn",
        "colab_type": "code",
        "colab": {
          "base_uri": "https://localhost:8080/",
          "height": 35
        },
        "outputId": "e5e7c432-ea45-49a3-eb49-042a37da0633"
      },
      "source": [
        "# classes = filtered_df['tag'].unique()\n",
        "num_classes = y.shape[1]\n",
        "num_classes"
      ],
      "execution_count": 164,
      "outputs": [
        {
          "output_type": "execute_result",
          "data": {
            "text/plain": [
              "15"
            ]
          },
          "metadata": {
            "tags": []
          },
          "execution_count": 164
        }
      ]
    },
    {
      "cell_type": "markdown",
      "metadata": {
        "id": "ckDSgZOVmjt1",
        "colab_type": "text"
      },
      "source": [
        "Splitting Train and test data"
      ]
    },
    {
      "cell_type": "code",
      "metadata": {
        "trusted": true,
        "id": "b_a2CnkQmjt2",
        "colab_type": "code",
        "colab": {
          "base_uri": "https://localhost:8080/",
          "height": 54
        },
        "outputId": "ac89fe03-a42c-4ec9-9a04-2e644911e107"
      },
      "source": [
        "x_train, x_test, y_train, y_test = train_test_split(x, y, test_size=0.3, random_state=0)\n",
        "print(x_train.shape)\n",
        "print(y_train.shape)"
      ],
      "execution_count": 165,
      "outputs": [
        {
          "output_type": "stream",
          "text": [
            "(177736, 1)\n",
            "(177736, 15)\n"
          ],
          "name": "stdout"
        }
      ]
    },
    {
      "cell_type": "code",
      "metadata": {
        "trusted": true,
        "id": "zUmfE7PTmjt8",
        "colab_type": "code",
        "colab": {}
      },
      "source": [
        "import keras\n",
        "from keras.models import Sequential\n",
        "from keras.layers import Dense, Dropout, Activation, Embedding, GlobalMaxPooling1D\n",
        "from keras.optimizers import SGD\n",
        "from keras import backend as K\n",
        "\n",
        "\n",
        "def get_model(num_classes, num_words):\n",
        "    model = Sequential()\n",
        "    model.add(Embedding(num_words+1, 64, input_length=1, name='embedding_layer'))\n",
        "    model.add(GlobalMaxPooling1D())\n",
        "    model.add(Dense(64, activation='relu', name='first_dense'))\n",
        "    model.add(Dropout(0.3))\n",
        "#     model.add(Dense(num_classes, activation='sigmoid')) # multilabel\n",
        "    model.add(Dense(num_classes, activation='sigmoid', name='output_layer')) #single label\n",
        "    model.compile(loss='categorical_crossentropy', optimizer='adam', metrics=['acc',f1_m,precision_m, recall_m])\n",
        "    return model\n",
        "  \n",
        "\n",
        "def recall_m(y_true, y_pred):\n",
        "        true_positives = K.sum(K.round(K.clip(y_true * y_pred, 0, 1)))\n",
        "        possible_positives = K.sum(K.round(K.clip(y_true, 0, 1)))\n",
        "        recall = true_positives / (possible_positives + K.epsilon())\n",
        "        return recall\n",
        "\n",
        "def precision_m(y_true, y_pred):\n",
        "        true_positives = K.sum(K.round(K.clip(y_true * y_pred, 0, 1)))\n",
        "        predicted_positives = K.sum(K.round(K.clip(y_pred, 0, 1)))\n",
        "        precision = true_positives / (predicted_positives + K.epsilon())\n",
        "        return precision\n",
        "\n",
        "def f1_m(y_true, y_pred):\n",
        "    precision = precision_m(y_true, y_pred)\n",
        "    recall = recall_m(y_true, y_pred)\n",
        "    return 2*((precision*recall)/(precision+recall+K.epsilon()))\n"
      ],
      "execution_count": 0,
      "outputs": []
    },
    {
      "cell_type": "code",
      "metadata": {
        "trusted": true,
        "id": "10Hm3ZRPmjuZ",
        "colab_type": "code",
        "colab": {
          "base_uri": "https://localhost:8080/",
          "height": 477
        },
        "outputId": "f5268f2f-9c00-4256-f892-28e26ec506a0"
      },
      "source": [
        "run_name = \"\" # what are you testing with this run\n",
        "notes = \"\"\n",
        "\n",
        "#hyperparams\n",
        "epochs = 10\n",
        "batch_size = 1024\n",
        "\n",
        "\n",
        "config= {\n",
        "    \"epochs\": epochs,\n",
        "    \"num_classes\":num_classes,\n",
        "    \"num_words\": num_words,\n",
        "    \"batch_size\":batch_size\n",
        "}\n",
        "\n",
        "model = get_model(num_classes, num_words)\n",
        "\n",
        "wandb.init(project=\"16-class-ner\", name=run_name, config=config, notes=notes)\n",
        "\n",
        "histroy = model.fit(x_train, y_train, batch_size=batch_size, epochs=epochs, \n",
        "          validation_split=0.2, callbacks=[WandbCallback()])\n",
        "\n",
        "scores = model.evaluate(x_test, y_test)\n",
        "wandb.log({'test_'+metric: scores[index] for index, metric in enumerate(model.metrics_names)})\n"
      ],
      "execution_count": 185,
      "outputs": [
        {
          "output_type": "display_data",
          "data": {
            "text/html": [
              "\n",
              "        Notebook configured with <a href=\"https://wandb.com\" target=\"_blank\">W&B</a>. You can <a href=\"https://app.wandb.ai/jeremy/16-class-ner/runs/gwknbuu8\" target=\"_blank\">open</a> the run page, or call <code>%%wandb</code>\n",
              "        in a cell containing your training loop to display live results.  Learn more in our <a href=\"https://docs.wandb.com/docs/integrations/jupyter.html\" target=\"_blank\">docs</a>.\n",
              "    "
            ],
            "text/plain": [
              "<IPython.core.display.HTML object>"
            ]
          },
          "metadata": {
            "tags": []
          }
        },
        {
          "output_type": "stream",
          "text": [
            "Train on 142188 samples, validate on 35548 samples\n",
            "Epoch 1/10\n",
            "142188/142188 [==============================] - 4s 26us/step - loss: 3.2938 - acc: 0.8653 - f1_m: 0.6660 - precision_m: 0.6886 - recall_m: 0.6975 - val_loss: 2.1260 - val_acc: 0.9469 - val_f1_m: 0.8214 - val_precision_m: 0.8832 - val_recall_m: 0.7678\n",
            "Epoch 2/10\n",
            "142188/142188 [==============================] - 3s 20us/step - loss: 1.9035 - acc: 0.9519 - f1_m: 0.8582 - precision_m: 0.9016 - recall_m: 0.8189 - val_loss: 1.8306 - val_acc: 0.9461 - val_f1_m: 0.8643 - val_precision_m: 0.9115 - val_recall_m: 0.8218\n",
            "Epoch 3/10\n",
            "142188/142188 [==============================] - 3s 19us/step - loss: 1.7219 - acc: 0.9237 - f1_m: 0.8838 - precision_m: 0.9281 - recall_m: 0.8436 - val_loss: 1.7780 - val_acc: 0.8900 - val_f1_m: 0.8730 - val_precision_m: 0.9284 - val_recall_m: 0.8240\n",
            "Epoch 4/10\n",
            "142188/142188 [==============================] - 3s 20us/step - loss: 1.6578 - acc: 0.8959 - f1_m: 0.8962 - precision_m: 0.9386 - recall_m: 0.8576 - val_loss: 1.7578 - val_acc: 0.8705 - val_f1_m: 0.8787 - val_precision_m: 0.9330 - val_recall_m: 0.8304\n",
            "Epoch 5/10\n",
            "142188/142188 [==============================] - 3s 20us/step - loss: 1.6268 - acc: 0.8748 - f1_m: 0.9033 - precision_m: 0.9406 - recall_m: 0.8690 - val_loss: 1.7524 - val_acc: 0.8541 - val_f1_m: 0.8825 - val_precision_m: 0.9260 - val_recall_m: 0.8430\n",
            "Epoch 6/10\n",
            "142188/142188 [==============================] - 3s 20us/step - loss: 1.6077 - acc: 0.8662 - f1_m: 0.9087 - precision_m: 0.9389 - recall_m: 0.8805 - val_loss: 1.7525 - val_acc: 0.8555 - val_f1_m: 0.8846 - val_precision_m: 0.9226 - val_recall_m: 0.8497\n",
            "Epoch 7/10\n",
            "142188/142188 [==============================] - 3s 19us/step - loss: 1.5933 - acc: 0.8629 - f1_m: 0.9132 - precision_m: 0.9366 - recall_m: 0.8910 - val_loss: 1.7568 - val_acc: 0.8540 - val_f1_m: 0.8853 - val_precision_m: 0.9203 - val_recall_m: 0.8529\n",
            "Epoch 8/10\n",
            "142188/142188 [==============================] - 3s 20us/step - loss: 1.5858 - acc: 0.8610 - f1_m: 0.9141 - precision_m: 0.9336 - recall_m: 0.8956 - val_loss: 1.7598 - val_acc: 0.8498 - val_f1_m: 0.8851 - val_precision_m: 0.9140 - val_recall_m: 0.8581\n",
            "Epoch 9/10\n",
            "142188/142188 [==============================] - 3s 19us/step - loss: 1.5808 - acc: 0.8604 - f1_m: 0.9154 - precision_m: 0.9327 - recall_m: 0.8988 - val_loss: 1.7613 - val_acc: 0.8509 - val_f1_m: 0.8865 - val_precision_m: 0.9125 - val_recall_m: 0.8620\n",
            "Epoch 10/10\n",
            "142188/142188 [==============================] - 3s 20us/step - loss: 1.5776 - acc: 0.8587 - f1_m: 0.9161 - precision_m: 0.9293 - recall_m: 0.9033 - val_loss: 1.7630 - val_acc: 0.8503 - val_f1_m: 0.8862 - val_precision_m: 0.9094 - val_recall_m: 0.8643\n"
          ],
          "name": "stdout"
        },
        {
          "output_type": "execute_result",
          "data": {
            "text/plain": [
              "<keras.callbacks.History at 0x7facf7a4df98>"
            ]
          },
          "metadata": {
            "tags": []
          },
          "execution_count": 185
        }
      ]
    }
  ]
}