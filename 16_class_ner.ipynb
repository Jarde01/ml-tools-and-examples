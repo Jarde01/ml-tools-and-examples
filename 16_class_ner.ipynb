{
  "nbformat": 4,
  "nbformat_minor": 0,
  "metadata": {
    "language_info": {
      "codemirror_mode": {
        "version": 3,
        "name": "ipython"
      },
      "nbconvert_exporter": "python",
      "file_extension": ".py",
      "version": "3.6.1",
      "name": "python",
      "pygments_lexer": "ipython3",
      "mimetype": "text/x-python"
    },
    "kernelspec": {
      "language": "python",
      "name": "python3",
      "display_name": "Python 3"
    },
    "colab": {
      "name": "16-class-ner.ipynb",
      "version": "0.3.2",
      "provenance": [],
      "collapsed_sections": [],
      "include_colab_link": true
    }
  },
  "cells": [
    {
      "cell_type": "markdown",
      "metadata": {
        "id": "view-in-github",
        "colab_type": "text"
      },
      "source": [
        "<a href=\"https://colab.research.google.com/github/Jarde01/ml-tools-and-examples/blob/master/16_class_ner.ipynb\" target=\"_parent\"><img src=\"https://colab.research.google.com/assets/colab-badge.svg\" alt=\"Open In Colab\"/></a>"
      ]
    },
    {
      "cell_type": "markdown",
      "metadata": {
        "_uuid": "17c2434e3d7a520cb543346cac3407789301d2fd",
        "_cell_guid": "94d75600-5624-423c-9caf-9a57e5dc151c",
        "id": "CN7NkGeQmjsk",
        "colab_type": "text"
      },
      "source": [
        "Named Entity Recognition with recent and improved version of the Annotated NER Dataset with better features"
      ]
    },
    {
      "cell_type": "markdown",
      "metadata": {
        "_uuid": "38759d20acfb6090f0d08ddce9d0b380677cd29c",
        "_cell_guid": "ddec7691-7c40-401b-9546-31f901e84689",
        "id": "cygtxLlumjso",
        "colab_type": "text"
      },
      "source": [
        "**Note: It is just a quick demonstration on 'How to use this dataset on Scikit for Named Entity Classification'**\n",
        "**This is not for analytical concepts and other machine learning illustrations!**\n",
        "\n",
        "Reading CSV in pandas has many ways. I suggest to use CSV as database to prevent large file handling errors.\n",
        "One may use the follwing way to read CSV file using Python Pandas. Good Luck"
      ]
    },
    {
      "cell_type": "code",
      "metadata": {
        "trusted": true,
        "id": "G60iXY1Xmjsq",
        "colab_type": "code",
        "colab": {
          "base_uri": "https://localhost:8080/",
          "height": 184
        },
        "outputId": "94cfa197-b355-433e-dcd2-650e77afa706"
      },
      "source": [
        "!pip install -U keras"
      ],
      "execution_count": 1,
      "outputs": [
        {
          "output_type": "stream",
          "text": [
            "Requirement already up-to-date: keras in /usr/local/lib/python3.6/dist-packages (2.2.4)\n",
            "Requirement already satisfied, skipping upgrade: numpy>=1.9.1 in /usr/local/lib/python3.6/dist-packages (from keras) (1.16.4)\n",
            "Requirement already satisfied, skipping upgrade: six>=1.9.0 in /usr/local/lib/python3.6/dist-packages (from keras) (1.12.0)\n",
            "Requirement already satisfied, skipping upgrade: pyyaml in /usr/local/lib/python3.6/dist-packages (from keras) (3.13)\n",
            "Requirement already satisfied, skipping upgrade: keras-preprocessing>=1.0.5 in /usr/local/lib/python3.6/dist-packages (from keras) (1.1.0)\n",
            "Requirement already satisfied, skipping upgrade: h5py in /usr/local/lib/python3.6/dist-packages (from keras) (2.8.0)\n",
            "Requirement already satisfied, skipping upgrade: keras-applications>=1.0.6 in /usr/local/lib/python3.6/dist-packages (from keras) (1.0.8)\n",
            "Requirement already satisfied, skipping upgrade: scipy>=0.14 in /usr/local/lib/python3.6/dist-packages (from keras) (1.3.0)\n"
          ],
          "name": "stdout"
        }
      ]
    },
    {
      "cell_type": "code",
      "metadata": {
        "id": "p0BwF-U7B4pO",
        "colab_type": "code",
        "colab": {}
      },
      "source": [
        "!pip install --upgrade wandb"
      ],
      "execution_count": 0,
      "outputs": []
    },
    {
      "cell_type": "code",
      "metadata": {
        "id": "4XhyFhyzB-cn",
        "colab_type": "code",
        "colab": {}
      },
      "source": [
        "!wandb login 2295caae2022fe6a431a755f74d1e9e8605848eb\n",
        "import wandb\n",
        "from wandb.keras import WandbCallback\n",
        "wandb.init(project=\"16-class-ner\")\n"
      ],
      "execution_count": 0,
      "outputs": []
    },
    {
      "cell_type": "code",
      "metadata": {
        "_uuid": "3da3b93b381cec6ec9c8c9f69627e932498f6bf1",
        "_cell_guid": "7040e03e-628a-4069-8b86-6c9da4a39462",
        "trusted": true,
        "id": "qfAJsgUImjs3",
        "colab_type": "code",
        "colab": {}
      },
      "source": [
        "import json\n",
        "import pandas as pd\n",
        "import numpy as np\n",
        "from sklearn.feature_extraction import DictVectorizer\n",
        "from sklearn.linear_model import Perceptron\n",
        "from sklearn.model_selection import train_test_split\n",
        "from sklearn.metrics import precision_recall_fscore_support, f1_score"
      ],
      "execution_count": 0,
      "outputs": []
    },
    {
      "cell_type": "code",
      "metadata": {
        "trusted": true,
        "id": "Qqb_Utcymjte",
        "colab_type": "code",
        "colab": {}
      },
      "source": [
        "import keras\n",
        "from keras.preprocessing.text import *\n",
        "from keras.preprocessing import *\n",
        "from sklearn.preprocessing import OneHotEncoder, LabelBinarizer, MultiLabelBinarizer"
      ],
      "execution_count": 0,
      "outputs": []
    },
    {
      "cell_type": "code",
      "metadata": {
        "trusted": true,
        "id": "WeVJ3sHomjs_",
        "colab_type": "code",
        "colab": {
          "base_uri": "https://localhost:8080/",
          "height": 35
        },
        "outputId": "c93ef339-a95d-4e60-a304-ee33567fdc8f"
      },
      "source": [
        "df = pd.read_csv(\"ner.csv\", encoding = \"ISO-8859-1\", error_bad_lines=False)\n",
        "df.dropna(inplace=True)"
      ],
      "execution_count": 134,
      "outputs": [
        {
          "output_type": "stream",
          "text": [
            "b'Skipping line 281837: expected 25 fields, saw 34\\n'\n"
          ],
          "name": "stderr"
        }
      ]
    },
    {
      "cell_type": "code",
      "metadata": {
        "trusted": true,
        "id": "3WyisQ1OmjtR",
        "colab_type": "code",
        "colab": {
          "base_uri": "https://localhost:8080/",
          "height": 54
        },
        "outputId": "262a6cb8-45fa-4400-f7fb-a3772d1febaf"
      },
      "source": [
        "print(len(df['sentence_idx'].unique()))\n",
        "num_samples = len(df)\n",
        "num_samples"
      ],
      "execution_count": 135,
      "outputs": [
        {
          "output_type": "stream",
          "text": [
            "35178\n"
          ],
          "name": "stdout"
        },
        {
          "output_type": "execute_result",
          "data": {
            "text/plain": [
              "1050795"
            ]
          },
          "metadata": {
            "tags": []
          },
          "execution_count": 135
        }
      ]
    },
    {
      "cell_type": "code",
      "metadata": {
        "trusted": true,
        "id": "WySAhglFmjtX",
        "colab_type": "code",
        "colab": {
          "base_uri": "https://localhost:8080/",
          "height": 206
        },
        "outputId": "32469075-97ea-4e70-abc8-87e32c373f88"
      },
      "source": [
        "filtered_df = filtered_df.filter(['word', 'tag', 'sentence_idx'])\n",
        "filtered_df.tail()"
      ],
      "execution_count": 136,
      "outputs": [
        {
          "output_type": "execute_result",
          "data": {
            "text/html": [
              "<div>\n",
              "<style scoped>\n",
              "    .dataframe tbody tr th:only-of-type {\n",
              "        vertical-align: middle;\n",
              "    }\n",
              "\n",
              "    .dataframe tbody tr th {\n",
              "        vertical-align: top;\n",
              "    }\n",
              "\n",
              "    .dataframe thead th {\n",
              "        text-align: right;\n",
              "    }\n",
              "</style>\n",
              "<table border=\"1\" class=\"dataframe\">\n",
              "  <thead>\n",
              "    <tr style=\"text-align: right;\">\n",
              "      <th></th>\n",
              "      <th>word</th>\n",
              "      <th>tag</th>\n",
              "      <th>sentence_idx</th>\n",
              "    </tr>\n",
              "  </thead>\n",
              "  <tbody>\n",
              "    <tr>\n",
              "      <th>253904</th>\n",
              "      <td>the</td>\n",
              "      <td>O</td>\n",
              "      <td>11615</td>\n",
              "    </tr>\n",
              "    <tr>\n",
              "      <th>253905</th>\n",
              "      <td>1990s</td>\n",
              "      <td>B-tim</td>\n",
              "      <td>11615</td>\n",
              "    </tr>\n",
              "    <tr>\n",
              "      <th>253906</th>\n",
              "      <td>.</td>\n",
              "      <td>O</td>\n",
              "      <td>11615</td>\n",
              "    </tr>\n",
              "    <tr>\n",
              "      <th>253907</th>\n",
              "      <td>Ethiopia</td>\n",
              "      <td>B-geo</td>\n",
              "      <td>11616</td>\n",
              "    </tr>\n",
              "    <tr>\n",
              "      <th>253908</th>\n",
              "      <td>'s</td>\n",
              "      <td>O</td>\n",
              "      <td>11616</td>\n",
              "    </tr>\n",
              "  </tbody>\n",
              "</table>\n",
              "</div>"
            ],
            "text/plain": [
              "            word    tag  sentence_idx\n",
              "253904       the      O         11615\n",
              "253905     1990s  B-tim         11615\n",
              "253906         .      O         11615\n",
              "253907  Ethiopia  B-geo         11616\n",
              "253908        's      O         11616"
            ]
          },
          "metadata": {
            "tags": []
          },
          "execution_count": 136
        }
      ]
    },
    {
      "cell_type": "code",
      "metadata": {
        "id": "oad68FtQqfI4",
        "colab_type": "code",
        "colab": {}
      },
      "source": [
        "def get_multilabel():\n",
        "  sentences = []\n",
        "  tags = []\n",
        "\n",
        "  sentids = filtered_df['sentence_idx'].unique()\n",
        "\n",
        "  curr_sent_id = filtered_df['sentence_idx'].iloc[0]\n",
        "  tokens = []\n",
        "  tag_tokens = []\n",
        "  row = None\n",
        "  for index, row in filtered_df.iterrows():\n",
        "\n",
        "    sent_id = row['sentence_idx']\n",
        "\n",
        "    if curr_sent_id == sent_id:\n",
        "      tokens.append(row['word'])\n",
        "      tag_tokens.append(row['tag'])\n",
        "    else:\n",
        "      curr_sent_id = sent_id\n",
        "      sentences.append(\" \".join(tokens))\n",
        "      tags.append(tag_tokens)\n",
        "      tokens = []\n",
        "      tag_tokens = []\n",
        "\n",
        "  # get the last sentence\n",
        "  sentences.append(\" \".join(tokens))\n",
        "  tags.append(tag_tokens)# print(sentences)\n",
        "  \n",
        "  x, y, enc, tok = prepare_multilabel(sentences, tags)\n",
        "  \n",
        "  return x, y, enc, tok\n",
        "\n",
        "def prepare_multilabel(sentences, tags):\n",
        "  # prepare y data\n",
        "  y = np.array(tags)\n",
        "  enc = MultiLabelBinarizer()\n",
        "  y = enc.fit_transform(y)\n",
        "  print(y[0])\n",
        "  print(y.shape)\n",
        "  \n",
        "  # prepare x data\n",
        "  x = np.array(sentences)\n",
        "  tok = Tokenizer()\n",
        "  tok.fit_on_texts(x)\n",
        "  x = tok.texts_to_sequences(x)\n",
        "  x = sequence.pad_sequences(x, maxlen=100, padding='post')\n",
        "  x = np.array(x)\n",
        "  return x, y, enc, tok\n"
      ],
      "execution_count": 0,
      "outputs": []
    },
    {
      "cell_type": "code",
      "metadata": {
        "id": "50TkBfDW9T8Q",
        "colab_type": "code",
        "colab": {}
      },
      "source": [
        "def get_singlelabel():\n",
        "  words = filtered_df['word'].values\n",
        "  tags = filtered_df['tag'].values\n",
        "  \n",
        "  x, y, enc, tok = prepare_singlelabel(words, tags)\n",
        "  return x, y, enc, tok\n",
        "  \n",
        "def prepare_singlelabel(sentences, tags):\n",
        "  # prepare y\n",
        "  y = np.array(tags)\n",
        "  enc = MultiLabelBinarizer()\n",
        "  y = enc.fit_transform(y)\n",
        "  print(y[0])\n",
        "  print(y.shape)\n",
        "  \n",
        "  # prepare x\n",
        "  x = np.array(sentences)\n",
        "  tok = Tokenizer()\n",
        "  tok.fit_on_texts(x)\n",
        "  x = tok.texts_to_sequences(x)\n",
        "  x = sequence.pad_sequences(x, maxlen=1, padding='post')\n",
        "  x = np.array(x)\n",
        "  print(x[1])\n",
        "  print(x.shape)\n",
        "  return x, y, enc, tok"
      ],
      "execution_count": 0,
      "outputs": []
    },
    {
      "cell_type": "code",
      "metadata": {
        "id": "ui7wvMT39E3a",
        "colab_type": "code",
        "colab": {
          "base_uri": "https://localhost:8080/",
          "height": 90
        },
        "outputId": "92005ce0-1b1b-4764-ecd5-eabb2e992751"
      },
      "source": [
        "# x, y = get_multilabel()\n",
        "x, y, enc, tok = get_singlelabel()"
      ],
      "execution_count": 153,
      "outputs": [
        {
          "output_type": "stream",
          "text": [
            "[0 0 0 1 0 0 0 0 0 0 0 0 0 0 0]\n",
            "(253909, 15)\n",
            "[3]\n",
            "(253909, 1)\n"
          ],
          "name": "stdout"
        }
      ]
    },
    {
      "cell_type": "code",
      "metadata": {
        "id": "d3GWQj79FS6J",
        "colab_type": "code",
        "colab": {}
      },
      "source": [
        "# print(tok.__dict__.keys())\n",
        "num_words = len(tok.word_index)"
      ],
      "execution_count": 0,
      "outputs": []
    },
    {
      "cell_type": "code",
      "metadata": {
        "trusted": true,
        "id": "bjbwy1QJmjtn",
        "colab_type": "code",
        "colab": {
          "base_uri": "https://localhost:8080/",
          "height": 35
        },
        "outputId": "e5e7c432-ea45-49a3-eb49-042a37da0633"
      },
      "source": [
        "# classes = filtered_df['tag'].unique()\n",
        "num_classes = y.shape[1]\n",
        "num_classes"
      ],
      "execution_count": 164,
      "outputs": [
        {
          "output_type": "execute_result",
          "data": {
            "text/plain": [
              "15"
            ]
          },
          "metadata": {
            "tags": []
          },
          "execution_count": 164
        }
      ]
    },
    {
      "cell_type": "markdown",
      "metadata": {
        "id": "ckDSgZOVmjt1",
        "colab_type": "text"
      },
      "source": [
        "Splitting Train and test data"
      ]
    },
    {
      "cell_type": "code",
      "metadata": {
        "trusted": true,
        "id": "b_a2CnkQmjt2",
        "colab_type": "code",
        "colab": {
          "base_uri": "https://localhost:8080/",
          "height": 54
        },
        "outputId": "ac89fe03-a42c-4ec9-9a04-2e644911e107"
      },
      "source": [
        "x_train, x_test, y_train, y_test = train_test_split(x, y, test_size=0.3, random_state=0)\n",
        "print(x_train.shape)\n",
        "print(y_train.shape)"
      ],
      "execution_count": 165,
      "outputs": [
        {
          "output_type": "stream",
          "text": [
            "(177736, 1)\n",
            "(177736, 15)\n"
          ],
          "name": "stdout"
        }
      ]
    },
    {
      "cell_type": "code",
      "metadata": {
        "trusted": true,
        "id": "zUmfE7PTmjt8",
        "colab_type": "code",
        "colab": {}
      },
      "source": [
        "import keras\n",
        "from keras.models import Sequential\n",
        "from keras.layers import Dense, Dropout, Activation, Embedding, GlobalMaxPooling1D\n",
        "from keras.optimizers import SGD\n",
        "from keras import backend as K\n",
        "  \n",
        "\n",
        "def recall_m(y_true, y_pred):\n",
        "        true_positives = K.sum(K.round(K.clip(y_true * y_pred, 0, 1)))\n",
        "        possible_positives = K.sum(K.round(K.clip(y_true, 0, 1)))\n",
        "        recall = true_positives / (possible_positives + K.epsilon())\n",
        "        return recall\n",
        "\n",
        "def precision_m(y_true, y_pred):\n",
        "        true_positives = K.sum(K.round(K.clip(y_true * y_pred, 0, 1)))\n",
        "        predicted_positives = K.sum(K.round(K.clip(y_pred, 0, 1)))\n",
        "        precision = true_positives / (predicted_positives + K.epsilon())\n",
        "        return precision\n",
        "\n",
        "def f1_m(y_true, y_pred):\n",
        "    precision = precision_m(y_true, y_pred)\n",
        "    recall = recall_m(y_true, y_pred)\n",
        "    return 2*((precision*recall)/(precision+recall+K.epsilon()))\n",
        "\n",
        "  \n",
        "def get_model(num_classes, num_words, embed_out=64, dense_1_nodes=64, dropout_1=0.5):\n",
        "    model = Sequential()\n",
        "    model.add(Embedding(num_words+1, embed_out, input_length=1, name='embedding_layer'))\n",
        "    model.add(GlobalMaxPooling1D())\n",
        "    model.add(Dense(dense_1_nodes, activation='relu', name='dense_1'))\n",
        "    model.add(Dropout(dropout_1))\n",
        "#     model.add(Dense(num_classes, activation='sigmoid')) # multilabel\n",
        "    model.add(Dense(num_classes, activation='sigmoid', name='output_layer')) #single label\n",
        "    model.compile(loss='categorical_crossentropy', optimizer='adam', metrics=['acc',f1_m,precision_m, recall_m])\n",
        "    return model"
      ],
      "execution_count": 0,
      "outputs": []
    },
    {
      "cell_type": "code",
      "metadata": {
        "trusted": true,
        "id": "10Hm3ZRPmjuZ",
        "colab_type": "code",
        "colab": {
          "base_uri": "https://localhost:8080/",
          "height": 605
        },
        "outputId": "bb8722e0-eb4b-436a-d532-f683a325ead9"
      },
      "source": [
        "run_name = \"\" # what are you testing with this run\n",
        "notes = \"\"\n",
        "\n",
        "#hyperparams\n",
        "hyperparams = dict(\n",
        "  embed_out =64,\n",
        "  dense_1_nodes = 16,\n",
        "  dropout_1=0.3,\n",
        ")\n",
        "\n",
        "config= {\n",
        "    \"epochs\": 20,\n",
        "    \"num_classes\":num_classes,\n",
        "    \"num_words\": num_words,\n",
        "    \"batch_size\":batch_size,\n",
        "    **hyperparams\n",
        "}\n",
        "\n",
        "model = get_model(num_classes, num_words, **hyperparams)\n",
        "\n",
        "wandb.init(project=\"16-class-ner\", name=run_name, config=config, notes=notes)\n",
        "\n",
        "histroy = model.fit(x_train, y_train, batch_size=config['batch_size'], epochs=config['epochs'], \n",
        "          validation_split=0.2, callbacks=[WandbCallback()])\n",
        "\n",
        "scores = model.evaluate(x_test, y_test)\n",
        "wandb.log({'test_'+metric: scores[index] for index, metric in enumerate(model.metrics_names)})\n",
        "print(\"\\n*** Finished! ***\")"
      ],
      "execution_count": 0,
      "outputs": [
        {
          "output_type": "display_data",
          "data": {
            "text/html": [
              "\n",
              "        Notebook configured with <a href=\"https://wandb.com\" target=\"_blank\">W&B</a>. You can <a href=\"https://app.wandb.ai/jeremy/16-class-ner/runs/gok3bzjs\" target=\"_blank\">open</a> the run page, or call <code>%%wandb</code>\n",
              "        in a cell containing your training loop to display live results.  Learn more in our <a href=\"https://docs.wandb.com/docs/integrations/jupyter.html\" target=\"_blank\">docs</a>.\n",
              "    "
            ],
            "text/plain": [
              "<IPython.core.display.HTML object>"
            ]
          },
          "metadata": {
            "tags": []
          }
        },
        {
          "output_type": "stream",
          "text": [
            "Train on 142188 samples, validate on 35548 samples\n",
            "Epoch 1/20\n",
            "142188/142188 [==============================] - 5s 36us/step - loss: 3.7755 - acc: 0.7705 - f1_m: 0.5082 - precision_m: 0.4295 - recall_m: 0.7251 - val_loss: 2.6596 - val_acc: 0.8628 - val_f1_m: 0.7307 - val_precision_m: 0.8563 - val_recall_m: 0.6374\n",
            "Epoch 2/20\n",
            "142188/142188 [==============================] - 3s 19us/step - loss: 2.2792 - acc: 0.9061 - f1_m: 0.7800 - precision_m: 0.8584 - recall_m: 0.7154 - val_loss: 2.0054 - val_acc: 0.9464 - val_f1_m: 0.8289 - val_precision_m: 0.8901 - val_recall_m: 0.7757\n",
            "Epoch 3/20\n",
            "142188/142188 [==============================] - 3s 19us/step - loss: 1.9339 - acc: 0.9447 - f1_m: 0.8398 - precision_m: 0.8925 - recall_m: 0.7931 - val_loss: 1.8743 - val_acc: 0.9429 - val_f1_m: 0.8546 - val_precision_m: 0.9039 - val_recall_m: 0.8105\n",
            "Epoch 4/20\n",
            "142188/142188 [==============================] - 3s 20us/step - loss: 1.8185 - acc: 0.9452 - f1_m: 0.8581 - precision_m: 0.9020 - recall_m: 0.8185 - val_loss: 1.8276 - val_acc: 0.9340 - val_f1_m: 0.8645 - val_precision_m: 0.9144 - val_recall_m: 0.8199\n",
            "Epoch 5/20\n",
            "142188/142188 [==============================] - 3s 20us/step - loss: 1.7627 - acc: 0.9386 - f1_m: 0.8686 - precision_m: 0.9094 - recall_m: 0.8313 - val_loss: 1.8063 - val_acc: 0.9282 - val_f1_m: 0.8673 - val_precision_m: 0.9192 - val_recall_m: 0.8210\n",
            "Epoch 6/20\n",
            "142188/142188 [==============================] - 3s 20us/step - loss: 1.7336 - acc: 0.9295 - f1_m: 0.8727 - precision_m: 0.9125 - recall_m: 0.8364 - val_loss: 1.7965 - val_acc: 0.9223 - val_f1_m: 0.8696 - val_precision_m: 0.9220 - val_recall_m: 0.8229\n",
            "Epoch 7/20\n",
            "142188/142188 [==============================] - 3s 20us/step - loss: 1.7132 - acc: 0.9228 - f1_m: 0.8767 - precision_m: 0.9162 - recall_m: 0.8406 - val_loss: 1.7925 - val_acc: 0.9174 - val_f1_m: 0.8713 - val_precision_m: 0.9268 - val_recall_m: 0.8222\n",
            "Epoch 8/20\n",
            "142188/142188 [==============================] - 3s 20us/step - loss: 1.7011 - acc: 0.9138 - f1_m: 0.8785 - precision_m: 0.9183 - recall_m: 0.8422 - val_loss: 1.7903 - val_acc: 0.9059 - val_f1_m: 0.8730 - val_precision_m: 0.9273 - val_recall_m: 0.8248\n",
            "Epoch 9/20\n",
            "142188/142188 [==============================] - 3s 20us/step - loss: 1.6887 - acc: 0.9047 - f1_m: 0.8805 - precision_m: 0.9215 - recall_m: 0.8431 - val_loss: 1.7911 - val_acc: 0.9030 - val_f1_m: 0.8744 - val_precision_m: 0.9260 - val_recall_m: 0.8284\n",
            "Epoch 10/20\n",
            "142188/142188 [==============================] - 3s 20us/step - loss: 1.6790 - acc: 0.8999 - f1_m: 0.8840 - precision_m: 0.9237 - recall_m: 0.8477 - val_loss: 1.7952 - val_acc: 0.8943 - val_f1_m: 0.8752 - val_precision_m: 0.9278 - val_recall_m: 0.8284\n",
            "Epoch 11/20\n",
            "142188/142188 [==============================] - 3s 20us/step - loss: 1.6709 - acc: 0.8956 - f1_m: 0.8877 - precision_m: 0.9271 - recall_m: 0.8515 - val_loss: 1.7939 - val_acc: 0.8828 - val_f1_m: 0.8769 - val_precision_m: 0.9244 - val_recall_m: 0.8342\n",
            "Epoch 12/20\n",
            "142188/142188 [==============================] - 3s 20us/step - loss: 1.6683 - acc: 0.8889 - f1_m: 0.8875 - precision_m: 0.9259 - recall_m: 0.8524 - val_loss: 1.7972 - val_acc: 0.8742 - val_f1_m: 0.8779 - val_precision_m: 0.9250 - val_recall_m: 0.8354\n",
            "Epoch 13/20\n",
            "142188/142188 [==============================] - 3s 20us/step - loss: 1.6621 - acc: 0.8860 - f1_m: 0.8897 - precision_m: 0.9283 - recall_m: 0.8543 - val_loss: 1.7977 - val_acc: 0.8701 - val_f1_m: 0.8791 - val_precision_m: 0.9216 - val_recall_m: 0.8404\n",
            "Epoch 14/20\n",
            "133120/142188 [===========================>..] - ETA: 0s - loss: 1.6550 - acc: 0.8823 - f1_m: 0.8917 - precision_m: 0.9288 - recall_m: 0.8575"
          ],
          "name": "stdout"
        }
      ]
    },
    {
      "cell_type": "code",
      "metadata": {
        "id": "iW_fetF-PF7W",
        "colab_type": "code",
        "colab": {}
      },
      "source": [
        ""
      ],
      "execution_count": 0,
      "outputs": []
    }
  ]
}