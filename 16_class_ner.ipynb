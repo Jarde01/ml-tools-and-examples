{
  "nbformat": 4,
  "nbformat_minor": 0,
  "metadata": {
    "language_info": {
      "codemirror_mode": {
        "version": 3,
        "name": "ipython"
      },
      "nbconvert_exporter": "python",
      "file_extension": ".py",
      "version": "3.6.1",
      "name": "python",
      "pygments_lexer": "ipython3",
      "mimetype": "text/x-python"
    },
    "kernelspec": {
      "language": "python",
      "name": "python3",
      "display_name": "Python 3"
    },
    "colab": {
      "name": "16-class-ner.ipynb",
      "version": "0.3.2",
      "provenance": [],
      "collapsed_sections": [],
      "include_colab_link": true
    }
  },
  "cells": [
    {
      "cell_type": "markdown",
      "metadata": {
        "id": "view-in-github",
        "colab_type": "text"
      },
      "source": [
        "<a href=\"https://colab.research.google.com/github/Jarde01/ml-tools-and-examples/blob/master/16_class_ner.ipynb\" target=\"_parent\"><img src=\"https://colab.research.google.com/assets/colab-badge.svg\" alt=\"Open In Colab\"/></a>"
      ]
    },
    {
      "cell_type": "markdown",
      "metadata": {
        "_uuid": "17c2434e3d7a520cb543346cac3407789301d2fd",
        "_cell_guid": "94d75600-5624-423c-9caf-9a57e5dc151c",
        "id": "CN7NkGeQmjsk",
        "colab_type": "text"
      },
      "source": [
        "Named Entity Recognition with recent and improved version of the Annotated NER Dataset with better features"
      ]
    },
    {
      "cell_type": "markdown",
      "metadata": {
        "_uuid": "38759d20acfb6090f0d08ddce9d0b380677cd29c",
        "_cell_guid": "ddec7691-7c40-401b-9546-31f901e84689",
        "id": "cygtxLlumjso",
        "colab_type": "text"
      },
      "source": [
        "**Note: It is just a quick demonstration on 'How to use this dataset on Scikit for Named Entity Classification'**\n",
        "**This is not for analytical concepts and other machine learning illustrations!**\n",
        "\n",
        "Reading CSV in pandas has many ways. I suggest to use CSV as database to prevent large file handling errors.\n",
        "One may use the follwing way to read CSV file using Python Pandas. Good Luck"
      ]
    },
    {
      "cell_type": "code",
      "metadata": {
        "trusted": true,
        "id": "G60iXY1Xmjsq",
        "colab_type": "code",
        "outputId": "94cfa197-b355-433e-dcd2-650e77afa706",
        "colab": {
          "base_uri": "https://localhost:8080/",
          "height": 184
        }
      },
      "source": [
        "!pip install -U keras"
      ],
      "execution_count": 0,
      "outputs": [
        {
          "output_type": "stream",
          "text": [
            "Requirement already up-to-date: keras in /usr/local/lib/python3.6/dist-packages (2.2.4)\n",
            "Requirement already satisfied, skipping upgrade: numpy>=1.9.1 in /usr/local/lib/python3.6/dist-packages (from keras) (1.16.4)\n",
            "Requirement already satisfied, skipping upgrade: six>=1.9.0 in /usr/local/lib/python3.6/dist-packages (from keras) (1.12.0)\n",
            "Requirement already satisfied, skipping upgrade: pyyaml in /usr/local/lib/python3.6/dist-packages (from keras) (3.13)\n",
            "Requirement already satisfied, skipping upgrade: keras-preprocessing>=1.0.5 in /usr/local/lib/python3.6/dist-packages (from keras) (1.1.0)\n",
            "Requirement already satisfied, skipping upgrade: h5py in /usr/local/lib/python3.6/dist-packages (from keras) (2.8.0)\n",
            "Requirement already satisfied, skipping upgrade: keras-applications>=1.0.6 in /usr/local/lib/python3.6/dist-packages (from keras) (1.0.8)\n",
            "Requirement already satisfied, skipping upgrade: scipy>=0.14 in /usr/local/lib/python3.6/dist-packages (from keras) (1.3.0)\n"
          ],
          "name": "stdout"
        }
      ]
    },
    {
      "cell_type": "code",
      "metadata": {
        "id": "p0BwF-U7B4pO",
        "colab_type": "code",
        "colab": {}
      },
      "source": [
        "!pip install --upgrade wandb"
      ],
      "execution_count": 0,
      "outputs": []
    },
    {
      "cell_type": "code",
      "metadata": {
        "id": "4XhyFhyzB-cn",
        "colab_type": "code",
        "colab": {}
      },
      "source": [
        "!wandb login 2295caae2022fe6a431a755f74d1e9e8605848eb\n",
        "import wandb\n",
        "from wandb.keras import WandbCallback\n",
        "wandb.init(project=\"16-class-ner\")\n"
      ],
      "execution_count": 0,
      "outputs": []
    },
    {
      "cell_type": "code",
      "metadata": {
        "_uuid": "3da3b93b381cec6ec9c8c9f69627e932498f6bf1",
        "_cell_guid": "7040e03e-628a-4069-8b86-6c9da4a39462",
        "trusted": true,
        "id": "qfAJsgUImjs3",
        "colab_type": "code",
        "colab": {}
      },
      "source": [
        "import json\n",
        "import pandas as pd\n",
        "import numpy as np\n",
        "from sklearn.feature_extraction import DictVectorizer\n",
        "from sklearn.linear_model import Perceptron\n",
        "from sklearn.model_selection import train_test_split\n",
        "from sklearn.metrics import precision_recall_fscore_support, f1_score"
      ],
      "execution_count": 0,
      "outputs": []
    },
    {
      "cell_type": "code",
      "metadata": {
        "trusted": true,
        "id": "Qqb_Utcymjte",
        "colab_type": "code",
        "colab": {}
      },
      "source": [
        "import keras\n",
        "from keras.preprocessing.text import *\n",
        "from keras.preprocessing import *\n",
        "from sklearn.preprocessing import OneHotEncoder, LabelBinarizer, MultiLabelBinarizer, LabelEncoder"
      ],
      "execution_count": 0,
      "outputs": []
    },
    {
      "cell_type": "code",
      "metadata": {
        "trusted": true,
        "id": "WeVJ3sHomjs_",
        "colab_type": "code",
        "outputId": "c93ef339-a95d-4e60-a304-ee33567fdc8f",
        "colab": {
          "base_uri": "https://localhost:8080/",
          "height": 35
        }
      },
      "source": [
        "df = pd.read_csv(\"ner.csv\", encoding = \"ISO-8859-1\", error_bad_lines=False)\n",
        "df.dropna(inplace=True)"
      ],
      "execution_count": 0,
      "outputs": [
        {
          "output_type": "stream",
          "text": [
            "b'Skipping line 281837: expected 25 fields, saw 34\\n'\n"
          ],
          "name": "stderr"
        }
      ]
    },
    {
      "cell_type": "code",
      "metadata": {
        "trusted": true,
        "id": "3WyisQ1OmjtR",
        "colab_type": "code",
        "outputId": "262a6cb8-45fa-4400-f7fb-a3772d1febaf",
        "colab": {
          "base_uri": "https://localhost:8080/",
          "height": 54
        }
      },
      "source": [
        "print(len(df['sentence_idx'].unique()))\n",
        "num_samples = len(df)\n",
        "num_samples"
      ],
      "execution_count": 0,
      "outputs": [
        {
          "output_type": "stream",
          "text": [
            "35178\n"
          ],
          "name": "stdout"
        },
        {
          "output_type": "execute_result",
          "data": {
            "text/plain": [
              "1050795"
            ]
          },
          "metadata": {
            "tags": []
          },
          "execution_count": 135
        }
      ]
    },
    {
      "cell_type": "code",
      "metadata": {
        "trusted": true,
        "id": "WySAhglFmjtX",
        "colab_type": "code",
        "outputId": "32469075-97ea-4e70-abc8-87e32c373f88",
        "colab": {
          "base_uri": "https://localhost:8080/",
          "height": 206
        }
      },
      "source": [
        "filtered_df = filtered_df.filter(['word', 'tag', 'sentence_idx'])\n",
        "filtered_df.tail()"
      ],
      "execution_count": 0,
      "outputs": [
        {
          "output_type": "execute_result",
          "data": {
            "text/html": [
              "<div>\n",
              "<style scoped>\n",
              "    .dataframe tbody tr th:only-of-type {\n",
              "        vertical-align: middle;\n",
              "    }\n",
              "\n",
              "    .dataframe tbody tr th {\n",
              "        vertical-align: top;\n",
              "    }\n",
              "\n",
              "    .dataframe thead th {\n",
              "        text-align: right;\n",
              "    }\n",
              "</style>\n",
              "<table border=\"1\" class=\"dataframe\">\n",
              "  <thead>\n",
              "    <tr style=\"text-align: right;\">\n",
              "      <th></th>\n",
              "      <th>word</th>\n",
              "      <th>tag</th>\n",
              "      <th>sentence_idx</th>\n",
              "    </tr>\n",
              "  </thead>\n",
              "  <tbody>\n",
              "    <tr>\n",
              "      <th>253904</th>\n",
              "      <td>the</td>\n",
              "      <td>O</td>\n",
              "      <td>11615</td>\n",
              "    </tr>\n",
              "    <tr>\n",
              "      <th>253905</th>\n",
              "      <td>1990s</td>\n",
              "      <td>B-tim</td>\n",
              "      <td>11615</td>\n",
              "    </tr>\n",
              "    <tr>\n",
              "      <th>253906</th>\n",
              "      <td>.</td>\n",
              "      <td>O</td>\n",
              "      <td>11615</td>\n",
              "    </tr>\n",
              "    <tr>\n",
              "      <th>253907</th>\n",
              "      <td>Ethiopia</td>\n",
              "      <td>B-geo</td>\n",
              "      <td>11616</td>\n",
              "    </tr>\n",
              "    <tr>\n",
              "      <th>253908</th>\n",
              "      <td>'s</td>\n",
              "      <td>O</td>\n",
              "      <td>11616</td>\n",
              "    </tr>\n",
              "  </tbody>\n",
              "</table>\n",
              "</div>"
            ],
            "text/plain": [
              "            word    tag  sentence_idx\n",
              "253904       the      O         11615\n",
              "253905     1990s  B-tim         11615\n",
              "253906         .      O         11615\n",
              "253907  Ethiopia  B-geo         11616\n",
              "253908        's      O         11616"
            ]
          },
          "metadata": {
            "tags": []
          },
          "execution_count": 136
        }
      ]
    },
    {
      "cell_type": "code",
      "metadata": {
        "id": "oad68FtQqfI4",
        "colab_type": "code",
        "colab": {}
      },
      "source": [
        "def get_multilabel():\n",
        "  sentences = []\n",
        "  tags = []\n",
        "\n",
        "  sentids = filtered_df['sentence_idx'].unique()\n",
        "\n",
        "  curr_sent_id = filtered_df['sentence_idx'].iloc[0]\n",
        "  tokens = []\n",
        "  tag_tokens = []\n",
        "  row = None\n",
        "  for index, row in filtered_df.iterrows():\n",
        "\n",
        "    sent_id = row['sentence_idx']\n",
        "\n",
        "    if curr_sent_id == sent_id:\n",
        "      tokens.append(row['word'])\n",
        "      tag_tokens.append(row['tag'])\n",
        "    else:\n",
        "      curr_sent_id = sent_id\n",
        "      sentences.append(\" \".join(tokens))\n",
        "      tags.append(tag_tokens)\n",
        "      tokens = []\n",
        "      tag_tokens = []\n",
        "\n",
        "  # get the last sentence\n",
        "  sentences.append(\" \".join(tokens))\n",
        "  tags.append(tag_tokens)# print(sentences)\n",
        "  \n",
        "  x, y, enc, tok = prepare_multilabel(sentences, tags)\n",
        "  \n",
        "  return x, y, enc, tok\n",
        "\n",
        "def prepare_multilabel(sentences, tags):\n",
        "  # prepare y data\n",
        "  y = np.array(tags)\n",
        "  enc = MultiLabelBinarizer()\n",
        "  y = enc.fit_transform(y)\n",
        "  print(enc.classes_)\n",
        "  print(y[0])\n",
        "  print(y.shape)\n",
        "  \n",
        "  # prepare x data\n",
        "  x = np.array(sentences)\n",
        "  tok = Tokenizer()\n",
        "  tok.fit_on_texts(x)\n",
        "  x = tok.texts_to_sequences(x)\n",
        "  x = sequence.pad_sequences(x, maxlen=100, padding='post')\n",
        "  x = np.array(x)\n",
        "  return x, y, enc, tok\n"
      ],
      "execution_count": 0,
      "outputs": []
    },
    {
      "cell_type": "code",
      "metadata": {
        "id": "50TkBfDW9T8Q",
        "colab_type": "code",
        "colab": {}
      },
      "source": [
        "def get_singlelabel():\n",
        "  words = filtered_df['word'].values\n",
        "  tags = filtered_df['tag'].values\n",
        "  \n",
        "  x, y, (le,enc), tok = prepare_singlelabel(words, tags)\n",
        "  return x, y, (le, enc), tok\n",
        "  \n",
        "def prepare_singlelabel(words, tags):\n",
        "  \n",
        "  # prepare x\n",
        "  x = np.array(words)\n",
        "  tok = Tokenizer()\n",
        "  tok.fit_on_texts(x)\n",
        "  x = tok.texts_to_sequences(x)\n",
        "  x = sequence.pad_sequences(x, maxlen=1, padding='post')\n",
        "  x = np.array(x)\n",
        "    \n",
        "  # prepare y\n",
        "  le = LabelEncoder()\n",
        "  labels = le.fit_transform(tags)\n",
        "  enc = LabelBinarizer()\n",
        "  y = enc.fit_transform(labels)\n",
        "  \n",
        "  print(enc.classes_)\n",
        "  print(y[0])\n",
        "  print(y.shape)\n",
        "  \n",
        "  return x, y, le, enc, tok"
      ],
      "execution_count": 0,
      "outputs": []
    },
    {
      "cell_type": "code",
      "metadata": {
        "id": "ui7wvMT39E3a",
        "colab_type": "code",
        "outputId": "ceab0c1a-cf8f-4a64-efaf-55ad735fc0f1",
        "colab": {
          "base_uri": "https://localhost:8080/",
          "height": 72
        }
      },
      "source": [
        "# x, y = get_multilabel()\n",
        "x, y, (le, enc), tok = get_singlelabel()"
      ],
      "execution_count": 0,
      "outputs": [
        {
          "output_type": "stream",
          "text": [
            "[ 0  1  2  3  4  5  6  7  8  9 10 11 12 13 14 15 16]\n",
            "[0 0 0 0 0 0 0 0 0 0 0 0 0 0 0 0 1]\n",
            "(253909, 17)\n"
          ],
          "name": "stdout"
        }
      ]
    },
    {
      "cell_type": "code",
      "metadata": {
        "id": "cFMOZw8v2yDm",
        "colab_type": "code",
        "outputId": "0c22af86-298a-4eb6-ce68-5d44e856bafd",
        "colab": {
          "base_uri": "https://localhost:8080/",
          "height": 35
        }
      },
      "source": [
        "!pip install dill"
      ],
      "execution_count": 0,
      "outputs": [
        {
          "output_type": "stream",
          "text": [
            "Requirement already satisfied: dill in /usr/local/lib/python3.6/dist-packages (0.3.0)\n"
          ],
          "name": "stdout"
        }
      ]
    },
    {
      "cell_type": "code",
      "metadata": {
        "id": "bHH_zQr0191Q",
        "colab_type": "code",
        "colab": {}
      },
      "source": [
        "import dill\n",
        "with open(\"data_utils.pkl\", \"wb\") as f:\n",
        "  dill.dump((x,y,le,enc,tok), f)"
      ],
      "execution_count": 0,
      "outputs": []
    },
    {
      "cell_type": "code",
      "metadata": {
        "id": "PLqgTQx7qd6P",
        "colab_type": "code",
        "outputId": "c1d9caf4-7967-421a-9aa0-ef2e65f631f7",
        "colab": {
          "base_uri": "https://localhost:8080/",
          "height": 54
        }
      },
      "source": [
        "print(len(x))\n",
        "print(len(y))"
      ],
      "execution_count": 0,
      "outputs": [
        {
          "output_type": "stream",
          "text": [
            "253909\n",
            "253909\n"
          ],
          "name": "stdout"
        }
      ]
    },
    {
      "cell_type": "code",
      "metadata": {
        "id": "d3GWQj79FS6J",
        "colab_type": "code",
        "colab": {}
      },
      "source": [
        " # print(tok.__dict__.keys())\n",
        "num_words = len(tok.word_index)"
      ],
      "execution_count": 0,
      "outputs": []
    },
    {
      "cell_type": "code",
      "metadata": {
        "id": "S4oCarG-7gx8",
        "colab_type": "code",
        "outputId": "25d10354-7173-4186-927c-7aacf0a54255",
        "colab": {
          "base_uri": "https://localhost:8080/",
          "height": 35
        }
      },
      "source": [
        "num_words"
      ],
      "execution_count": 0,
      "outputs": [
        {
          "output_type": "execute_result",
          "data": {
            "text/plain": [
              "14950"
            ]
          },
          "metadata": {
            "tags": []
          },
          "execution_count": 341
        }
      ]
    },
    {
      "cell_type": "code",
      "metadata": {
        "trusted": true,
        "id": "bjbwy1QJmjtn",
        "colab_type": "code",
        "outputId": "70055da9-a09c-4b11-9900-3f5077b5ccb3",
        "colab": {
          "base_uri": "https://localhost:8080/",
          "height": 35
        }
      },
      "source": [
        "# classes = filtered_df['tag'].unique()\n",
        "num_classes = y.shape[1]\n",
        "num_classes"
      ],
      "execution_count": 0,
      "outputs": [
        {
          "output_type": "execute_result",
          "data": {
            "text/plain": [
              "17"
            ]
          },
          "metadata": {
            "tags": []
          },
          "execution_count": 300
        }
      ]
    },
    {
      "cell_type": "markdown",
      "metadata": {
        "id": "ckDSgZOVmjt1",
        "colab_type": "text"
      },
      "source": [
        "Splitting Train and test data"
      ]
    },
    {
      "cell_type": "code",
      "metadata": {
        "trusted": true,
        "id": "b_a2CnkQmjt2",
        "colab_type": "code",
        "outputId": "d3b74bf5-304d-44dc-da2b-50c62e2f22de",
        "colab": {
          "base_uri": "https://localhost:8080/",
          "height": 54
        }
      },
      "source": [
        "x_train, x_test, y_train, y_test = train_test_split(x, y, test_size=0.3, random_state=0)\n",
        "print(x_train.shape)\n",
        "print(y_train.shape)"
      ],
      "execution_count": 0,
      "outputs": [
        {
          "output_type": "stream",
          "text": [
            "(177736, 1)\n",
            "(177736, 17)\n"
          ],
          "name": "stdout"
        }
      ]
    },
    {
      "cell_type": "code",
      "metadata": {
        "id": "dRsuFt3t1rzr",
        "colab_type": "code",
        "colab": {}
      },
      "source": [
        "def hyperas_data_fn():\n",
        "  import dill\n",
        "  with open(\"data_utils.pkl\", \"rb\") as f:\n",
        "    x,y,le,enc,tok = dill.load(f)\n",
        "    return x,y,le,enc,tok "
      ],
      "execution_count": 0,
      "outputs": []
    },
    {
      "cell_type": "code",
      "metadata": {
        "trusted": true,
        "id": "zUmfE7PTmjt8",
        "colab_type": "code",
        "colab": {}
      },
      "source": [
        "import keras\n",
        "from keras.models import Sequential\n",
        "from keras.layers import Dense, Dropout, Activation, Embedding, GlobalMaxPooling1D\n",
        "from keras.optimizers import SGD\n",
        "from keras import backend as K\n",
        "  \n",
        "\n",
        "def recall_m(y_true, y_pred):\n",
        "        true_positives = K.sum(K.round(K.clip(y_true * y_pred, 0, 1)))\n",
        "        possible_positives = K.sum(K.round(K.clip(y_true, 0, 1)))\n",
        "        recall = true_positives / (possible_positives + K.epsilon())\n",
        "        return recall\n",
        "\n",
        "def precision_m(y_true, y_pred):\n",
        "        true_positives = K.sum(K.round(K.clip(y_true * y_pred, 0, 1)))\n",
        "        predicted_positives = K.sum(K.round(K.clip(y_pred, 0, 1)))\n",
        "        precision = true_positives / (predicted_positives + K.epsilon())\n",
        "        return precision\n",
        "\n",
        "def f1_m(y_true, y_pred):\n",
        "    precision = precision_m(y_true, y_pred)\n",
        "    recall = recall_m(y_true, y_pred)\n",
        "    return 2*((precision*recall)/(precision+recall+K.epsilon()))\n",
        "\n",
        "  \n",
        "def get_model(num_classes, num_words, embed_out=64, dense_1_nodes=64, dropout_1=0.5):\n",
        "    model = Sequential()\n",
        "    model.add(Embedding(num_words+1, embed_out, input_length=1, name='embedding_layer'))\n",
        "    model.add(GlobalMaxPooling1D())\n",
        "    model.add(Dense(dense_1_nodes, activation='relu', name='dense_1'))\n",
        "    model.add(Dropout(dropout_1))\n",
        "#     model.add(Dense(num_classes, activation='sigmoid')) # multilabel\n",
        "    model.add(Dense(num_classes, activation='sigmoid', name='output_layer')) #single label\n",
        "    model.compile(loss='categorical_crossentropy', optimizer='adam', metrics=['acc',f1_m,precision_m, recall_m])\n",
        "    return model"
      ],
      "execution_count": 0,
      "outputs": []
    },
    {
      "cell_type": "code",
      "metadata": {
        "id": "g6tcV-nky9R4",
        "colab_type": "code",
        "colab": {}
      },
      "source": [
        "import random\n",
        "\n",
        "def run_trials_single():\n",
        "  run_name = \"\" # what are you testing with this run\n",
        "  notes = \"\"\n",
        "\n",
        "  #hyperparams\n",
        "  hyperparams = dict(\n",
        "    embed_out =random.randint(8,256),\n",
        "    dense_1_nodes = random.randint(8,256),\n",
        "    dropout_1=random.uniform(0,0.95),\n",
        "  )\n",
        "\n",
        "  config= {\n",
        "      \"epochs\": 50,\n",
        "      \"num_classes\":num_classes,\n",
        "      \"num_words\": num_words,\n",
        "      \"batch_size\":batch_size,\n",
        "      **hyperparams\n",
        "  }\n",
        "\n",
        "  model = get_model(num_classes, num_words, **hyperparams)\n",
        "\n",
        "  wandb.init(project=\"16-class-ner\", name=run_name, config=config, notes=notes)\n",
        "\n",
        "  history = model.fit(x_train, y_train, batch_size=config['batch_size'], epochs=config['epochs'], \n",
        "            validation_split=0.2, callbacks=[WandbCallback()])\n",
        "\n",
        "  scores = model.evaluate(x_test, y_test)\n",
        "  wandb.log({'test_'+metric: scores[index] for index, metric in enumerate(model.metrics_names)})\n",
        "  print(\"\\n*** Finished! ***\")"
      ],
      "execution_count": 0,
      "outputs": []
    },
    {
      "cell_type": "code",
      "metadata": {
        "id": "uZDlqs4C9JkG",
        "colab_type": "code",
        "outputId": "256e2c94-be9d-4139-983b-bd96e4533883",
        "colab": {
          "base_uri": "https://localhost:8080/",
          "height": 348
        }
      },
      "source": [
        "for x in range(0,100):\n",
        "  run_trials_single()"
      ],
      "execution_count": 0,
      "outputs": [
        {
          "output_type": "display_data",
          "data": {
            "text/html": [
              "\n",
              "        Notebook configured with <a href=\"https://wandb.com\" target=\"_blank\">W&B</a>. You can <a href=\"https://app.wandb.ai/jeremy/16-class-ner/runs/oqmrzqs0\" target=\"_blank\">open</a> the run page, or call <code>%%wandb</code>\n",
              "        in a cell containing your training loop to display live results.  Learn more in our <a href=\"https://docs.wandb.com/docs/integrations/jupyter.html\" target=\"_blank\">docs</a>.\n",
              "    "
            ],
            "text/plain": [
              "<IPython.core.display.HTML object>"
            ]
          },
          "metadata": {
            "tags": []
          }
        },
        {
          "output_type": "stream",
          "text": [
            "Train on 142188 samples, validate on 35548 samples\n",
            "Epoch 1/50\n",
            "142188/142188 [==============================] - 9s 61us/step - loss: 1.4104 - acc: 0.8390 - f1_m: 0.7810 - precision_m: 0.7365 - recall_m: 0.8951 - val_loss: 0.5011 - val_acc: 0.8652 - val_f1_m: 0.8735 - val_precision_m: 0.8368 - val_recall_m: 0.9137\n",
            "Epoch 2/50\n",
            "142188/142188 [==============================] - 6s 44us/step - loss: 0.3394 - acc: 0.9145 - f1_m: 0.9105 - precision_m: 0.8960 - recall_m: 0.9261 - val_loss: 0.3102 - val_acc: 0.9273 - val_f1_m: 0.9229 - val_precision_m: 0.9254 - val_recall_m: 0.9204\n",
            "Epoch 3/50\n",
            "142188/142188 [==============================] - 6s 44us/step - loss: 0.2198 - acc: 0.9407 - f1_m: 0.9356 - precision_m: 0.9361 - recall_m: 0.9351 - val_loss: 0.2824 - val_acc: 0.9286 - val_f1_m: 0.9219 - val_precision_m: 0.9300 - val_recall_m: 0.9140\n",
            "Epoch 4/50\n",
            "142188/142188 [==============================] - 6s 44us/step - loss: 0.1881 - acc: 0.9440 - f1_m: 0.9382 - precision_m: 0.9374 - recall_m: 0.9389 - val_loss: 0.2788 - val_acc: 0.9286 - val_f1_m: 0.9221 - val_precision_m: 0.9334 - val_recall_m: 0.9112\n",
            "Epoch 5/50\n",
            "142188/142188 [==============================] - 6s 43us/step - loss: 0.1757 - acc: 0.9458 - f1_m: 0.9400 - precision_m: 0.9370 - recall_m: 0.9431 - val_loss: 0.2787 - val_acc: 0.9290 - val_f1_m: 0.9225 - val_precision_m: 0.9291 - val_recall_m: 0.9159\n",
            "Epoch 6/50\n",
            "142188/142188 [==============================] - 6s 44us/step - loss: 0.1697 - acc: 0.9466 - f1_m: 0.9416 - precision_m: 0.9345 - recall_m: 0.9487 - val_loss: 0.2812 - val_acc: 0.9293 - val_f1_m: 0.9219 - val_precision_m: 0.9283 - val_recall_m: 0.9156\n",
            "Epoch 7/50\n",
            " 66560/142188 [=============>................] - ETA: 3s - loss: 0.1618 - acc: 0.9475 - f1_m: 0.9427 - precision_m: 0.9348 - recall_m: 0.9508"
          ],
          "name": "stdout"
        }
      ]
    },
    {
      "cell_type": "code",
      "metadata": {
        "trusted": true,
        "id": "10Hm3ZRPmjuZ",
        "colab_type": "code",
        "outputId": "2ba345fd-4292-4bdc-e7c2-21b6d0884e58",
        "colab": {
          "base_uri": "https://localhost:8080/",
          "height": 1000
        }
      },
      "source": [
        "from hyperopt import Trials, STATUS_OK, tpe\n",
        "from hyperas import optim\n",
        "from hyperas.distributions import choice, uniform\n",
        "\n",
        "\n",
        "def run_trials():\n",
        "  run_name = \"\"\n",
        "\n",
        "  hyperparams = dict(\n",
        "    embed_out =32,\n",
        "    dense_1_nodes = 24,\n",
        "    dropout_1=0.3,\n",
        "  )\n",
        "\n",
        "  config= {\n",
        "      \"epochs\": 50,\n",
        "      \"num_classes\":17,\n",
        "      \"num_words\": 14950,\n",
        "      \"batch_size\":{{choice([64, 128])}},\n",
        "      **hyperparams\n",
        "  }\n",
        "  \n",
        "  model = Sequential()\n",
        "  model.add(Embedding(num_words+1, {{uniform(10,256)}}, input_length=1, name='embedding_layer'))\n",
        "  model.add(GlobalMaxPooling1D())\n",
        "  model.add(Dense({{uniform(10,128)}}, activation={{choice(['relu', 'sigmoid'])}}, name='dense_1'))\n",
        "  model.add(Dropout({{uniform(10,256)}}))\n",
        "  model.add(Dense(num_classes, activation='sigmoid', name='output_layer'))\n",
        "  model.compile(loss='categorical_crossentropy', optimizer={{choice(['rmsprop', 'adam', 'sgd'])}}, metrics=['acc',f1_m,precision_m, recall_m])\n",
        "  \n",
        "  model = get_model(num_classes, num_words, **hyperparams)\n",
        "\n",
        "  wandb.init(project=\"16-class-ner\", name=run_name, config=config, notes=notes)\n",
        "\n",
        "  history = model.fit(x_train, y_train, batch_size=config['batch_size'], epochs=config['epochs'], validation_split=0.2, callbacks=[WandbCallback()])\n",
        "\n",
        "  scores = model.evaluate(x_test, y_test)\n",
        "  wandb.log({'test_'+metric: scores[index] for index, metric in enumerate(model.metrics_names)})\n",
        "  print(\"\\n*** Finished! ***\")\n",
        "\n",
        "  validation_acc = np.amax(history.history['val_acc']) \n",
        "  print('Best validation acc of epoch:', validation_acc)\n",
        "  return {'loss': -validation_acc, 'status': STATUS_OK, 'model': model}\n",
        "\n",
        "best_run, best_model = optim.minimize(model=run_trials, data=hyperas_data_fn, algo=tpe.suggest, max_evals=100, trials=Trials(),notebook_name='16_class_ner(1)')"
      ],
      "execution_count": 0,
      "outputs": [
        {
          "output_type": "stream",
          "text": [
            ">>> Imports:\n",
            "#coding=utf-8\n",
            "\n",
            "try:\n",
            "    import wandb\n",
            "except:\n",
            "    pass\n",
            "\n",
            "try:\n",
            "    from wandb.keras import WandbCallback\n",
            "except:\n",
            "    pass\n",
            "\n",
            "try:\n",
            "    import json\n",
            "except:\n",
            "    pass\n",
            "\n",
            "try:\n",
            "    import pandas as pd\n",
            "except:\n",
            "    pass\n",
            "\n",
            "try:\n",
            "    import numpy as np\n",
            "except:\n",
            "    pass\n",
            "\n",
            "try:\n",
            "    from sklearn.feature_extraction import DictVectorizer\n",
            "except:\n",
            "    pass\n",
            "\n",
            "try:\n",
            "    from sklearn.linear_model import Perceptron\n",
            "except:\n",
            "    pass\n",
            "\n",
            "try:\n",
            "    from sklearn.model_selection import train_test_split\n",
            "except:\n",
            "    pass\n",
            "\n",
            "try:\n",
            "    from sklearn.metrics import precision_recall_fscore_support, f1_score\n",
            "except:\n",
            "    pass\n",
            "\n",
            "try:\n",
            "    import keras\n",
            "except:\n",
            "    pass\n",
            "\n",
            "try:\n",
            "    from keras.preprocessing.text import *\n",
            "except:\n",
            "    pass\n",
            "\n",
            "try:\n",
            "    from keras.preprocessing import *\n",
            "except:\n",
            "    pass\n",
            "\n",
            "try:\n",
            "    from sklearn.preprocessing import OneHotEncoder, LabelBinarizer, MultiLabelBinarizer, LabelEncoder\n",
            "except:\n",
            "    pass\n",
            "\n",
            "try:\n",
            "    import dill\n",
            "except:\n",
            "    pass\n",
            "\n",
            "try:\n",
            "    import dill\n",
            "except:\n",
            "    pass\n",
            "\n",
            "try:\n",
            "    import keras\n",
            "except:\n",
            "    pass\n",
            "\n",
            "try:\n",
            "    from keras.models import Sequential\n",
            "except:\n",
            "    pass\n",
            "\n",
            "try:\n",
            "    from keras.layers import Dense, Dropout, Activation, Embedding, GlobalMaxPooling1D\n",
            "except:\n",
            "    pass\n",
            "\n",
            "try:\n",
            "    from keras.optimizers import SGD\n",
            "except:\n",
            "    pass\n",
            "\n",
            "try:\n",
            "    from keras import backend as K\n",
            "except:\n",
            "    pass\n",
            "\n",
            "try:\n",
            "    from hyperopt import Trials, STATUS_OK, tpe\n",
            "except:\n",
            "    pass\n",
            "\n",
            "try:\n",
            "    from hyperas import optim\n",
            "except:\n",
            "    pass\n",
            "\n",
            "try:\n",
            "    from hyperas.distributions import choice, uniform\n",
            "except:\n",
            "    pass\n",
            "\n"
          ],
          "name": "stdout"
        },
        {
          "output_type": "error",
          "ename": "IndexError",
          "evalue": "ignored",
          "traceback": [
            "\u001b[0;31m---------------------------------------------------------------------------\u001b[0m",
            "\u001b[0;31mIndexError\u001b[0m                                Traceback (most recent call last)",
            "\u001b[0;32m<ipython-input-345-3764800f045d>\u001b[0m in \u001b[0;36m<module>\u001b[0;34m()\u001b[0m\n\u001b[1;32m     43\u001b[0m   \u001b[0;32mreturn\u001b[0m \u001b[0;34m{\u001b[0m\u001b[0;34m'loss'\u001b[0m\u001b[0;34m:\u001b[0m \u001b[0;34m-\u001b[0m\u001b[0mvalidation_acc\u001b[0m\u001b[0;34m,\u001b[0m \u001b[0;34m'status'\u001b[0m\u001b[0;34m:\u001b[0m \u001b[0mSTATUS_OK\u001b[0m\u001b[0;34m,\u001b[0m \u001b[0;34m'model'\u001b[0m\u001b[0;34m:\u001b[0m \u001b[0mmodel\u001b[0m\u001b[0;34m}\u001b[0m\u001b[0;34m\u001b[0m\u001b[0;34m\u001b[0m\u001b[0m\n\u001b[1;32m     44\u001b[0m \u001b[0;34m\u001b[0m\u001b[0m\n\u001b[0;32m---> 45\u001b[0;31m \u001b[0mbest_run\u001b[0m\u001b[0;34m,\u001b[0m \u001b[0mbest_model\u001b[0m \u001b[0;34m=\u001b[0m \u001b[0moptim\u001b[0m\u001b[0;34m.\u001b[0m\u001b[0mminimize\u001b[0m\u001b[0;34m(\u001b[0m\u001b[0mmodel\u001b[0m\u001b[0;34m=\u001b[0m\u001b[0mrun_trials\u001b[0m\u001b[0;34m,\u001b[0m \u001b[0mdata\u001b[0m\u001b[0;34m=\u001b[0m\u001b[0mhyperas_data_fn\u001b[0m\u001b[0;34m,\u001b[0m \u001b[0malgo\u001b[0m\u001b[0;34m=\u001b[0m\u001b[0mtpe\u001b[0m\u001b[0;34m.\u001b[0m\u001b[0msuggest\u001b[0m\u001b[0;34m,\u001b[0m \u001b[0mmax_evals\u001b[0m\u001b[0;34m=\u001b[0m\u001b[0;36m100\u001b[0m\u001b[0;34m,\u001b[0m \u001b[0mtrials\u001b[0m\u001b[0;34m=\u001b[0m\u001b[0mTrials\u001b[0m\u001b[0;34m(\u001b[0m\u001b[0;34m)\u001b[0m\u001b[0;34m,\u001b[0m\u001b[0mnotebook_name\u001b[0m\u001b[0;34m=\u001b[0m\u001b[0;34m'16_class_ner(1)'\u001b[0m\u001b[0;34m)\u001b[0m\u001b[0;34m\u001b[0m\u001b[0;34m\u001b[0m\u001b[0m\n\u001b[0m",
            "\u001b[0;32m/usr/local/lib/python3.6/dist-packages/hyperas/optim.py\u001b[0m in \u001b[0;36mminimize\u001b[0;34m(model, data, algo, max_evals, trials, functions, rseed, notebook_name, verbose, eval_space, return_space, keep_temp)\u001b[0m\n\u001b[1;32m     67\u001b[0m                                      \u001b[0mnotebook_name\u001b[0m\u001b[0;34m=\u001b[0m\u001b[0mnotebook_name\u001b[0m\u001b[0;34m,\u001b[0m\u001b[0;34m\u001b[0m\u001b[0;34m\u001b[0m\u001b[0m\n\u001b[1;32m     68\u001b[0m                                      \u001b[0mverbose\u001b[0m\u001b[0;34m=\u001b[0m\u001b[0mverbose\u001b[0m\u001b[0;34m,\u001b[0m\u001b[0;34m\u001b[0m\u001b[0;34m\u001b[0m\u001b[0m\n\u001b[0;32m---> 69\u001b[0;31m                                      keep_temp=keep_temp)\n\u001b[0m\u001b[1;32m     70\u001b[0m \u001b[0;34m\u001b[0m\u001b[0m\n\u001b[1;32m     71\u001b[0m     \u001b[0mbest_model\u001b[0m \u001b[0;34m=\u001b[0m \u001b[0;32mNone\u001b[0m\u001b[0;34m\u001b[0m\u001b[0;34m\u001b[0m\u001b[0m\n",
            "\u001b[0;32m/usr/local/lib/python3.6/dist-packages/hyperas/optim.py\u001b[0m in \u001b[0;36mbase_minimizer\u001b[0;34m(model, data, functions, algo, max_evals, trials, rseed, full_model_string, notebook_name, verbose, stack, keep_temp)\u001b[0m\n\u001b[1;32m     96\u001b[0m         \u001b[0mmodel_str\u001b[0m \u001b[0;34m=\u001b[0m \u001b[0mfull_model_string\u001b[0m\u001b[0;34m\u001b[0m\u001b[0;34m\u001b[0m\u001b[0m\n\u001b[1;32m     97\u001b[0m     \u001b[0;32melse\u001b[0m\u001b[0;34m:\u001b[0m\u001b[0;34m\u001b[0m\u001b[0;34m\u001b[0m\u001b[0m\n\u001b[0;32m---> 98\u001b[0;31m         \u001b[0mmodel_str\u001b[0m \u001b[0;34m=\u001b[0m \u001b[0mget_hyperopt_model_string\u001b[0m\u001b[0;34m(\u001b[0m\u001b[0mmodel\u001b[0m\u001b[0;34m,\u001b[0m \u001b[0mdata\u001b[0m\u001b[0;34m,\u001b[0m \u001b[0mfunctions\u001b[0m\u001b[0;34m,\u001b[0m \u001b[0mnotebook_name\u001b[0m\u001b[0;34m,\u001b[0m \u001b[0mverbose\u001b[0m\u001b[0;34m,\u001b[0m \u001b[0mstack\u001b[0m\u001b[0;34m)\u001b[0m\u001b[0;34m\u001b[0m\u001b[0;34m\u001b[0m\u001b[0m\n\u001b[0m\u001b[1;32m     99\u001b[0m     \u001b[0mtemp_file\u001b[0m \u001b[0;34m=\u001b[0m \u001b[0;34m'./temp_model.py'\u001b[0m\u001b[0;34m\u001b[0m\u001b[0;34m\u001b[0m\u001b[0m\n\u001b[1;32m    100\u001b[0m     \u001b[0mwrite_temp_files\u001b[0m\u001b[0;34m(\u001b[0m\u001b[0mmodel_str\u001b[0m\u001b[0;34m,\u001b[0m \u001b[0mtemp_file\u001b[0m\u001b[0;34m)\u001b[0m\u001b[0;34m\u001b[0m\u001b[0;34m\u001b[0m\u001b[0m\n",
            "\u001b[0;32m/usr/local/lib/python3.6/dist-packages/hyperas/optim.py\u001b[0m in \u001b[0;36mget_hyperopt_model_string\u001b[0;34m(model, data, functions, notebook_name, verbose, stack)\u001b[0m\n\u001b[1;32m    189\u001b[0m     \u001b[0mimports\u001b[0m \u001b[0;34m=\u001b[0m \u001b[0mextract_imports\u001b[0m\u001b[0;34m(\u001b[0m\u001b[0mcleaned_source\u001b[0m\u001b[0;34m,\u001b[0m \u001b[0mverbose\u001b[0m\u001b[0;34m)\u001b[0m\u001b[0;34m\u001b[0m\u001b[0;34m\u001b[0m\u001b[0m\n\u001b[1;32m    190\u001b[0m \u001b[0;34m\u001b[0m\u001b[0m\n\u001b[0;32m--> 191\u001b[0;31m     \u001b[0mparts\u001b[0m \u001b[0;34m=\u001b[0m \u001b[0mhyperparameter_names\u001b[0m\u001b[0;34m(\u001b[0m\u001b[0mmodel_string\u001b[0m\u001b[0;34m)\u001b[0m\u001b[0;34m\u001b[0m\u001b[0;34m\u001b[0m\u001b[0m\n\u001b[0m\u001b[1;32m    192\u001b[0m     \u001b[0maug_parts\u001b[0m \u001b[0;34m=\u001b[0m \u001b[0maugmented_names\u001b[0m\u001b[0;34m(\u001b[0m\u001b[0mparts\u001b[0m\u001b[0;34m)\u001b[0m\u001b[0;34m\u001b[0m\u001b[0;34m\u001b[0m\u001b[0m\n\u001b[1;32m    193\u001b[0m \u001b[0;34m\u001b[0m\u001b[0m\n",
            "\u001b[0;32m/usr/local/lib/python3.6/dist-packages/hyperas/optim.py\u001b[0m in \u001b[0;36mhyperparameter_names\u001b[0;34m(model_string)\u001b[0m\n\u001b[1;32m    256\u001b[0m             \u001b[0mparts\u001b[0m\u001b[0;34m.\u001b[0m\u001b[0mappend\u001b[0m\u001b[0;34m(\u001b[0m\u001b[0mname\u001b[0m\u001b[0;34m[\u001b[0m\u001b[0;36m0\u001b[0m\u001b[0;34m]\u001b[0m\u001b[0;34m)\u001b[0m\u001b[0;34m\u001b[0m\u001b[0;34m\u001b[0m\u001b[0m\n\u001b[1;32m    257\u001b[0m         \u001b[0;32melse\u001b[0m\u001b[0;34m:\u001b[0m\u001b[0;34m\u001b[0m\u001b[0;34m\u001b[0m\u001b[0m\n\u001b[0;32m--> 258\u001b[0;31m             \u001b[0mparts\u001b[0m\u001b[0;34m.\u001b[0m\u001b[0mappend\u001b[0m\u001b[0;34m(\u001b[0m\u001b[0mparts\u001b[0m\u001b[0;34m[\u001b[0m\u001b[0;34m-\u001b[0m\u001b[0;36m1\u001b[0m\u001b[0;34m]\u001b[0m\u001b[0;34m)\u001b[0m\u001b[0;34m\u001b[0m\u001b[0;34m\u001b[0m\u001b[0m\n\u001b[0m\u001b[1;32m    259\u001b[0m     \u001b[0mpart_dict\u001b[0m \u001b[0;34m=\u001b[0m \u001b[0;34m{\u001b[0m\u001b[0;34m}\u001b[0m\u001b[0;34m\u001b[0m\u001b[0;34m\u001b[0m\u001b[0m\n\u001b[1;32m    260\u001b[0m     \u001b[0;32mfor\u001b[0m \u001b[0mi\u001b[0m\u001b[0;34m,\u001b[0m \u001b[0mpart\u001b[0m \u001b[0;32min\u001b[0m \u001b[0menumerate\u001b[0m\u001b[0;34m(\u001b[0m\u001b[0mparts\u001b[0m\u001b[0;34m)\u001b[0m\u001b[0;34m:\u001b[0m\u001b[0;34m\u001b[0m\u001b[0;34m\u001b[0m\u001b[0m\n",
            "\u001b[0;31mIndexError\u001b[0m: list index out of range"
          ]
        }
      ]
    },
    {
      "cell_type": "code",
      "metadata": {
        "id": "jz9VTz8dydHb",
        "colab_type": "code",
        "outputId": "d8464b02-33ee-4813-86cb-363facdab60d",
        "colab": {
          "base_uri": "https://localhost:8080/",
          "height": 1000
        }
      },
      "source": [
        "!pip install hyperas"
      ],
      "execution_count": 0,
      "outputs": [
        {
          "output_type": "stream",
          "text": [
            "Collecting hyperas\n",
            "  Downloading https://files.pythonhosted.org/packages/04/34/87ad6ffb42df9c1fa9c4c906f65813d42ad70d68c66af4ffff048c228cd4/hyperas-0.4.1-py3-none-any.whl\n",
            "Requirement already satisfied: keras in /usr/local/lib/python3.6/dist-packages (from hyperas) (2.2.4)\n",
            "Requirement already satisfied: nbformat in /usr/local/lib/python3.6/dist-packages (from hyperas) (4.4.0)\n",
            "Requirement already satisfied: jupyter in /usr/local/lib/python3.6/dist-packages (from hyperas) (1.0.0)\n",
            "Requirement already satisfied: nbconvert in /usr/local/lib/python3.6/dist-packages (from hyperas) (5.5.0)\n",
            "Requirement already satisfied: hyperopt in /usr/local/lib/python3.6/dist-packages (from hyperas) (0.1.2)\n",
            "Requirement already satisfied: entrypoints in /usr/local/lib/python3.6/dist-packages (from hyperas) (0.3)\n",
            "Requirement already satisfied: scipy>=0.14 in /usr/local/lib/python3.6/dist-packages (from keras->hyperas) (1.3.0)\n",
            "Requirement already satisfied: h5py in /usr/local/lib/python3.6/dist-packages (from keras->hyperas) (2.8.0)\n",
            "Requirement already satisfied: six>=1.9.0 in /usr/local/lib/python3.6/dist-packages (from keras->hyperas) (1.12.0)\n",
            "Requirement already satisfied: pyyaml in /usr/local/lib/python3.6/dist-packages (from keras->hyperas) (3.13)\n",
            "Requirement already satisfied: numpy>=1.9.1 in /usr/local/lib/python3.6/dist-packages (from keras->hyperas) (1.16.4)\n",
            "Requirement already satisfied: keras-applications>=1.0.6 in /usr/local/lib/python3.6/dist-packages (from keras->hyperas) (1.0.8)\n",
            "Requirement already satisfied: keras-preprocessing>=1.0.5 in /usr/local/lib/python3.6/dist-packages (from keras->hyperas) (1.1.0)\n",
            "Requirement already satisfied: jupyter-core in /usr/local/lib/python3.6/dist-packages (from nbformat->hyperas) (4.5.0)\n",
            "Requirement already satisfied: traitlets>=4.1 in /usr/local/lib/python3.6/dist-packages (from nbformat->hyperas) (4.3.2)\n",
            "Requirement already satisfied: ipython-genutils in /usr/local/lib/python3.6/dist-packages (from nbformat->hyperas) (0.2.0)\n",
            "Requirement already satisfied: jsonschema!=2.5.0,>=2.4 in /usr/local/lib/python3.6/dist-packages (from nbformat->hyperas) (2.6.0)\n",
            "Requirement already satisfied: ipywidgets in /usr/local/lib/python3.6/dist-packages (from jupyter->hyperas) (7.5.0)\n",
            "Requirement already satisfied: ipykernel in /usr/local/lib/python3.6/dist-packages (from jupyter->hyperas) (4.6.1)\n",
            "Requirement already satisfied: notebook in /usr/local/lib/python3.6/dist-packages (from jupyter->hyperas) (5.2.2)\n",
            "Requirement already satisfied: qtconsole in /usr/local/lib/python3.6/dist-packages (from jupyter->hyperas) (4.5.1)\n",
            "Requirement already satisfied: jupyter-console in /usr/local/lib/python3.6/dist-packages (from jupyter->hyperas) (6.0.0)\n",
            "Requirement already satisfied: pygments in /usr/local/lib/python3.6/dist-packages (from nbconvert->hyperas) (2.1.3)\n",
            "Requirement already satisfied: testpath in /usr/local/lib/python3.6/dist-packages (from nbconvert->hyperas) (0.4.2)\n",
            "Requirement already satisfied: mistune>=0.8.1 in /usr/local/lib/python3.6/dist-packages (from nbconvert->hyperas) (0.8.4)\n",
            "Requirement already satisfied: pandocfilters>=1.4.1 in /usr/local/lib/python3.6/dist-packages (from nbconvert->hyperas) (1.4.2)\n",
            "Requirement already satisfied: bleach in /usr/local/lib/python3.6/dist-packages (from nbconvert->hyperas) (3.1.0)\n",
            "Requirement already satisfied: defusedxml in /usr/local/lib/python3.6/dist-packages (from nbconvert->hyperas) (0.6.0)\n",
            "Requirement already satisfied: jinja2>=2.4 in /usr/local/lib/python3.6/dist-packages (from nbconvert->hyperas) (2.10.1)\n",
            "Requirement already satisfied: tqdm in /usr/local/lib/python3.6/dist-packages (from hyperopt->hyperas) (4.28.1)\n",
            "Requirement already satisfied: future in /usr/local/lib/python3.6/dist-packages (from hyperopt->hyperas) (0.16.0)\n",
            "Requirement already satisfied: networkx in /usr/local/lib/python3.6/dist-packages (from hyperopt->hyperas) (2.3)\n",
            "Requirement already satisfied: pymongo in /usr/local/lib/python3.6/dist-packages (from hyperopt->hyperas) (3.8.0)\n",
            "Requirement already satisfied: decorator in /usr/local/lib/python3.6/dist-packages (from traitlets>=4.1->nbformat->hyperas) (4.4.0)\n",
            "Requirement already satisfied: widgetsnbextension~=3.5.0 in /usr/local/lib/python3.6/dist-packages (from ipywidgets->jupyter->hyperas) (3.5.0)\n",
            "Requirement already satisfied: ipython>=4.0.0; python_version >= \"3.3\" in /usr/local/lib/python3.6/dist-packages (from ipywidgets->jupyter->hyperas) (5.5.0)\n",
            "Requirement already satisfied: jupyter-client in /usr/local/lib/python3.6/dist-packages (from ipykernel->jupyter->hyperas) (5.3.1)\n",
            "Requirement already satisfied: tornado>=4.0 in /usr/local/lib/python3.6/dist-packages (from ipykernel->jupyter->hyperas) (4.5.3)\n",
            "Requirement already satisfied: terminado>=0.3.3; sys_platform != \"win32\" in /usr/local/lib/python3.6/dist-packages (from notebook->jupyter->hyperas) (0.8.2)\n",
            "Collecting prompt-toolkit<2.1.0,>=2.0.0 (from jupyter-console->jupyter->hyperas)\n",
            "\u001b[?25l  Downloading https://files.pythonhosted.org/packages/f7/a7/9b1dd14ef45345f186ef69d175bdd2491c40ab1dfa4b2b3e4352df719ed7/prompt_toolkit-2.0.9-py3-none-any.whl (337kB)\n",
            "\u001b[K     |████████████████████████████████| 337kB 7.4MB/s \n",
            "\u001b[?25hRequirement already satisfied: webencodings in /usr/local/lib/python3.6/dist-packages (from bleach->nbconvert->hyperas) (0.5.1)\n",
            "Requirement already satisfied: MarkupSafe>=0.23 in /usr/local/lib/python3.6/dist-packages (from jinja2>=2.4->nbconvert->hyperas) (1.1.1)\n",
            "Requirement already satisfied: pickleshare in /usr/local/lib/python3.6/dist-packages (from ipython>=4.0.0; python_version >= \"3.3\"->ipywidgets->jupyter->hyperas) (0.7.5)\n",
            "Requirement already satisfied: simplegeneric>0.8 in /usr/local/lib/python3.6/dist-packages (from ipython>=4.0.0; python_version >= \"3.3\"->ipywidgets->jupyter->hyperas) (0.8.1)\n",
            "Requirement already satisfied: setuptools>=18.5 in /usr/local/lib/python3.6/dist-packages (from ipython>=4.0.0; python_version >= \"3.3\"->ipywidgets->jupyter->hyperas) (41.0.1)\n",
            "Requirement already satisfied: pexpect; sys_platform != \"win32\" in /usr/local/lib/python3.6/dist-packages (from ipython>=4.0.0; python_version >= \"3.3\"->ipywidgets->jupyter->hyperas) (4.7.0)\n",
            "Requirement already satisfied: python-dateutil>=2.1 in /usr/local/lib/python3.6/dist-packages (from jupyter-client->ipykernel->jupyter->hyperas) (2.8.0)\n",
            "Requirement already satisfied: pyzmq>=13 in /usr/local/lib/python3.6/dist-packages (from jupyter-client->ipykernel->jupyter->hyperas) (17.0.0)\n",
            "Requirement already satisfied: ptyprocess; os_name != \"nt\" in /usr/local/lib/python3.6/dist-packages (from terminado>=0.3.3; sys_platform != \"win32\"->notebook->jupyter->hyperas) (0.6.0)\n",
            "Requirement already satisfied: wcwidth in /usr/local/lib/python3.6/dist-packages (from prompt-toolkit<2.1.0,>=2.0.0->jupyter-console->jupyter->hyperas) (0.1.7)\n",
            "\u001b[31mERROR: ipython 5.5.0 has requirement prompt-toolkit<2.0.0,>=1.0.4, but you'll have prompt-toolkit 2.0.9 which is incompatible.\u001b[0m\n",
            "Installing collected packages: hyperas, prompt-toolkit\n",
            "  Found existing installation: prompt-toolkit 1.0.16\n",
            "    Uninstalling prompt-toolkit-1.0.16:\n",
            "      Successfully uninstalled prompt-toolkit-1.0.16\n",
            "Successfully installed hyperas-0.4.1 prompt-toolkit-2.0.9\n"
          ],
          "name": "stdout"
        },
        {
          "output_type": "display_data",
          "data": {
            "application/vnd.colab-display-data+json": {
              "pip_warning": {
                "packages": [
                  "prompt_toolkit"
                ]
              }
            }
          },
          "metadata": {
            "tags": []
          }
        }
      ]
    },
    {
      "cell_type": "code",
      "metadata": {
        "id": "jcmVbF-3fowT",
        "colab_type": "code",
        "outputId": "4c299d97-5b0a-40f8-9f11-ebbe5dfe17af",
        "colab": {
          "base_uri": "https://localhost:8080/",
          "height": 127
        }
      },
      "source": [
        "test_input = tok.texts_to_sequences(['prime'])\n",
        "print(test_input)\n",
        "pred = model.predict(test_input)\n",
        "np.argmax(pred)\n",
        "\n",
        "enc.__dict__"
      ],
      "execution_count": 0,
      "outputs": [
        {
          "output_type": "stream",
          "text": [
            "[[99]]\n"
          ],
          "name": "stdout"
        },
        {
          "output_type": "execute_result",
          "data": {
            "text/plain": [
              "{'_cached_dict': None,\n",
              " 'classes': None,\n",
              " 'classes_': array(['-', 'B', 'I', 'O', 'a', 'e', 'g', 'i', 'm', 'n', 'o', 'p', 'r',\n",
              "        't', 'v'], dtype=object),\n",
              " 'sparse_output': False}"
            ]
          },
          "metadata": {
            "tags": []
          },
          "execution_count": 209
        }
      ]
    },
    {
      "cell_type": "code",
      "metadata": {
        "id": "iW_fetF-PF7W",
        "colab_type": "code",
        "colab": {}
      },
      "source": [
        ""
      ],
      "execution_count": 0,
      "outputs": []
    }
  ]
}